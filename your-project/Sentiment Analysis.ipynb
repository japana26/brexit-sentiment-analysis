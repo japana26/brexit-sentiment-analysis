{
 "cells": [
  {
   "cell_type": "code",
   "execution_count": null,
   "metadata": {},
   "outputs": [],
   "source": [
    "import pandas as pd\n",
    "import numpy as np\n",
    "import matplotlib.pyplot as plt\n",
    "import seaborn as sns\n",
    "%matplotlib inline\n",
    "\n",
    "from nltk.sentiment.vader import SentimentIntensityAnalyzer\n",
    "from nltk.probability import FreqDist\n",
    "import nltk\n",
    "\n",
    "from sklearn.feature_extraction.text import CountVectorizer\n",
    "from sklearn.feature_extraction.text import TfidfVectorizer\n",
    "from sklearn.cluster import KMeans\n",
    "\n",
    "from datetime import datetime\n",
    "from wordcloud import WordCloud"
   ]
  },
  {
   "cell_type": "code",
   "execution_count": null,
   "metadata": {},
   "outputs": [],
   "source": [
    "cdf = pd.read_csv('cdf.csv')"
   ]
  },
  {
   "cell_type": "markdown",
   "metadata": {},
   "source": [
    "### Checking top words"
   ]
  },
  {
   "cell_type": "code",
   "execution_count": null,
   "metadata": {},
   "outputs": [],
   "source": [
    "words = [w for row in df_mb['TWEET_PROCESSED'] for w in row]\n",
    "pos_count = FreqDist(words)\n",
    "freq = pos_count.most_common(50)\n",
    "df_freq = pd.DataFrame(freq, columns=['WORD', 'FREQ'])\n",
    "df_freq.head(50)"
   ]
  },
  {
   "cell_type": "markdown",
   "metadata": {},
   "source": [
    "### Sentiment Analysys with nlkt vader"
   ]
  },
  {
   "cell_type": "code",
   "execution_count": null,
   "metadata": {},
   "outputs": [],
   "source": [
    "#with nlkt sentiment analysys\n",
    "sid = SentimentIntensityAnalyzer()\n",
    "\n",
    "df_mb['SENTIMENT_CP'] = df_mb['TWEET_CLEANED'].apply(lambda x: sid.polarity_scores(x)['compound'])\n",
    "df_mb['SENTIMENT_NEUT'] = df_mb['TWEET_CLEANED'].apply(lambda x: sid.polarity_scores(x)['neu'])\n",
    "df_mb['SENTIMENT_NEG'] = df_mb['TWEET_CLEANED'].apply(lambda x: sid.polarity_scores(x)['neg'])\n",
    "df_mb['SENTIMENT_POS'] = df_mb['TWEET_CLEANED'].apply(lambda x:sid.polarity_scores(x)['pos'])\n",
    "\n",
    "df_mb.loc[df_mb.SENTIMENT_CP > 0,'SENTIMENT'] = 'positive'\n",
    "df_mb.loc[df_mb.SENTIMENT_CP == 0,'SENTIMENT'] = 'neutral'\n",
    "df_mb.loc[df_mb.SENTIMENT_CP < 0,'SENTIMENT'] = 'negative'"
   ]
  },
  {
   "cell_type": "code",
   "execution_count": null,
   "metadata": {},
   "outputs": [],
   "source": [
    "df_test2.groupby('PM')['SENTIMENT_N'].value_counts()"
   ]
  },
  {
   "cell_type": "markdown",
   "metadata": {},
   "source": [
    "## Visualization"
   ]
  },
  {
   "cell_type": "code",
   "execution_count": null,
   "metadata": {},
   "outputs": [],
   "source": [
    "df_mb['SENTIMENT_N'] = df_mb['SENTIMENT'].apply(lambda x: 2 if x == 'positive' else (0 if x == 'negative' else 1))"
   ]
  },
  {
   "cell_type": "code",
   "execution_count": null,
   "metadata": {},
   "outputs": [],
   "source": [
    "plt.figure(figsize=(20,5))\n",
    "sns.lineplot(x='MONTH_INT', y='SENTIMENT_N', data=df_mb, hue='PM', marker='o')\n",
    "plt.title('Sentiment Analysis on Tweets 2019')\n",
    "plt.xticks(df_mb.MONTH_INT.unique(), rotation=90) \n",
    "plt.show()"
   ]
  },
  {
   "cell_type": "markdown",
   "metadata": {},
   "source": [
    "### WordClouds"
   ]
  },
  {
   "cell_type": "code",
   "execution_count": null,
   "metadata": {},
   "outputs": [],
   "source": [
    "#vectorizing with TfidfVectorizer for wordclous\n",
    "tweets = [tweet for tweet in df_mb['TEXT_CLEANED']]\n",
    "tfidf_vec = TfidfVectorizer(use_idf=True, ngram_range=(1,3))  \n",
    "tfidf_m = tfidf_vec.fit_transform(tweets)  \n",
    "feature_names = tfidf_vec.get_feature_names()  "
   ]
  },
  {
   "cell_type": "code",
   "execution_count": null,
   "metadata": {},
   "outputs": [],
   "source": [
    "wc = WordCloud(height=500, width=1000, max_words=1000).generate(\" \".join(feature_names))\n",
    "plt.figure(figsize=(10, 10))\n",
    "plt.imshow(wc)\n",
    "plt.axis(\"off\")\n",
    "plt.show()"
   ]
  }
 ],
 "metadata": {
  "kernelspec": {
   "display_name": "Python 3",
   "language": "python",
   "name": "python3"
  },
  "language_info": {
   "codemirror_mode": {
    "name": "ipython",
    "version": 3
   },
   "file_extension": ".py",
   "mimetype": "text/x-python",
   "name": "python",
   "nbconvert_exporter": "python",
   "pygments_lexer": "ipython3",
   "version": "3.7.4"
  }
 },
 "nbformat": 4,
 "nbformat_minor": 2
}
