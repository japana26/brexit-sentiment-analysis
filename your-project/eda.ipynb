{
 "cells": [
  {
   "cell_type": "markdown",
   "metadata": {},
   "source": [
    "### Imports"
   ]
  },
  {
   "cell_type": "code",
   "execution_count": 1,
   "metadata": {},
   "outputs": [],
   "source": [
    "import pandas as pd\n",
    "import numpy as np\n",
    "\n",
    "import re\n",
    "\n",
    "import matplotlib.pyplot as plt\n",
    "import seaborn as sns\n",
    "%matplotlib inline\n",
    "\n",
    "import glob\n",
    "import os\n",
    "\n",
    "from datetime import datetime\n",
    "\n",
    "from nltk.corpus import stopwords\n",
    "from nltk.tokenize import word_tokenize\n",
    "from nltk.stem import PorterStemmer \n",
    "from nltk.stem import WordNetLemmatizer \n",
    "from nltk.sentiment.vader import SentimentIntensityAnalyzer\n",
    "from nltk.tokenize import RegexpTokenizer\n",
    "from nltk import pos_tag, pos_tag_sents\n",
    "from nltk.probability import FreqDist\n",
    "from nltk.tag import StanfordNERTagger\n",
    "import nltk\n",
    "\n",
    "from sklearn.feature_extraction import text\n",
    "from sklearn.feature_extraction.text import CountVectorizer\n",
    "from sklearn.feature_extraction.text import TfidfVectorizer\n",
    "from sklearn.cluster import KMeans\n",
    "from sklearn.metrics import silhouette_score\n",
    "from sklearn import preprocessing\n",
    "\n",
    "from yellowbrick.cluster import KElbowVisualizer\n",
    "\n",
    "from textblob import TextBlob\n",
    "from collections import Counter"
   ]
  },
  {
   "cell_type": "code",
   "execution_count": 2,
   "metadata": {},
   "outputs": [],
   "source": [
    "pd.set_option('max_colwidth', 800)"
   ]
  },
  {
   "cell_type": "markdown",
   "metadata": {},
   "source": [
    "### Functions"
   ]
  },
  {
   "cell_type": "code",
   "execution_count": 3,
   "metadata": {},
   "outputs": [],
   "source": [
    "def clean_up(tweet):\n",
    "    tweet.lower()  #convert the tweet to lower case\n",
    "    tweet = re.sub('((www\\.[^\\s]+)|(https?://[^\\s]+))','URL',tweet)  #convert urls to string \"URL\"\n",
    "    tweet = re.sub('@[^\\s]+','AT_USER', tweet) #convert all @username to \"AT_USER\"\n",
    "    tweet = re.sub('[\\s]+', ' ', tweet)      #correct double white spaces to a single white space\n",
    "    tweet = re.sub(r'#([^\\s]+)', r'\\1', tweet)   #convert \"#topic\" to just \"topic\"\n",
    "    tweet = re.sub(r'\\W*\\b\\w{1,3}\\b', '', tweet)\n",
    "    tweet = re.sub('[^A-Za-z0-9]+', ' ', tweet)  #remove all ponctuation\n",
    "    return tweet\n",
    "\n",
    "def tokenize(s):\n",
    "    return word_tokenize(s)\n",
    "\n",
    "def stem_and_lemmatize(l):\n",
    "    l = ' '.join(l)\n",
    "    stem = PorterStemmer().stem(l)\n",
    "    lemm = WordNetLemmatizer().lemmatize(stem)\n",
    "    return lemm\n",
    "\n",
    "def remove_stopwords(l):\n",
    "    stop_words = set(stopwords.words('english')) \n",
    "    return [i for i in l.split() if i not in stop_words]\n",
    "\n",
    "stopwords_dict = {lang: set(nltk.corpus.stopwords.words(lang)) for lang in nltk.corpus.stopwords.fileids()}\n",
    "#function to detect language based on # of stop words for particular language\n",
    "def get_language(text):\n",
    "    words = set(nltk.wordpunct_tokenize(text.lower()))\n",
    "    lang = max(((lang, len(words & stopwords)) for lang, stopwords in stopwords_dict.items()), key = lambda x: x[1])[0]\n",
    "    return True if lang == 'english'else False\n",
    "    \n",
    "def get_pm(row):\n",
    "    pms = []\n",
    "    text = row[\"text\"].lower()\n",
    "    if \"boris\" in text or \"johnson\" in text:\n",
    "        pms.append(\"boris\")\n",
    "    elif \"theresa\" in text:\n",
    "        pms.append(\"may\")\n",
    "    else:\n",
    "        pms.append(\"none\") \n",
    "    return \",\".join(pms)"
   ]
  },
  {
   "cell_type": "markdown",
   "metadata": {},
   "source": [
    "### Data"
   ]
  },
  {
   "cell_type": "code",
   "execution_count": 5,
   "metadata": {},
   "outputs": [],
   "source": [
    "path = r'/Users/ironhack/Documents/GitHub/IronHack/W9FinalProject/final-project/your-project/tweets/2019' # use your path\n",
    "all_files = glob.glob(os.path.join(path, \"*.csv\"))\n",
    "li = []\n",
    "\n",
    "for filename in all_files:\n",
    "    df = pd.read_csv(filename, index_col=None, header=0)\n",
    "    li.append(df)\n",
    "\n",
    "df = pd.concat(li, axis=0, ignore_index=True)"
   ]
  },
  {
   "cell_type": "code",
   "execution_count": 6,
   "metadata": {},
   "outputs": [
    {
     "name": "stdout",
     "output_type": "stream",
     "text": [
      "<class 'pandas.core.frame.DataFrame'>\n",
      "RangeIndex: 160000 entries, 0 to 159999\n",
      "Data columns (total 15 columns):\n",
      "username          160000 non-null object\n",
      "to                99155 non-null object\n",
      "text              159583 non-null object\n",
      "retweets          160000 non-null int64\n",
      "favorites         160000 non-null int64\n",
      "replies           160000 non-null int64\n",
      "id                160000 non-null int64\n",
      "permalink         160000 non-null object\n",
      "author_id         160000 non-null int64\n",
      "date              160000 non-null object\n",
      "formatted_date    160000 non-null object\n",
      "hashtags          38147 non-null object\n",
      "mentions          21278 non-null object\n",
      "geo               0 non-null float64\n",
      "urls              49326 non-null object\n",
      "dtypes: float64(1), int64(5), object(9)\n",
      "memory usage: 18.3+ MB\n"
     ]
    }
   ],
   "source": [
    "df.info()"
   ]
  },
  {
   "cell_type": "code",
   "execution_count": 7,
   "metadata": {},
   "outputs": [
    {
     "data": {
      "text/plain": [
       "username            0.000000\n",
       "to                 38.028125\n",
       "text                0.260625\n",
       "retweets            0.000000\n",
       "favorites           0.000000\n",
       "replies             0.000000\n",
       "id                  0.000000\n",
       "permalink           0.000000\n",
       "author_id           0.000000\n",
       "date                0.000000\n",
       "formatted_date      0.000000\n",
       "hashtags           76.158125\n",
       "mentions           86.701250\n",
       "geo               100.000000\n",
       "urls               69.171250\n",
       "dtype: float64"
      ]
     },
     "execution_count": 7,
     "metadata": {},
     "output_type": "execute_result"
    }
   ],
   "source": [
    "df.isna().sum()*100/len(df)"
   ]
  },
  {
   "cell_type": "code",
   "execution_count": 8,
   "metadata": {},
   "outputs": [
    {
     "data": {
      "text/plain": [
       "Index(['username', 'to', 'text', 'retweets', 'favorites', 'replies', 'id',\n",
       "       'permalink', 'author_id', 'date', 'formatted_date', 'hashtags',\n",
       "       'mentions', 'geo', 'urls'],\n",
       "      dtype='object')"
      ]
     },
     "execution_count": 8,
     "metadata": {},
     "output_type": "execute_result"
    }
   ],
   "source": [
    "df.columns"
   ]
  },
  {
   "cell_type": "code",
   "execution_count": 9,
   "metadata": {},
   "outputs": [],
   "source": [
    "df = df[['date','id', 'username', 'text']]"
   ]
  },
  {
   "cell_type": "code",
   "execution_count": 10,
   "metadata": {},
   "outputs": [
    {
     "data": {
      "text/html": [
       "<div>\n",
       "<style scoped>\n",
       "    .dataframe tbody tr th:only-of-type {\n",
       "        vertical-align: middle;\n",
       "    }\n",
       "\n",
       "    .dataframe tbody tr th {\n",
       "        vertical-align: top;\n",
       "    }\n",
       "\n",
       "    .dataframe thead th {\n",
       "        text-align: right;\n",
       "    }\n",
       "</style>\n",
       "<table border=\"1\" class=\"dataframe\">\n",
       "  <thead>\n",
       "    <tr style=\"text-align: right;\">\n",
       "      <th></th>\n",
       "      <th>date</th>\n",
       "      <th>id</th>\n",
       "      <th>username</th>\n",
       "      <th>text</th>\n",
       "    </tr>\n",
       "  </thead>\n",
       "  <tbody>\n",
       "    <tr>\n",
       "      <td>0</td>\n",
       "      <td>2019-07-30 23:59:58+00:00</td>\n",
       "      <td>1156353776049111040</td>\n",
       "      <td>janekin24</td>\n",
       "      <td>Not about Brexit for Boris. I see his strategy. It’s all about killing off TBP. Smokescreen of WTO hard talk.Then he will give us Brino. Well Twitter friends. Are we going to let him get away with this or will we take TBP all the way to government? We are not going into that box!</td>\n",
       "    </tr>\n",
       "    <tr>\n",
       "      <td>1</td>\n",
       "      <td>2019-07-30 23:59:58+00:00</td>\n",
       "      <td>1156353774262390785</td>\n",
       "      <td>brexit_clock</td>\n",
       "      <td>WOW - Another Brexit extension - time now until 31st October 2019 : 92 days, 21 hours, 59 minutes and 59 seconds #BREXIT #BREXITCLOCK #CLOCK #EU #EUREF #LEAVE</td>\n",
       "    </tr>\n",
       "    <tr>\n",
       "      <td>2</td>\n",
       "      <td>2019-07-30 23:59:50+00:00</td>\n",
       "      <td>1156353739437019136</td>\n",
       "      <td>JuanWild51</td>\n",
       "      <td>Brexit: Can Anyone Take the Wheel From Johnson?..#Bojo..#Brexit..#Britain..</td>\n",
       "    </tr>\n",
       "    <tr>\n",
       "      <td>3</td>\n",
       "      <td>2019-07-30 23:59:45+00:00</td>\n",
       "      <td>1156353717987368960</td>\n",
       "      <td>DGAll41</td>\n",
       "      <td>Brexit minister Stephen Barclay tells Michel Barnier that UK will leave EU on October 31 with or without a deal - Evening Standard. Amazing Gove has just been bollocked for similar terminology and less than 24 hrs later, dick Barclay blunders in.</td>\n",
       "    </tr>\n",
       "    <tr>\n",
       "      <td>4</td>\n",
       "      <td>2019-07-30 23:59:44+00:00</td>\n",
       "      <td>1156353717232459776</td>\n",
       "      <td>BioMickWatson</td>\n",
       "      <td>This isn't a superhero movie where the bad guy gets to be a good guy because they share common cause. Brexit and Scottish indy *are* the common cause we need to fight against</td>\n",
       "    </tr>\n",
       "  </tbody>\n",
       "</table>\n",
       "</div>"
      ],
      "text/plain": [
       "                        date                   id       username  \\\n",
       "0  2019-07-30 23:59:58+00:00  1156353776049111040      janekin24   \n",
       "1  2019-07-30 23:59:58+00:00  1156353774262390785   brexit_clock   \n",
       "2  2019-07-30 23:59:50+00:00  1156353739437019136     JuanWild51   \n",
       "3  2019-07-30 23:59:45+00:00  1156353717987368960        DGAll41   \n",
       "4  2019-07-30 23:59:44+00:00  1156353717232459776  BioMickWatson   \n",
       "\n",
       "                                                                                                                                                                                                                                                                                       text  \n",
       "0  Not about Brexit for Boris. I see his strategy. It’s all about killing off TBP. Smokescreen of WTO hard talk.Then he will give us Brino. Well Twitter friends. Are we going to let him get away with this or will we take TBP all the way to government? We are not going into that box!  \n",
       "1                                                                                                                            WOW - Another Brexit extension - time now until 31st October 2019 : 92 days, 21 hours, 59 minutes and 59 seconds #BREXIT #BREXITCLOCK #CLOCK #EU #EUREF #LEAVE  \n",
       "2                                                                                                                                                                                                               Brexit: Can Anyone Take the Wheel From Johnson?..#Bojo..#Brexit..#Britain..  \n",
       "3                                   Brexit minister Stephen Barclay tells Michel Barnier that UK will leave EU on October 31 with or without a deal - Evening Standard. Amazing Gove has just been bollocked for similar terminology and less than 24 hrs later, dick Barclay blunders in.   \n",
       "4                                                                                                            This isn't a superhero movie where the bad guy gets to be a good guy because they share common cause. Brexit and Scottish indy *are* the common cause we need to fight against  "
      ]
     },
     "execution_count": 10,
     "metadata": {},
     "output_type": "execute_result"
    }
   ],
   "source": [
    "df.head()"
   ]
  },
  {
   "cell_type": "code",
   "execution_count": 11,
   "metadata": {},
   "outputs": [],
   "source": [
    "df.dropna(inplace=True)"
   ]
  },
  {
   "cell_type": "code",
   "execution_count": 12,
   "metadata": {},
   "outputs": [
    {
     "data": {
      "text/plain": [
       "date        object\n",
       "id           int64\n",
       "username    object\n",
       "text        object\n",
       "dtype: object"
      ]
     },
     "execution_count": 12,
     "metadata": {},
     "output_type": "execute_result"
    }
   ],
   "source": [
    "df.dtypes"
   ]
  },
  {
   "cell_type": "code",
   "execution_count": 13,
   "metadata": {},
   "outputs": [
    {
     "data": {
      "text/html": [
       "<div>\n",
       "<style scoped>\n",
       "    .dataframe tbody tr th:only-of-type {\n",
       "        vertical-align: middle;\n",
       "    }\n",
       "\n",
       "    .dataframe tbody tr th {\n",
       "        vertical-align: top;\n",
       "    }\n",
       "\n",
       "    .dataframe thead th {\n",
       "        text-align: right;\n",
       "    }\n",
       "</style>\n",
       "<table border=\"1\" class=\"dataframe\">\n",
       "  <thead>\n",
       "    <tr style=\"text-align: right;\">\n",
       "      <th></th>\n",
       "      <th>date</th>\n",
       "      <th>id</th>\n",
       "      <th>username</th>\n",
       "      <th>text</th>\n",
       "    </tr>\n",
       "  </thead>\n",
       "  <tbody>\n",
       "    <tr>\n",
       "      <td>15</td>\n",
       "      <td>2019-07-30 23:59:06+00:00</td>\n",
       "      <td>1156353554929598465</td>\n",
       "      <td>noajida1</td>\n",
       "      <td>1 El Brexit sense acord que Boris Johnson porta en la seva agenda comença a tenir efectes a les borses. Aquest dimarts, mentre prometia prosperitat als grangers del País de Gal·les, els mercats li portaven la contrària.</td>\n",
       "    </tr>\n",
       "    <tr>\n",
       "      <td>23</td>\n",
       "      <td>2019-07-30 23:58:30+00:00</td>\n",
       "      <td>1156353405541072896</td>\n",
       "      <td>JoseSaylor</td>\n",
       "      <td>BrexBox Episode 3: May takes swipe at the Brexit Party &amp;amp; the great, big ... https://youtu.be/d4VF_jAsHKQ via @YouTube</td>\n",
       "    </tr>\n",
       "    <tr>\n",
       "      <td>37</td>\n",
       "      <td>2019-07-30 23:57:37+00:00</td>\n",
       "      <td>1156353184807305221</td>\n",
       "      <td>Fabiolucv</td>\n",
       "      <td>Brexit minister Barclay tells Barnier UK will leave EU on Oct 31 with or without deal http://dlvr.it/R9NC7S</td>\n",
       "    </tr>\n",
       "    <tr>\n",
       "      <td>40</td>\n",
       "      <td>2019-07-30 23:57:20+00:00</td>\n",
       "      <td>1156353112006938630</td>\n",
       "      <td>DGAll41</td>\n",
       "      <td>Britain searches for post-Brexit trading opportunities in South East Asia - Reuters. Raab is a deluded dick that hasn’t got a clue about the logistics or procedures, he didn’t even realise the scale that Calais and Dover play in imports and exports.</td>\n",
       "    </tr>\n",
       "    <tr>\n",
       "      <td>47</td>\n",
       "      <td>2019-07-30 23:56:59+00:00</td>\n",
       "      <td>1156353025306431488</td>\n",
       "      <td>noajida1</td>\n",
       "      <td>El Brexit dur anunciat per Boris Johnson fa tremolar els mercats i enfonsa l'Ibex</td>\n",
       "    </tr>\n",
       "    <tr>\n",
       "      <td>...</td>\n",
       "      <td>...</td>\n",
       "      <td>...</td>\n",
       "      <td>...</td>\n",
       "      <td>...</td>\n",
       "    </tr>\n",
       "    <tr>\n",
       "      <td>159987</td>\n",
       "      <td>2020-02-12 18:55:42+00:00</td>\n",
       "      <td>1227667613452558339</td>\n",
       "      <td>StrongbowsPub</td>\n",
       "      <td>Well it won’t. The part of the story that was not speculation is what the Germans emphasized. No cherry picking. That’s agreed in the EU. The rest is opening Gambits In the budget negotiations. Enjoy your Brexit.</td>\n",
       "    </tr>\n",
       "    <tr>\n",
       "      <td>159990</td>\n",
       "      <td>2020-02-12 18:55:28+00:00</td>\n",
       "      <td>1227667556112257026</td>\n",
       "      <td>abcpoppins</td>\n",
       "      <td>Benedikt Franke, who leads Munich Security Conference, tweeted his disappointment. “UK remains a key pillar of European security and we strongly believe that we need to engage even more now that Brexit is done,” he said, adding #uklessness.</td>\n",
       "    </tr>\n",
       "    <tr>\n",
       "      <td>159996</td>\n",
       "      <td>2020-02-12 18:55:03+00:00</td>\n",
       "      <td>1227667447395864577</td>\n",
       "      <td>Will83064416</td>\n",
       "      <td>I didn’t vote mate, I support my club no matter what, and also let’s end this on a statistic. 54% voted for parties who wanted another referendum, I notice how you turn a blind eye to that.</td>\n",
       "    </tr>\n",
       "    <tr>\n",
       "      <td>159997</td>\n",
       "      <td>2020-02-12 18:54:57+00:00</td>\n",
       "      <td>1227667425610563584</td>\n",
       "      <td>movarsi</td>\n",
       "      <td>Twelve Days After Brexit, U.K. Falls Foul of EU Rules</td>\n",
       "    </tr>\n",
       "    <tr>\n",
       "      <td>159998</td>\n",
       "      <td>2020-02-12 18:54:57+00:00</td>\n",
       "      <td>1227667425598021633</td>\n",
       "      <td>WilliamHayesWo1</td>\n",
       "      <td>True that Remainers consider ourselves a bright bunch. But we’ve done nothing to justify the accolade over the past 4 years and the “thick” Brexiteers have run rings round us. Truth is Brexiteers want Brexit at any cost and Remainers never twigged this, never able to respond</td>\n",
       "    </tr>\n",
       "  </tbody>\n",
       "</table>\n",
       "<p>74858 rows × 4 columns</p>\n",
       "</div>"
      ],
      "text/plain": [
       "                             date                   id         username  \\\n",
       "15      2019-07-30 23:59:06+00:00  1156353554929598465         noajida1   \n",
       "23      2019-07-30 23:58:30+00:00  1156353405541072896       JoseSaylor   \n",
       "37      2019-07-30 23:57:37+00:00  1156353184807305221        Fabiolucv   \n",
       "40      2019-07-30 23:57:20+00:00  1156353112006938630          DGAll41   \n",
       "47      2019-07-30 23:56:59+00:00  1156353025306431488         noajida1   \n",
       "...                           ...                  ...              ...   \n",
       "159987  2020-02-12 18:55:42+00:00  1227667613452558339    StrongbowsPub   \n",
       "159990  2020-02-12 18:55:28+00:00  1227667556112257026       abcpoppins   \n",
       "159996  2020-02-12 18:55:03+00:00  1227667447395864577     Will83064416   \n",
       "159997  2020-02-12 18:54:57+00:00  1227667425610563584          movarsi   \n",
       "159998  2020-02-12 18:54:57+00:00  1227667425598021633  WilliamHayesWo1   \n",
       "\n",
       "                                                                                                                                                                                                                                                                                       text  \n",
       "15                                                             1 El Brexit sense acord que Boris Johnson porta en la seva agenda comença a tenir efectes a les borses. Aquest dimarts, mentre prometia prosperitat als grangers del País de Gal·les, els mercats li portaven la contrària.   \n",
       "23                                                                                                                                                                BrexBox Episode 3: May takes swipe at the Brexit Party &amp; the great, big ... https://youtu.be/d4VF_jAsHKQ via @YouTube  \n",
       "37                                                                                                                                                                              Brexit minister Barclay tells Barnier UK will leave EU on Oct 31 with or without deal http://dlvr.it/R9NC7S  \n",
       "40                               Britain searches for post-Brexit trading opportunities in South East Asia - Reuters. Raab is a deluded dick that hasn’t got a clue about the logistics or procedures, he didn’t even realise the scale that Calais and Dover play in imports and exports.   \n",
       "47                                                                                                                                                                                                       El Brexit dur anunciat per Boris Johnson fa tremolar els mercats i enfonsa l'Ibex   \n",
       "...                                                                                                                                                                                                                                                                                     ...  \n",
       "159987                                                                 Well it won’t. The part of the story that was not speculation is what the Germans emphasized. No cherry picking. That’s agreed in the EU. The rest is opening Gambits In the budget negotiations. Enjoy your Brexit.  \n",
       "159990                                     Benedikt Franke, who leads Munich Security Conference, tweeted his disappointment. “UK remains a key pillar of European security and we strongly believe that we need to engage even more now that Brexit is done,” he said, adding #uklessness.  \n",
       "159996                                                                                        I didn’t vote mate, I support my club no matter what, and also let’s end this on a statistic. 54% voted for parties who wanted another referendum, I notice how you turn a blind eye to that.  \n",
       "159997                                                                                                                                                                                                                               Twelve Days After Brexit, U.K. Falls Foul of EU Rules   \n",
       "159998  True that Remainers consider ourselves a bright bunch. But we’ve done nothing to justify the accolade over the past 4 years and the “thick” Brexiteers have run rings round us. Truth is Brexiteers want Brexit at any cost and Remainers never twigged this, never able to respond  \n",
       "\n",
       "[74858 rows x 4 columns]"
      ]
     },
     "execution_count": 13,
     "metadata": {},
     "output_type": "execute_result"
    }
   ],
   "source": [
    "duplicateusername = df[df.duplicated(['username'])]\n",
    "duplicateusername"
   ]
  },
  {
   "cell_type": "code",
   "execution_count": 14,
   "metadata": {},
   "outputs": [],
   "source": [
    "df.drop('id', inplace=True, axis=1)"
   ]
  },
  {
   "cell_type": "markdown",
   "metadata": {},
   "source": [
    "### Fixing time type column"
   ]
  },
  {
   "cell_type": "code",
   "execution_count": 15,
   "metadata": {},
   "outputs": [],
   "source": [
    "df['date'] = pd.to_datetime(df['date'])\n",
    "df['date'] = [d.date() for d in df['date']]\n",
    "df['month'] = pd.DatetimeIndex(df['date']).month"
   ]
  },
  {
   "cell_type": "markdown",
   "metadata": {},
   "source": [
    "### Removing non english tweets"
   ]
  },
  {
   "cell_type": "code",
   "execution_count": 16,
   "metadata": {},
   "outputs": [],
   "source": [
    "df['language'] = df['text'].apply(get_language)\n",
    "df = df[(df['language'] == True)]"
   ]
  },
  {
   "cell_type": "code",
   "execution_count": 17,
   "metadata": {},
   "outputs": [],
   "source": [
    "df.drop('language', inplace=True, axis=1)"
   ]
  },
  {
   "cell_type": "code",
   "execution_count": 18,
   "metadata": {},
   "outputs": [
    {
     "data": {
      "text/html": [
       "<div>\n",
       "<style scoped>\n",
       "    .dataframe tbody tr th:only-of-type {\n",
       "        vertical-align: middle;\n",
       "    }\n",
       "\n",
       "    .dataframe tbody tr th {\n",
       "        vertical-align: top;\n",
       "    }\n",
       "\n",
       "    .dataframe thead th {\n",
       "        text-align: right;\n",
       "    }\n",
       "</style>\n",
       "<table border=\"1\" class=\"dataframe\">\n",
       "  <thead>\n",
       "    <tr style=\"text-align: right;\">\n",
       "      <th></th>\n",
       "      <th>date</th>\n",
       "      <th>username</th>\n",
       "      <th>text</th>\n",
       "      <th>month</th>\n",
       "    </tr>\n",
       "  </thead>\n",
       "  <tbody>\n",
       "    <tr>\n",
       "      <td>0</td>\n",
       "      <td>2019-07-30</td>\n",
       "      <td>janekin24</td>\n",
       "      <td>Not about Brexit for Boris. I see his strategy. It’s all about killing off TBP. Smokescreen of WTO hard talk.Then he will give us Brino. Well Twitter friends. Are we going to let him get away with this or will we take TBP all the way to government? We are not going into that box!</td>\n",
       "      <td>7</td>\n",
       "    </tr>\n",
       "    <tr>\n",
       "      <td>1</td>\n",
       "      <td>2019-07-30</td>\n",
       "      <td>brexit_clock</td>\n",
       "      <td>WOW - Another Brexit extension - time now until 31st October 2019 : 92 days, 21 hours, 59 minutes and 59 seconds #BREXIT #BREXITCLOCK #CLOCK #EU #EUREF #LEAVE</td>\n",
       "      <td>7</td>\n",
       "    </tr>\n",
       "    <tr>\n",
       "      <td>2</td>\n",
       "      <td>2019-07-30</td>\n",
       "      <td>JuanWild51</td>\n",
       "      <td>Brexit: Can Anyone Take the Wheel From Johnson?..#Bojo..#Brexit..#Britain..</td>\n",
       "      <td>7</td>\n",
       "    </tr>\n",
       "    <tr>\n",
       "      <td>3</td>\n",
       "      <td>2019-07-30</td>\n",
       "      <td>DGAll41</td>\n",
       "      <td>Brexit minister Stephen Barclay tells Michel Barnier that UK will leave EU on October 31 with or without a deal - Evening Standard. Amazing Gove has just been bollocked for similar terminology and less than 24 hrs later, dick Barclay blunders in.</td>\n",
       "      <td>7</td>\n",
       "    </tr>\n",
       "    <tr>\n",
       "      <td>4</td>\n",
       "      <td>2019-07-30</td>\n",
       "      <td>BioMickWatson</td>\n",
       "      <td>This isn't a superhero movie where the bad guy gets to be a good guy because they share common cause. Brexit and Scottish indy *are* the common cause we need to fight against</td>\n",
       "      <td>7</td>\n",
       "    </tr>\n",
       "    <tr>\n",
       "      <td>...</td>\n",
       "      <td>...</td>\n",
       "      <td>...</td>\n",
       "      <td>...</td>\n",
       "      <td>...</td>\n",
       "    </tr>\n",
       "    <tr>\n",
       "      <td>159993</td>\n",
       "      <td>2020-02-12</td>\n",
       "      <td>JulieBishenden</td>\n",
       "      <td>We Brexiteers must stay on the battlefield to stiffen Boris' resolve in fighting the EU #Brexit #EU #MondayMotivaton https://www.telegraph.co.uk/politics/2020/02/12/brexiteers-must-stay-battlefield-stiffen-boris-resolve-fighting/?WT.mc_id=tmg_share_tw via @Telegraph</td>\n",
       "      <td>2</td>\n",
       "    </tr>\n",
       "    <tr>\n",
       "      <td>159994</td>\n",
       "      <td>2020-02-12</td>\n",
       "      <td>news4321</td>\n",
       "      <td>Man from newspaper that has spent the last three years telling the world Brexit is about Empire nostalgia is annoyed that British commentators have got the Irish election *wrong* #ohtheirony</td>\n",
       "      <td>2</td>\n",
       "    </tr>\n",
       "    <tr>\n",
       "      <td>159996</td>\n",
       "      <td>2020-02-12</td>\n",
       "      <td>Will83064416</td>\n",
       "      <td>I didn’t vote mate, I support my club no matter what, and also let’s end this on a statistic. 54% voted for parties who wanted another referendum, I notice how you turn a blind eye to that.</td>\n",
       "      <td>2</td>\n",
       "    </tr>\n",
       "    <tr>\n",
       "      <td>159998</td>\n",
       "      <td>2020-02-12</td>\n",
       "      <td>WilliamHayesWo1</td>\n",
       "      <td>True that Remainers consider ourselves a bright bunch. But we’ve done nothing to justify the accolade over the past 4 years and the “thick” Brexiteers have run rings round us. Truth is Brexiteers want Brexit at any cost and Remainers never twigged this, never able to respond</td>\n",
       "      <td>2</td>\n",
       "    </tr>\n",
       "    <tr>\n",
       "      <td>159999</td>\n",
       "      <td>2020-02-12</td>\n",
       "      <td>MrRandomGuy93</td>\n",
       "      <td>You are right. I did vote leave But at this point it's a joke, I don't even care what happens Remain or Leave But it's people like you that have been so desperate to link every bad thing to Brexit, real issues are being left to fester, things that actually affect peoples lives.</td>\n",
       "      <td>2</td>\n",
       "    </tr>\n",
       "  </tbody>\n",
       "</table>\n",
       "<p>141710 rows × 4 columns</p>\n",
       "</div>"
      ],
      "text/plain": [
       "              date         username  \\\n",
       "0       2019-07-30        janekin24   \n",
       "1       2019-07-30     brexit_clock   \n",
       "2       2019-07-30       JuanWild51   \n",
       "3       2019-07-30          DGAll41   \n",
       "4       2019-07-30    BioMickWatson   \n",
       "...            ...              ...   \n",
       "159993  2020-02-12   JulieBishenden   \n",
       "159994  2020-02-12         news4321   \n",
       "159996  2020-02-12     Will83064416   \n",
       "159998  2020-02-12  WilliamHayesWo1   \n",
       "159999  2020-02-12    MrRandomGuy93   \n",
       "\n",
       "                                                                                                                                                                                                                                                                                            text  \\\n",
       "0       Not about Brexit for Boris. I see his strategy. It’s all about killing off TBP. Smokescreen of WTO hard talk.Then he will give us Brino. Well Twitter friends. Are we going to let him get away with this or will we take TBP all the way to government? We are not going into that box!   \n",
       "1                                                                                                                                 WOW - Another Brexit extension - time now until 31st October 2019 : 92 days, 21 hours, 59 minutes and 59 seconds #BREXIT #BREXITCLOCK #CLOCK #EU #EUREF #LEAVE   \n",
       "2                                                                                                                                                                                                                    Brexit: Can Anyone Take the Wheel From Johnson?..#Bojo..#Brexit..#Britain..   \n",
       "3                                        Brexit minister Stephen Barclay tells Michel Barnier that UK will leave EU on October 31 with or without a deal - Evening Standard. Amazing Gove has just been bollocked for similar terminology and less than 24 hrs later, dick Barclay blunders in.    \n",
       "4                                                                                                                 This isn't a superhero movie where the bad guy gets to be a good guy because they share common cause. Brexit and Scottish indy *are* the common cause we need to fight against   \n",
       "...                                                                                                                                                                                                                                                                                          ...   \n",
       "159993                We Brexiteers must stay on the battlefield to stiffen Boris' resolve in fighting the EU #Brexit #EU #MondayMotivaton https://www.telegraph.co.uk/politics/2020/02/12/brexiteers-must-stay-battlefield-stiffen-boris-resolve-fighting/?WT.mc_id=tmg_share_tw via @Telegraph   \n",
       "159994                                                                                            Man from newspaper that has spent the last three years telling the world Brexit is about Empire nostalgia is annoyed that British commentators have got the Irish election *wrong* #ohtheirony   \n",
       "159996                                                                                             I didn’t vote mate, I support my club no matter what, and also let’s end this on a statistic. 54% voted for parties who wanted another referendum, I notice how you turn a blind eye to that.   \n",
       "159998       True that Remainers consider ourselves a bright bunch. But we’ve done nothing to justify the accolade over the past 4 years and the “thick” Brexiteers have run rings round us. Truth is Brexiteers want Brexit at any cost and Remainers never twigged this, never able to respond   \n",
       "159999    You are right. I did vote leave But at this point it's a joke, I don't even care what happens Remain or Leave But it's people like you that have been so desperate to link every bad thing to Brexit, real issues are being left to fester, things that actually affect peoples lives.   \n",
       "\n",
       "        month  \n",
       "0           7  \n",
       "1           7  \n",
       "2           7  \n",
       "3           7  \n",
       "4           7  \n",
       "...       ...  \n",
       "159993      2  \n",
       "159994      2  \n",
       "159996      2  \n",
       "159998      2  \n",
       "159999      2  \n",
       "\n",
       "[141710 rows x 4 columns]"
      ]
     },
     "execution_count": 18,
     "metadata": {},
     "output_type": "execute_result"
    }
   ],
   "source": [
    "df"
   ]
  },
  {
   "cell_type": "markdown",
   "metadata": {},
   "source": [
    "### Creating column for Theresa May/Boris Jonhson - selecting tweets that only refer the PMs"
   ]
  },
  {
   "cell_type": "code",
   "execution_count": 19,
   "metadata": {},
   "outputs": [
    {
     "name": "stdout",
     "output_type": "stream",
     "text": [
      "No Java runtime present, requesting install.\n",
      "\n"
     ]
    },
    {
     "ename": "OSError",
     "evalue": "Java command failed : ['/usr/bin/java', '-mx1000m', '-cp', '/Users/ironhack/Documents/english.all.3class.distsim.crf.ser.gz', 'edu.stanford.nlp.ie.crf.CRFClassifier', '-loadClassifier', '/Users/ironhack/Documents/stanford-ner.jar', '-textFile', '/var/folders/_y/9zk4zxk116l2xwsc8gsvjn3m0000gn/T/tmpcx_i7wgo', '-outputFormat', 'slashTags', '-tokenizerFactory', 'edu.stanford.nlp.process.WhitespaceTokenizer', '-tokenizerOptions', '\"tokenizeNLs=false\"', '-encoding', 'utf8']",
     "output_type": "error",
     "traceback": [
      "\u001b[0;31m---------------------------------------------------------------------------\u001b[0m",
      "\u001b[0;31mOSError\u001b[0m                                   Traceback (most recent call last)",
      "\u001b[0;32m<ipython-input-19-46b10849b8f0>\u001b[0m in \u001b[0;36m<module>\u001b[0;34m\u001b[0m\n\u001b[1;32m     14\u001b[0m \u001b[0;34m\u001b[0m\u001b[0m\n\u001b[1;32m     15\u001b[0m \u001b[0;31m# Run NER tagger on words\u001b[0m\u001b[0;34m\u001b[0m\u001b[0;34m\u001b[0m\u001b[0;34m\u001b[0m\u001b[0m\n\u001b[0;32m---> 16\u001b[0;31m \u001b[0mprint\u001b[0m\u001b[0;34m(\u001b[0m\u001b[0mner_tagger\u001b[0m\u001b[0;34m.\u001b[0m\u001b[0mtag\u001b[0m\u001b[0;34m(\u001b[0m\u001b[0mwords\u001b[0m\u001b[0;34m)\u001b[0m\u001b[0;34m)\u001b[0m\u001b[0;34m\u001b[0m\u001b[0;34m\u001b[0m\u001b[0m\n\u001b[0m",
      "\u001b[0;32m~/opt/anaconda3/lib/python3.7/site-packages/nltk/tag/stanford.py\u001b[0m in \u001b[0;36mtag\u001b[0;34m(self, tokens)\u001b[0m\n\u001b[1;32m     91\u001b[0m     \u001b[0;32mdef\u001b[0m \u001b[0mtag\u001b[0m\u001b[0;34m(\u001b[0m\u001b[0mself\u001b[0m\u001b[0;34m,\u001b[0m \u001b[0mtokens\u001b[0m\u001b[0;34m)\u001b[0m\u001b[0;34m:\u001b[0m\u001b[0;34m\u001b[0m\u001b[0;34m\u001b[0m\u001b[0m\n\u001b[1;32m     92\u001b[0m         \u001b[0;31m# This function should return list of tuple rather than list of list\u001b[0m\u001b[0;34m\u001b[0m\u001b[0;34m\u001b[0m\u001b[0;34m\u001b[0m\u001b[0m\n\u001b[0;32m---> 93\u001b[0;31m         \u001b[0;32mreturn\u001b[0m \u001b[0msum\u001b[0m\u001b[0;34m(\u001b[0m\u001b[0mself\u001b[0m\u001b[0;34m.\u001b[0m\u001b[0mtag_sents\u001b[0m\u001b[0;34m(\u001b[0m\u001b[0;34m[\u001b[0m\u001b[0mtokens\u001b[0m\u001b[0;34m]\u001b[0m\u001b[0;34m)\u001b[0m\u001b[0;34m,\u001b[0m \u001b[0;34m[\u001b[0m\u001b[0;34m]\u001b[0m\u001b[0;34m)\u001b[0m\u001b[0;34m\u001b[0m\u001b[0;34m\u001b[0m\u001b[0m\n\u001b[0m\u001b[1;32m     94\u001b[0m \u001b[0;34m\u001b[0m\u001b[0m\n\u001b[1;32m     95\u001b[0m     \u001b[0;32mdef\u001b[0m \u001b[0mtag_sents\u001b[0m\u001b[0;34m(\u001b[0m\u001b[0mself\u001b[0m\u001b[0;34m,\u001b[0m \u001b[0msentences\u001b[0m\u001b[0;34m)\u001b[0m\u001b[0;34m:\u001b[0m\u001b[0;34m\u001b[0m\u001b[0;34m\u001b[0m\u001b[0m\n",
      "\u001b[0;32m~/opt/anaconda3/lib/python3.7/site-packages/nltk/tag/stanford.py\u001b[0m in \u001b[0;36mtag_sents\u001b[0;34m(self, sentences)\u001b[0m\n\u001b[1;32m    114\u001b[0m         \u001b[0;31m# Run the tagger and get the output\u001b[0m\u001b[0;34m\u001b[0m\u001b[0;34m\u001b[0m\u001b[0;34m\u001b[0m\u001b[0m\n\u001b[1;32m    115\u001b[0m         stanpos_output, _stderr = java(\n\u001b[0;32m--> 116\u001b[0;31m             \u001b[0mcmd\u001b[0m\u001b[0;34m,\u001b[0m \u001b[0mclasspath\u001b[0m\u001b[0;34m=\u001b[0m\u001b[0mself\u001b[0m\u001b[0;34m.\u001b[0m\u001b[0m_stanford_jar\u001b[0m\u001b[0;34m,\u001b[0m \u001b[0mstdout\u001b[0m\u001b[0;34m=\u001b[0m\u001b[0mPIPE\u001b[0m\u001b[0;34m,\u001b[0m \u001b[0mstderr\u001b[0m\u001b[0;34m=\u001b[0m\u001b[0mPIPE\u001b[0m\u001b[0;34m\u001b[0m\u001b[0;34m\u001b[0m\u001b[0m\n\u001b[0m\u001b[1;32m    117\u001b[0m         )\n\u001b[1;32m    118\u001b[0m         \u001b[0mstanpos_output\u001b[0m \u001b[0;34m=\u001b[0m \u001b[0mstanpos_output\u001b[0m\u001b[0;34m.\u001b[0m\u001b[0mdecode\u001b[0m\u001b[0;34m(\u001b[0m\u001b[0mencoding\u001b[0m\u001b[0;34m)\u001b[0m\u001b[0;34m\u001b[0m\u001b[0;34m\u001b[0m\u001b[0m\n",
      "\u001b[0;32m~/opt/anaconda3/lib/python3.7/site-packages/nltk/internals.py\u001b[0m in \u001b[0;36mjava\u001b[0;34m(cmd, classpath, stdin, stdout, stderr, blocking)\u001b[0m\n\u001b[1;32m    144\u001b[0m     \u001b[0;32mif\u001b[0m \u001b[0mp\u001b[0m\u001b[0;34m.\u001b[0m\u001b[0mreturncode\u001b[0m \u001b[0;34m!=\u001b[0m \u001b[0;36m0\u001b[0m\u001b[0;34m:\u001b[0m\u001b[0;34m\u001b[0m\u001b[0;34m\u001b[0m\u001b[0m\n\u001b[1;32m    145\u001b[0m         \u001b[0mprint\u001b[0m\u001b[0;34m(\u001b[0m\u001b[0m_decode_stdoutdata\u001b[0m\u001b[0;34m(\u001b[0m\u001b[0mstderr\u001b[0m\u001b[0;34m)\u001b[0m\u001b[0;34m)\u001b[0m\u001b[0;34m\u001b[0m\u001b[0;34m\u001b[0m\u001b[0m\n\u001b[0;32m--> 146\u001b[0;31m         \u001b[0;32mraise\u001b[0m \u001b[0mOSError\u001b[0m\u001b[0;34m(\u001b[0m\u001b[0;34m'Java command failed : '\u001b[0m \u001b[0;34m+\u001b[0m \u001b[0mstr\u001b[0m\u001b[0;34m(\u001b[0m\u001b[0mcmd\u001b[0m\u001b[0;34m)\u001b[0m\u001b[0;34m)\u001b[0m\u001b[0;34m\u001b[0m\u001b[0;34m\u001b[0m\u001b[0m\n\u001b[0m\u001b[1;32m    147\u001b[0m \u001b[0;34m\u001b[0m\u001b[0m\n\u001b[1;32m    148\u001b[0m     \u001b[0;32mreturn\u001b[0m \u001b[0;34m(\u001b[0m\u001b[0mstdout\u001b[0m\u001b[0;34m,\u001b[0m \u001b[0mstderr\u001b[0m\u001b[0;34m)\u001b[0m\u001b[0;34m\u001b[0m\u001b[0;34m\u001b[0m\u001b[0m\n",
      "\u001b[0;31mOSError\u001b[0m: Java command failed : ['/usr/bin/java', '-mx1000m', '-cp', '/Users/ironhack/Documents/english.all.3class.distsim.crf.ser.gz', 'edu.stanford.nlp.ie.crf.CRFClassifier', '-loadClassifier', '/Users/ironhack/Documents/stanford-ner.jar', '-textFile', '/var/folders/_y/9zk4zxk116l2xwsc8gsvjn3m0000gn/T/tmpcx_i7wgo', '-outputFormat', 'slashTags', '-tokenizerFactory', 'edu.stanford.nlp.process.WhitespaceTokenizer', '-tokenizerOptions', '\"tokenizeNLs=false\"', '-encoding', 'utf8']"
     ]
    }
   ],
   "source": [
    "sentence = u\"Twenty miles east of Reno, Nev., \" \\\n",
    "    \"where packs of wild mustangs roam free through \" \\\n",
    "    \"the parched landscape, Tesla Gigafactory 1 \" \\\n",
    "    \"sprawls near Interstate 80.\"\n",
    "\n",
    "jar = '/Users/ironhack/Documents/english.all.3class.distsim.crf.ser.gz'\n",
    "model = '/Users/ironhack/Documents/stanford-ner.jar'\n",
    "\n",
    "# Prepare NER tagger with english model\n",
    "ner_tagger = StanfordNERTagger(model, jar, encoding='utf8')\n",
    "\n",
    "# Tokenize: Split sentence into words\n",
    "words = nltk.word_tokenize(sentence)\n",
    "\n",
    "# Run NER tagger on words\n",
    "print(ner_tagger.tag(words))"
   ]
  },
  {
   "cell_type": "code",
   "execution_count": 20,
   "metadata": {},
   "outputs": [],
   "source": [
    "df[\"pm\"] = df.apply(get_pm,axis=1)"
   ]
  },
  {
   "cell_type": "code",
   "execution_count": 21,
   "metadata": {},
   "outputs": [],
   "source": [
    "#le = preprocessing.LabelEncoder()\n",
    "#df[\"pm_label\"] = le.fit_transform(df.pm.values)"
   ]
  },
  {
   "cell_type": "code",
   "execution_count": 22,
   "metadata": {
    "scrolled": true
   },
   "outputs": [
    {
     "data": {
      "text/plain": [
       "none     121178\n",
       "boris     12880\n",
       "may        7652\n",
       "Name: pm, dtype: int64"
      ]
     },
     "execution_count": 22,
     "metadata": {},
     "output_type": "execute_result"
    }
   ],
   "source": [
    "df[\"pm\"].value_counts()"
   ]
  },
  {
   "cell_type": "code",
   "execution_count": 23,
   "metadata": {},
   "outputs": [],
   "source": [
    "may_df = df[df['pm'] == 'may']\n",
    "boris_df = df[df['pm'] == 'boris']\n",
    "df_mb = may_df.append(boris_df)"
   ]
  },
  {
   "cell_type": "code",
   "execution_count": 36,
   "metadata": {},
   "outputs": [
    {
     "data": {
      "text/html": [
       "<div>\n",
       "<style scoped>\n",
       "    .dataframe tbody tr th:only-of-type {\n",
       "        vertical-align: middle;\n",
       "    }\n",
       "\n",
       "    .dataframe tbody tr th {\n",
       "        vertical-align: top;\n",
       "    }\n",
       "\n",
       "    .dataframe thead th {\n",
       "        text-align: right;\n",
       "    }\n",
       "</style>\n",
       "<table border=\"1\" class=\"dataframe\">\n",
       "  <thead>\n",
       "    <tr style=\"text-align: right;\">\n",
       "      <th></th>\n",
       "      <th>date_x</th>\n",
       "      <th>username</th>\n",
       "      <th>text_x</th>\n",
       "      <th>month_x</th>\n",
       "      <th>pm_x</th>\n",
       "      <th>date_y</th>\n",
       "      <th>text_y</th>\n",
       "      <th>month_y</th>\n",
       "      <th>pm_y</th>\n",
       "    </tr>\n",
       "  </thead>\n",
       "  <tbody>\n",
       "    <tr>\n",
       "      <td>0</td>\n",
       "      <td>2019-07-30</td>\n",
       "      <td>janekin24</td>\n",
       "      <td>Not about Brexit for Boris. I see his strategy. It’s all about killing off TBP. Smokescreen of WTO hard talk.Then he will give us Brino. Well Twitter friends. Are we going to let him get away with this or will we take TBP all the way to government? We are not going into that box!</td>\n",
       "      <td>7</td>\n",
       "      <td>boris</td>\n",
       "      <td>2019-04-07</td>\n",
       "      <td>#BrexitBetrayal Oh we know what is 'happening with Brexit.' You Theresa can say words that mean the opposite, try and obfuscate but we see you. You have done all you can to stop Brexit whilst saying you are trying to deliver it. No point in saying any more to us. Just go.</td>\n",
       "      <td>4</td>\n",
       "      <td>may</td>\n",
       "    </tr>\n",
       "    <tr>\n",
       "      <td>1</td>\n",
       "      <td>2019-07-30</td>\n",
       "      <td>janekin24</td>\n",
       "      <td>Not about Brexit for Boris. I see his strategy. It’s all about killing off TBP. Smokescreen of WTO hard talk.Then he will give us Brino. Well Twitter friends. Are we going to let him get away with this or will we take TBP all the way to government? We are not going into that box!</td>\n",
       "      <td>7</td>\n",
       "      <td>boris</td>\n",
       "      <td>2019-04-30</td>\n",
       "      <td>Theresa May preparing to cave in to Labour demands on Brexit, Eurosceptics fear https://www.telegraph.co.uk/politics/2019/04/30/theresa-may-preparing-cave-labour-demands-brexit-eurosceptics/?WT.mc_id=tmg_share_tw via @Telegraph</td>\n",
       "      <td>4</td>\n",
       "      <td>may</td>\n",
       "    </tr>\n",
       "    <tr>\n",
       "      <td>2</td>\n",
       "      <td>2019-07-30</td>\n",
       "      <td>janekin24</td>\n",
       "      <td>Not about Brexit for Boris. I see his strategy. It’s all about killing off TBP. Smokescreen of WTO hard talk.Then he will give us Brino. Well Twitter friends. Are we going to let him get away with this or will we take TBP all the way to government? We are not going into that box!</td>\n",
       "      <td>7</td>\n",
       "      <td>boris</td>\n",
       "      <td>2019-07-30</td>\n",
       "      <td>Not about Brexit for Boris. I see his strategy. It’s all about killing off TBP. Smokescreen of WTO hard talk.Then he will give us Brino. Well Twitter friends. Are we going to let him get away with this or will we take TBP all the way to government? We are not going into that box!</td>\n",
       "      <td>7</td>\n",
       "      <td>boris</td>\n",
       "    </tr>\n",
       "    <tr>\n",
       "      <td>3</td>\n",
       "      <td>2019-04-07</td>\n",
       "      <td>janekin24</td>\n",
       "      <td>#BrexitBetrayal Oh we know what is 'happening with Brexit.' You Theresa can say words that mean the opposite, try and obfuscate but we see you. You have done all you can to stop Brexit whilst saying you are trying to deliver it. No point in saying any more to us. Just go.</td>\n",
       "      <td>4</td>\n",
       "      <td>may</td>\n",
       "      <td>2019-04-07</td>\n",
       "      <td>#BrexitBetrayal Oh we know what is 'happening with Brexit.' You Theresa can say words that mean the opposite, try and obfuscate but we see you. You have done all you can to stop Brexit whilst saying you are trying to deliver it. No point in saying any more to us. Just go.</td>\n",
       "      <td>4</td>\n",
       "      <td>may</td>\n",
       "    </tr>\n",
       "    <tr>\n",
       "      <td>4</td>\n",
       "      <td>2019-04-07</td>\n",
       "      <td>janekin24</td>\n",
       "      <td>#BrexitBetrayal Oh we know what is 'happening with Brexit.' You Theresa can say words that mean the opposite, try and obfuscate but we see you. You have done all you can to stop Brexit whilst saying you are trying to deliver it. No point in saying any more to us. Just go.</td>\n",
       "      <td>4</td>\n",
       "      <td>may</td>\n",
       "      <td>2019-04-30</td>\n",
       "      <td>Theresa May preparing to cave in to Labour demands on Brexit, Eurosceptics fear https://www.telegraph.co.uk/politics/2019/04/30/theresa-may-preparing-cave-labour-demands-brexit-eurosceptics/?WT.mc_id=tmg_share_tw via @Telegraph</td>\n",
       "      <td>4</td>\n",
       "      <td>may</td>\n",
       "    </tr>\n",
       "  </tbody>\n",
       "</table>\n",
       "</div>"
      ],
      "text/plain": [
       "       date_x   username  \\\n",
       "0  2019-07-30  janekin24   \n",
       "1  2019-07-30  janekin24   \n",
       "2  2019-07-30  janekin24   \n",
       "3  2019-04-07  janekin24   \n",
       "4  2019-04-07  janekin24   \n",
       "\n",
       "                                                                                                                                                                                                                                                                                     text_x  \\\n",
       "0  Not about Brexit for Boris. I see his strategy. It’s all about killing off TBP. Smokescreen of WTO hard talk.Then he will give us Brino. Well Twitter friends. Are we going to let him get away with this or will we take TBP all the way to government? We are not going into that box!   \n",
       "1  Not about Brexit for Boris. I see his strategy. It’s all about killing off TBP. Smokescreen of WTO hard talk.Then he will give us Brino. Well Twitter friends. Are we going to let him get away with this or will we take TBP all the way to government? We are not going into that box!   \n",
       "2  Not about Brexit for Boris. I see his strategy. It’s all about killing off TBP. Smokescreen of WTO hard talk.Then he will give us Brino. Well Twitter friends. Are we going to let him get away with this or will we take TBP all the way to government? We are not going into that box!   \n",
       "3          #BrexitBetrayal Oh we know what is 'happening with Brexit.' You Theresa can say words that mean the opposite, try and obfuscate but we see you. You have done all you can to stop Brexit whilst saying you are trying to deliver it. No point in saying any more to us. Just go.   \n",
       "4          #BrexitBetrayal Oh we know what is 'happening with Brexit.' You Theresa can say words that mean the opposite, try and obfuscate but we see you. You have done all you can to stop Brexit whilst saying you are trying to deliver it. No point in saying any more to us. Just go.   \n",
       "\n",
       "   month_x   pm_x      date_y  \\\n",
       "0        7  boris  2019-04-07   \n",
       "1        7  boris  2019-04-30   \n",
       "2        7  boris  2019-07-30   \n",
       "3        4    may  2019-04-07   \n",
       "4        4    may  2019-04-30   \n",
       "\n",
       "                                                                                                                                                                                                                                                                                     text_y  \\\n",
       "0          #BrexitBetrayal Oh we know what is 'happening with Brexit.' You Theresa can say words that mean the opposite, try and obfuscate but we see you. You have done all you can to stop Brexit whilst saying you are trying to deliver it. No point in saying any more to us. Just go.   \n",
       "1                                                       Theresa May preparing to cave in to Labour demands on Brexit, Eurosceptics fear https://www.telegraph.co.uk/politics/2019/04/30/theresa-may-preparing-cave-labour-demands-brexit-eurosceptics/?WT.mc_id=tmg_share_tw via @Telegraph   \n",
       "2  Not about Brexit for Boris. I see his strategy. It’s all about killing off TBP. Smokescreen of WTO hard talk.Then he will give us Brino. Well Twitter friends. Are we going to let him get away with this or will we take TBP all the way to government? We are not going into that box!   \n",
       "3          #BrexitBetrayal Oh we know what is 'happening with Brexit.' You Theresa can say words that mean the opposite, try and obfuscate but we see you. You have done all you can to stop Brexit whilst saying you are trying to deliver it. No point in saying any more to us. Just go.   \n",
       "4                                                       Theresa May preparing to cave in to Labour demands on Brexit, Eurosceptics fear https://www.telegraph.co.uk/politics/2019/04/30/theresa-may-preparing-cave-labour-demands-brexit-eurosceptics/?WT.mc_id=tmg_share_tw via @Telegraph   \n",
       "\n",
       "   month_y   pm_y  \n",
       "0        4    may  \n",
       "1        4    may  \n",
       "2        7  boris  \n",
       "3        4    may  \n",
       "4        4    may  "
      ]
     },
     "execution_count": 36,
     "metadata": {},
     "output_type": "execute_result"
    }
   ],
   "source": [
    "mergedStuff = pd.merge(df, df_mb, on=['username'], how='inner')\n",
    "mergedStuff.head()"
   ]
  },
  {
   "cell_type": "markdown",
   "metadata": {},
   "source": [
    "### Cleaning the tweets"
   ]
  },
  {
   "cell_type": "code",
   "execution_count": null,
   "metadata": {},
   "outputs": [],
   "source": [
    "df_mb['text_wturls'] = df_mb['text'].apply(clean_up)"
   ]
  },
  {
   "cell_type": "code",
   "execution_count": null,
   "metadata": {},
   "outputs": [],
   "source": [
    "df_mb['text_processed'] = df_mb['text'].apply(clean_up).apply(tokenize).apply(stem_and_lemmatize)\\\n",
    "                       .apply(remove_stopwords)"
   ]
  },
  {
   "cell_type": "code",
   "execution_count": null,
   "metadata": {},
   "outputs": [],
   "source": [
    "df_mb['clean_text'] = [' '.join(map(str, l)) for l in df_mb['text_processed']]"
   ]
  },
  {
   "cell_type": "markdown",
   "metadata": {},
   "source": [
    "### Making tags for May"
   ]
  },
  {
   "cell_type": "code",
   "execution_count": null,
   "metadata": {},
   "outputs": [],
   "source": [
    "df_mb['POSTags'] = pos_tag_sents(df_mb['clean_text'].apply(word_tokenize).tolist())"
   ]
  },
  {
   "cell_type": "code",
   "execution_count": null,
   "metadata": {},
   "outputs": [],
   "source": [
    "df_mb = df_mb[['date', 'month','text','text_wturls','text_processed','clean_text','pm', 'POSTags']]"
   ]
  },
  {
   "cell_type": "code",
   "execution_count": null,
   "metadata": {},
   "outputs": [],
   "source": [
    "df_mb"
   ]
  },
  {
   "cell_type": "markdown",
   "metadata": {},
   "source": [
    "### Checking top words"
   ]
  },
  {
   "cell_type": "code",
   "execution_count": null,
   "metadata": {},
   "outputs": [],
   "source": [
    "cv = CountVectorizer(stop_words = 'english')\n",
    "words = cv.fit_transform(df_mb['clean_text'])\n",
    "\n",
    "sum_words = words.sum(axis=0)\n",
    "\n",
    "words_freq = [(word, sum_words[0, i]) for word, i in cv.vocabulary_.items()]\n",
    "words_freq = sorted(words_freq, key = lambda x: x[1], reverse = True)\n",
    "\n",
    "frequency = pd.DataFrame(words_freq, columns=['word', 'freq'])\n",
    "frequency.head(50).plot(x='word', y='freq', kind='bar', figsize=(15, 7), color = 'blue')\n",
    "plt.title(\"top 50 frequent words\")"
   ]
  },
  {
   "cell_type": "code",
   "execution_count": null,
   "metadata": {},
   "outputs": [],
   "source": [
    "frequency.head(50)"
   ]
  },
  {
   "cell_type": "markdown",
   "metadata": {},
   "source": [
    "## K-means"
   ]
  },
  {
   "cell_type": "markdown",
   "metadata": {},
   "source": [
    "### Checking optimal number of clusters"
   ]
  },
  {
   "cell_type": "code",
   "execution_count": null,
   "metadata": {},
   "outputs": [],
   "source": [
    "model = KMeans()\n",
    "visualizer = KElbowVisualizer(model, k=(2,17))\n",
    "visualizer.fit(desc_matrix)\n",
    "visualizer.poof()"
   ]
  },
  {
   "cell_type": "markdown",
   "metadata": {},
   "source": [
    "### Preparing & Implementing K-Means"
   ]
  },
  {
   "cell_type": "code",
   "execution_count": null,
   "metadata": {},
   "outputs": [],
   "source": [
    "# vectorizing with CountVectorizer\n",
    "tf_idf_vect = CountVectorizer(analyzer='word',ngram_range=(1,1),stop_words='english', min_df = 0.0001)\n",
    "tf_idf_vect.fit(df_mb[\"clean_text\"])\n",
    "desc_matrix = tf_idf_vect.transform(df_mb[\"clean_text\"])"
   ]
  },
  {
   "cell_type": "code",
   "execution_count": null,
   "metadata": {},
   "outputs": [],
   "source": [
    "# implementing kmeans\n",
    "km = KMeans(n_clusters = 3, n_init = 10, n_jobs = -1)\n",
    "km.fit(desc_matrix)\n",
    "clusters = km.labels_.tolist()"
   ]
  },
  {
   "cell_type": "code",
   "execution_count": null,
   "metadata": {},
   "outputs": [],
   "source": [
    "df_mb['labels'] = clusters"
   ]
  },
  {
   "cell_type": "code",
   "execution_count": null,
   "metadata": {},
   "outputs": [],
   "source": [
    "# vectorizing with TfidfVectorizer\n",
    "tweets = [tweet for tweet in df_mb['clean_text']]\n",
    "tfidf_vectorizer = TfidfVectorizer(use_idf=True, ngram_range=(1,3))  \n",
    "tfidf_matrix = tfidf_vectorizer.fit_transform(tweets)  \n",
    "feature_names = tfidf_vectorizer.get_feature_names()  "
   ]
  },
  {
   "cell_type": "code",
   "execution_count": null,
   "metadata": {},
   "outputs": [],
   "source": [
    "km = KMeans(n_clusters = 3, n_init = 10, n_jobs = -1)\n",
    "km.fit(tfidf_matrix)\n",
    "clusters = km.labels_.tolist()"
   ]
  },
  {
   "cell_type": "code",
   "execution_count": null,
   "metadata": {},
   "outputs": [],
   "source": [
    "df_mb['labels_tfid'] = clusters"
   ]
  },
  {
   "cell_type": "code",
   "execution_count": null,
   "metadata": {},
   "outputs": [],
   "source": [
    "df_mb[df_mb['pm'] == 'may']['labels'].value_counts()"
   ]
  },
  {
   "cell_type": "code",
   "execution_count": null,
   "metadata": {},
   "outputs": [],
   "source": [
    "df_mb[df_mb['pm'] == 'boris']['labels_tfid'].value_counts()"
   ]
  },
  {
   "cell_type": "code",
   "execution_count": null,
   "metadata": {},
   "outputs": [],
   "source": [
    "order_centroids = km.cluster_centers_.argsort()[:, ::-1]\n",
    "for i in range(3):\n",
    "    print(\"Cluster {}: Words:\".format(i))\n",
    "    for ind in order_centroids[i, :10]: \n",
    "        print('    %s' % feature_names[ind])"
   ]
  },
  {
   "cell_type": "markdown",
   "metadata": {},
   "source": [
    "### Checking results"
   ]
  },
  {
   "cell_type": "markdown",
   "metadata": {},
   "source": [
    "#### 3 iterations"
   ]
  },
  {
   "cell_type": "code",
   "execution_count": null,
   "metadata": {},
   "outputs": [],
   "source": [
    "df_mb[df_mb['pm'] == 'may']['labels'].value_counts()"
   ]
  },
  {
   "cell_type": "code",
   "execution_count": null,
   "metadata": {},
   "outputs": [],
   "source": [
    "df_mb[df_mb['pm'] == 'boris']['labels'].value_counts()"
   ]
  },
  {
   "cell_type": "markdown",
   "metadata": {},
   "source": [
    "#### 10 iterations"
   ]
  },
  {
   "cell_type": "code",
   "execution_count": null,
   "metadata": {},
   "outputs": [],
   "source": [
    "df_mb[df_mb['pm'] == 'may']['labels'].value_counts()"
   ]
  },
  {
   "cell_type": "code",
   "execution_count": null,
   "metadata": {},
   "outputs": [],
   "source": [
    "df_mb[df_mb['pm'] == 'boris']['labels'].value_counts()"
   ]
  },
  {
   "cell_type": "markdown",
   "metadata": {},
   "source": [
    "## Evaluating model"
   ]
  },
  {
   "cell_type": "code",
   "execution_count": null,
   "metadata": {},
   "outputs": [],
   "source": [
    "preds = cluster.fit_predict(features)\n",
    "centers = cluster.cluster_centers_\n",
    "\n",
    "score = silhouette_score (features, preds, metric='euclidean')\n",
    "print (f\"For n_clusters = {n_clusters}, silhouette score is {score})\")\n",
    "\n",
    "## try to plot to see what it looks like"
   ]
  },
  {
   "cell_type": "markdown",
   "metadata": {},
   "source": [
    "## Sentiment Analysis"
   ]
  },
  {
   "cell_type": "markdown",
   "metadata": {},
   "source": [
    "### NLKT"
   ]
  },
  {
   "cell_type": "code",
   "execution_count": null,
   "metadata": {},
   "outputs": [],
   "source": [
    "#with nlkt sentiment analysys\n",
    "sid = SentimentIntensityAnalyzer()\n",
    "\n",
    "df_mb['sentiment_compound_polarity'] = df_mb['clean_text'].apply(lambda x: sid.polarity_scores(x)['compound'])\n",
    "df_mb['sentiment_neutral'] = df_mb['clean_text'].apply(lambda x: sid.polarity_scores(x)['neu'])\n",
    "df_mb['sentiment_negative'] = df_mb['clean_text'].apply(lambda x: sid.polarity_scores(x)['neg'])\n",
    "df_mb['sentiment_pos'] = df_mb['clean_text'].apply(lambda x:sid.polarity_scores(x)['pos'])\n",
    "\n",
    "df_mb.loc[df_mb.sentiment_compound_polarity > 0,'sentiment'] = 'positive'\n",
    "df_mb.loc[df_mb.sentiment_compound_polarity == 0,'sentiment'] = 'neutral'\n",
    "df_mb.loc[df_mb.sentiment_compound_polarity < 0,'sentiment'] = 'negative'\n",
    "df_mb.head()"
   ]
  },
  {
   "cell_type": "code",
   "execution_count": null,
   "metadata": {},
   "outputs": [],
   "source": [
    "#df_mb.drop(['sentiment_polarity', 'sentiment_type','sentiment_neutral', 'sentiment_negative', 'sentiment_pos', 'sentiment_compound_polarity'], axis=1, inplace=True)"
   ]
  },
  {
   "cell_type": "code",
   "execution_count": null,
   "metadata": {},
   "outputs": [],
   "source": [
    "df_mb.groupby('pm')['sentiment'].value_counts()"
   ]
  },
  {
   "cell_type": "markdown",
   "metadata": {},
   "source": [
    "### Textblob"
   ]
  },
  {
   "cell_type": "code",
   "execution_count": null,
   "metadata": {},
   "outputs": [],
   "source": [
    "#polarity = lambda x: TextBlob(x).sentiment.polarity\n",
    "#subjectivity = lambda x: TextBlob(x).sentiment.subjectivity\n",
    "#df_mb['polarity_blob'] = df_mb['clean_text'].apply(polarity)\n",
    "#df_mb['subjectivity_blob'] = df_mb['clean_text'].apply(subjectivity)\n",
    "\n",
    "#df_mb.loc[df_mb.polarity_blob >= 1,'sentiment_blob'] = 'positive'\n",
    "#df_mb.loc[df_mb.polarity_blob == 0,'sentiment_blob'] = 'neutral'\n",
    "#df_mb.loc[df_mb.polarity_blob <= 1,'sentiment_blob'] = 'negative'\n",
    "\n",
    "#df_mb.head()"
   ]
  },
  {
   "cell_type": "code",
   "execution_count": null,
   "metadata": {},
   "outputs": [],
   "source": [
    "#with textblob sentiment analysys\n",
    "sentiments_textblob = df_mb['clean_text'].apply(lambda tweet: sentiment_textblob(tweet))\n",
    "pd.DataFrame(sentiments_textblob.value_counts())"
   ]
  },
  {
   "cell_type": "code",
   "execution_count": null,
   "metadata": {},
   "outputs": [],
   "source": [
    "sentiments_textblob = df_mb['clean_text'].apply(lambda tweet: sid.polarity_scores(tweet))\n",
    "pd.DataFrame(sentiments_textblob.value_counts())"
   ]
  },
  {
   "cell_type": "code",
   "execution_count": null,
   "metadata": {},
   "outputs": [],
   "source": [
    "df_mb['sentiment_n'] = df_mb['sentiment'].apply(\n",
    "      lambda x: 2 if x == 'positive' else (0 if x == 'negative' else 1))"
   ]
  },
  {
   "cell_type": "code",
   "execution_count": null,
   "metadata": {},
   "outputs": [],
   "source": [
    "plt.figure(figsize=(20,5)) # Figure size\n",
    "sns.lineplot(x='month', y='sentiment_n', data=df_mb, hue='pm', marker='o')\n",
    "plt.title('Sentiment Analysis on Tweets 2019')\n",
    "plt.xticks(df_mb.month.unique(), rotation=90) \n",
    "plt.show()"
   ]
  },
  {
   "cell_type": "code",
   "execution_count": null,
   "metadata": {},
   "outputs": [],
   "source": [
    "df_mb"
   ]
  },
  {
   "cell_type": "code",
   "execution_count": null,
   "metadata": {},
   "outputs": [],
   "source": []
  }
 ],
 "metadata": {
  "kernelspec": {
   "display_name": "Python 3",
   "language": "python",
   "name": "python3"
  },
  "language_info": {
   "codemirror_mode": {
    "name": "ipython",
    "version": 3
   },
   "file_extension": ".py",
   "mimetype": "text/x-python",
   "name": "python",
   "nbconvert_exporter": "python",
   "pygments_lexer": "ipython3",
   "version": "3.7.4"
  }
 },
 "nbformat": 4,
 "nbformat_minor": 2
}
