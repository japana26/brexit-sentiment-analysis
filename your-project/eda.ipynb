{
 "cells": [
  {
   "cell_type": "markdown",
   "metadata": {},
   "source": [
    "### Imports"
   ]
  },
  {
   "cell_type": "code",
   "execution_count": 234,
   "metadata": {},
   "outputs": [],
   "source": [
    "import pandas as pd\n",
    "import numpy as np\n",
    "\n",
    "import re\n",
    "import string\n",
    "\n",
    "import matplotlib.pyplot as plt\n",
    "import seaborn as sns\n",
    "%matplotlib inline\n",
    "\n",
    "import glob\n",
    "import os\n",
    "\n",
    "from datetime import datetime\n",
    "\n",
    "from nltk.corpus import stopwords\n",
    "from nltk.tokenize import word_tokenize\n",
    "from nltk.stem import PorterStemmer \n",
    "from nltk.stem.snowball import SnowballStemmer\n",
    "from nltk.stem import WordNetLemmatizer \n",
    "from nltk.sentiment.vader import SentimentIntensityAnalyzer\n",
    "from nltk.tokenize import RegexpTokenizer\n",
    "from nltk import pos_tag, pos_tag_sents\n",
    "from nltk.probability import FreqDist\n",
    "import nltk\n",
    "\n",
    "from sklearn.feature_extraction import text\n",
    "from sklearn.feature_extraction.text import CountVectorizer\n",
    "from sklearn.feature_extraction.text import TfidfVectorizer\n",
    "from sklearn.cluster import KMeans\n",
    "from sklearn.metrics import silhouette_score\n",
    "from sklearn import preprocessing\n",
    "\n",
    "from yellowbrick.cluster import KElbowVisualizer\n",
    "\n",
    "from textblob import TextBlob"
   ]
  },
  {
   "cell_type": "code",
   "execution_count": 235,
   "metadata": {},
   "outputs": [],
   "source": [
    "pd.set_option('max_colwidth', 800)"
   ]
  },
  {
   "cell_type": "markdown",
   "metadata": {},
   "source": [
    "### Functions"
   ]
  },
  {
   "cell_type": "code",
   "execution_count": 236,
   "metadata": {},
   "outputs": [],
   "source": [
    "def clean_up(tweet):\n",
    "    tweet.lower()  #convert the tweet to lower case\n",
    "    tweet = re.sub('((www\\.[^\\s]+)|(https?://[^\\s]+))','URL',tweet)  #convert all urls to string \"URL\"\n",
    "    tweet = re.sub('@[^\\s]+','AT_USER', tweet) #convert all @username to \"AT_USER\"\n",
    "    tweet = re.sub('[\\s]+', ' ', tweet)      #correct all multiple white spaces to a single white space\n",
    "    tweet = re.sub(r'#([^\\s]+)', r'\\1', tweet)   #convert \"#topic\" to just \"topic\"\n",
    "    tweet = re.sub(r'\\W*\\b\\w{1,3}\\b', '', tweet)\n",
    "    tweet = re.sub('[^A-Za-z0-9]+', ' ', tweet)  #remove all ponctuation\n",
    "    return tweet\n",
    "\n",
    "def tokenize(s):\n",
    "    return word_tokenize(s)\n",
    "\n",
    "def stem_and_lemmatize(l):\n",
    "    l = ' '.join(l)\n",
    "    stem = PorterStemmer().stem(l)\n",
    "    lemm = WordNetLemmatizer().lemmatize(stem)\n",
    "    return lemm\n",
    "\n",
    "def remove_stopwords(l):\n",
    "    languages = ['english',\n",
    "             'spanish',\n",
    "             'portuguese',\n",
    "             'german',\n",
    "             'french',\n",
    "             'italian',\n",
    "             'turkish'\n",
    "            ]\n",
    "    stop_words = stopwords.words(languages)\n",
    "    return [i for i in l.split() if i not in stop_words]\n",
    "\n",
    "def get_pm(row):\n",
    "    pms = []\n",
    "    text = row[\"text\"].lower()\n",
    "    if \"boris\" in text or \"johnson\" in text:\n",
    "        pms.append(\"boris\")\n",
    "    elif \"theresa\" in text:\n",
    "        pms.append(\"may\")\n",
    "    else:\n",
    "        pms.append(\"none\") \n",
    "    return \",\".join(pms)"
   ]
  },
  {
   "cell_type": "markdown",
   "metadata": {},
   "source": [
    "### Data"
   ]
  },
  {
   "cell_type": "code",
   "execution_count": 237,
   "metadata": {},
   "outputs": [],
   "source": [
    "path = r'/Users/ironhack/Documents/GitHub/IronHack/W9FinalProject/final-project/your-project/tweets/2019' # use your path\n",
    "all_files = glob.glob(os.path.join(path, \"*.csv\"))\n",
    "li = []\n",
    "\n",
    "for filename in all_files:\n",
    "    df = pd.read_csv(filename, index_col=None, header=0)\n",
    "    li.append(df)\n",
    "\n",
    "df = pd.concat(li, axis=0, ignore_index=True)"
   ]
  },
  {
   "cell_type": "code",
   "execution_count": 238,
   "metadata": {},
   "outputs": [
    {
     "name": "stdout",
     "output_type": "stream",
     "text": [
      "<class 'pandas.core.frame.DataFrame'>\n",
      "RangeIndex: 135000 entries, 0 to 134999\n",
      "Data columns (total 15 columns):\n",
      "username          135000 non-null object\n",
      "to                85451 non-null object\n",
      "text              134606 non-null object\n",
      "retweets          135000 non-null int64\n",
      "favorites         135000 non-null int64\n",
      "replies           135000 non-null int64\n",
      "id                135000 non-null int64\n",
      "permalink         135000 non-null object\n",
      "author_id         135000 non-null int64\n",
      "date              135000 non-null object\n",
      "formatted_date    135000 non-null object\n",
      "hashtags          30722 non-null object\n",
      "mentions          18084 non-null object\n",
      "geo               0 non-null float64\n",
      "urls              41042 non-null object\n",
      "dtypes: float64(1), int64(5), object(9)\n",
      "memory usage: 15.4+ MB\n"
     ]
    }
   ],
   "source": [
    "df.info()"
   ]
  },
  {
   "cell_type": "code",
   "execution_count": 239,
   "metadata": {},
   "outputs": [
    {
     "data": {
      "text/plain": [
       "username            0.000000\n",
       "to                 36.702963\n",
       "text                0.291852\n",
       "retweets            0.000000\n",
       "favorites           0.000000\n",
       "replies             0.000000\n",
       "id                  0.000000\n",
       "permalink           0.000000\n",
       "author_id           0.000000\n",
       "date                0.000000\n",
       "formatted_date      0.000000\n",
       "hashtags           77.242963\n",
       "mentions           86.604444\n",
       "geo               100.000000\n",
       "urls               69.598519\n",
       "dtype: float64"
      ]
     },
     "execution_count": 239,
     "metadata": {},
     "output_type": "execute_result"
    }
   ],
   "source": [
    "df.isna().sum()*100/len(df)"
   ]
  },
  {
   "cell_type": "code",
   "execution_count": 240,
   "metadata": {},
   "outputs": [
    {
     "data": {
      "text/plain": [
       "Index(['username', 'to', 'text', 'retweets', 'favorites', 'replies', 'id',\n",
       "       'permalink', 'author_id', 'date', 'formatted_date', 'hashtags',\n",
       "       'mentions', 'geo', 'urls'],\n",
       "      dtype='object')"
      ]
     },
     "execution_count": 240,
     "metadata": {},
     "output_type": "execute_result"
    }
   ],
   "source": [
    "df.columns"
   ]
  },
  {
   "cell_type": "code",
   "execution_count": 241,
   "metadata": {},
   "outputs": [],
   "source": [
    "df = df[['date','id', 'username', 'text']]"
   ]
  },
  {
   "cell_type": "code",
   "execution_count": 242,
   "metadata": {},
   "outputs": [
    {
     "data": {
      "text/html": [
       "<div>\n",
       "<style scoped>\n",
       "    .dataframe tbody tr th:only-of-type {\n",
       "        vertical-align: middle;\n",
       "    }\n",
       "\n",
       "    .dataframe tbody tr th {\n",
       "        vertical-align: top;\n",
       "    }\n",
       "\n",
       "    .dataframe thead th {\n",
       "        text-align: right;\n",
       "    }\n",
       "</style>\n",
       "<table border=\"1\" class=\"dataframe\">\n",
       "  <thead>\n",
       "    <tr style=\"text-align: right;\">\n",
       "      <th></th>\n",
       "      <th>date</th>\n",
       "      <th>id</th>\n",
       "      <th>username</th>\n",
       "      <th>text</th>\n",
       "    </tr>\n",
       "  </thead>\n",
       "  <tbody>\n",
       "    <tr>\n",
       "      <td>0</td>\n",
       "      <td>2019-07-30 23:59:58+00:00</td>\n",
       "      <td>1156353776049111040</td>\n",
       "      <td>janekin24</td>\n",
       "      <td>Not about Brexit for Boris. I see his strategy. It’s all about killing off TBP. Smokescreen of WTO hard talk.Then he will give us Brino. Well Twitter friends. Are we going to let him get away with this or will we take TBP all the way to government? We are not going into that box!</td>\n",
       "    </tr>\n",
       "    <tr>\n",
       "      <td>1</td>\n",
       "      <td>2019-07-30 23:59:58+00:00</td>\n",
       "      <td>1156353774262390785</td>\n",
       "      <td>brexit_clock</td>\n",
       "      <td>WOW - Another Brexit extension - time now until 31st October 2019 : 92 days, 21 hours, 59 minutes and 59 seconds #BREXIT #BREXITCLOCK #CLOCK #EU #EUREF #LEAVE</td>\n",
       "    </tr>\n",
       "    <tr>\n",
       "      <td>2</td>\n",
       "      <td>2019-07-30 23:59:50+00:00</td>\n",
       "      <td>1156353739437019136</td>\n",
       "      <td>JuanWild51</td>\n",
       "      <td>Brexit: Can Anyone Take the Wheel From Johnson?..#Bojo..#Brexit..#Britain..</td>\n",
       "    </tr>\n",
       "    <tr>\n",
       "      <td>3</td>\n",
       "      <td>2019-07-30 23:59:45+00:00</td>\n",
       "      <td>1156353717987368960</td>\n",
       "      <td>DGAll41</td>\n",
       "      <td>Brexit minister Stephen Barclay tells Michel Barnier that UK will leave EU on October 31 with or without a deal - Evening Standard. Amazing Gove has just been bollocked for similar terminology and less than 24 hrs later, dick Barclay blunders in.</td>\n",
       "    </tr>\n",
       "    <tr>\n",
       "      <td>4</td>\n",
       "      <td>2019-07-30 23:59:44+00:00</td>\n",
       "      <td>1156353717232459776</td>\n",
       "      <td>BioMickWatson</td>\n",
       "      <td>This isn't a superhero movie where the bad guy gets to be a good guy because they share common cause. Brexit and Scottish indy *are* the common cause we need to fight against</td>\n",
       "    </tr>\n",
       "  </tbody>\n",
       "</table>\n",
       "</div>"
      ],
      "text/plain": [
       "                        date                   id       username  \\\n",
       "0  2019-07-30 23:59:58+00:00  1156353776049111040      janekin24   \n",
       "1  2019-07-30 23:59:58+00:00  1156353774262390785   brexit_clock   \n",
       "2  2019-07-30 23:59:50+00:00  1156353739437019136     JuanWild51   \n",
       "3  2019-07-30 23:59:45+00:00  1156353717987368960        DGAll41   \n",
       "4  2019-07-30 23:59:44+00:00  1156353717232459776  BioMickWatson   \n",
       "\n",
       "                                                                                                                                                                                                                                                                                       text  \n",
       "0  Not about Brexit for Boris. I see his strategy. It’s all about killing off TBP. Smokescreen of WTO hard talk.Then he will give us Brino. Well Twitter friends. Are we going to let him get away with this or will we take TBP all the way to government? We are not going into that box!  \n",
       "1                                                                                                                            WOW - Another Brexit extension - time now until 31st October 2019 : 92 days, 21 hours, 59 minutes and 59 seconds #BREXIT #BREXITCLOCK #CLOCK #EU #EUREF #LEAVE  \n",
       "2                                                                                                                                                                                                               Brexit: Can Anyone Take the Wheel From Johnson?..#Bojo..#Brexit..#Britain..  \n",
       "3                                   Brexit minister Stephen Barclay tells Michel Barnier that UK will leave EU on October 31 with or without a deal - Evening Standard. Amazing Gove has just been bollocked for similar terminology and less than 24 hrs later, dick Barclay blunders in.   \n",
       "4                                                                                                            This isn't a superhero movie where the bad guy gets to be a good guy because they share common cause. Brexit and Scottish indy *are* the common cause we need to fight against  "
      ]
     },
     "execution_count": 242,
     "metadata": {},
     "output_type": "execute_result"
    }
   ],
   "source": [
    "df.head()"
   ]
  },
  {
   "cell_type": "code",
   "execution_count": 243,
   "metadata": {},
   "outputs": [],
   "source": [
    "df.dropna(inplace=True)"
   ]
  },
  {
   "cell_type": "code",
   "execution_count": 244,
   "metadata": {},
   "outputs": [
    {
     "data": {
      "text/plain": [
       "date        object\n",
       "id           int64\n",
       "username    object\n",
       "text        object\n",
       "dtype: object"
      ]
     },
     "execution_count": 244,
     "metadata": {},
     "output_type": "execute_result"
    }
   ],
   "source": [
    "df.dtypes"
   ]
  },
  {
   "cell_type": "code",
   "execution_count": 245,
   "metadata": {},
   "outputs": [
    {
     "data": {
      "text/html": [
       "<div>\n",
       "<style scoped>\n",
       "    .dataframe tbody tr th:only-of-type {\n",
       "        vertical-align: middle;\n",
       "    }\n",
       "\n",
       "    .dataframe tbody tr th {\n",
       "        vertical-align: top;\n",
       "    }\n",
       "\n",
       "    .dataframe thead th {\n",
       "        text-align: right;\n",
       "    }\n",
       "</style>\n",
       "<table border=\"1\" class=\"dataframe\">\n",
       "  <thead>\n",
       "    <tr style=\"text-align: right;\">\n",
       "      <th></th>\n",
       "      <th>date</th>\n",
       "      <th>id</th>\n",
       "      <th>username</th>\n",
       "      <th>text</th>\n",
       "    </tr>\n",
       "  </thead>\n",
       "  <tbody>\n",
       "  </tbody>\n",
       "</table>\n",
       "</div>"
      ],
      "text/plain": [
       "Empty DataFrame\n",
       "Columns: [date, id, username, text]\n",
       "Index: []"
      ]
     },
     "execution_count": 245,
     "metadata": {},
     "output_type": "execute_result"
    }
   ],
   "source": [
    "df[df.duplicated()]"
   ]
  },
  {
   "cell_type": "code",
   "execution_count": 246,
   "metadata": {},
   "outputs": [],
   "source": [
    "df.drop('id', inplace=True, axis=1)"
   ]
  },
  {
   "cell_type": "markdown",
   "metadata": {},
   "source": [
    "### Fixing time type column"
   ]
  },
  {
   "cell_type": "code",
   "execution_count": 247,
   "metadata": {},
   "outputs": [],
   "source": [
    "df['date'] = pd.to_datetime(df['date'])\n",
    "df['date'] = [d.date() for d in df['date']]"
   ]
  },
  {
   "cell_type": "markdown",
   "metadata": {},
   "source": [
    "### Creating column for Theresa May/Boris Jonhson - selecting tweets that only refer the PMs"
   ]
  },
  {
   "cell_type": "code",
   "execution_count": 248,
   "metadata": {},
   "outputs": [],
   "source": [
    "df[\"pm\"] = df.apply(get_pm,axis=1)"
   ]
  },
  {
   "cell_type": "code",
   "execution_count": 249,
   "metadata": {},
   "outputs": [],
   "source": [
    "#le = preprocessing.LabelEncoder()\n",
    "#df[\"pm_label\"] = le.fit_transform(df.pm.values)"
   ]
  },
  {
   "cell_type": "code",
   "execution_count": 250,
   "metadata": {
    "scrolled": true
   },
   "outputs": [
    {
     "data": {
      "text/plain": [
       "none     113240\n",
       "boris     13471\n",
       "may        7895\n",
       "Name: pm, dtype: int64"
      ]
     },
     "execution_count": 250,
     "metadata": {},
     "output_type": "execute_result"
    }
   ],
   "source": [
    "df[\"pm\"].value_counts()"
   ]
  },
  {
   "cell_type": "code",
   "execution_count": 251,
   "metadata": {},
   "outputs": [],
   "source": [
    "may_df = df[df['pm'] == 'may']\n",
    "boris_df = df[df['pm'] == 'boris']\n",
    "df_mb = may_df.append(boris_df)"
   ]
  },
  {
   "cell_type": "markdown",
   "metadata": {},
   "source": [
    "### Cleaning the tweets"
   ]
  },
  {
   "cell_type": "code",
   "execution_count": 252,
   "metadata": {},
   "outputs": [],
   "source": [
    "df_mb['text_wturls'] = df_mb['text'].apply(clean_up)"
   ]
  },
  {
   "cell_type": "code",
   "execution_count": 253,
   "metadata": {},
   "outputs": [],
   "source": [
    "df_mb['text_processed'] = df_mb['text'].apply(clean_up).apply(tokenize).apply(stem_and_lemmatize)\\\n",
    "                       .apply(remove_stopwords)"
   ]
  },
  {
   "cell_type": "code",
   "execution_count": 254,
   "metadata": {},
   "outputs": [],
   "source": [
    "df_mb['clean_text'] = [' '.join(map(str, l)) for l in df_mb['text_processed']]"
   ]
  },
  {
   "cell_type": "markdown",
   "metadata": {},
   "source": [
    "### Making tags for May"
   ]
  },
  {
   "cell_type": "code",
   "execution_count": 137,
   "metadata": {},
   "outputs": [],
   "source": [
    "df_mb['POSTags'] = pos_tag_sents(df_mb['clean_text'].apply(word_tokenize).tolist())"
   ]
  },
  {
   "cell_type": "code",
   "execution_count": 255,
   "metadata": {},
   "outputs": [],
   "source": [
    "df_mb = df_mb[['date','text','text_wturls','text_processed','clean_text','pm']]"
   ]
  },
  {
   "cell_type": "code",
   "execution_count": 256,
   "metadata": {},
   "outputs": [
    {
     "data": {
      "text/html": [
       "<div>\n",
       "<style scoped>\n",
       "    .dataframe tbody tr th:only-of-type {\n",
       "        vertical-align: middle;\n",
       "    }\n",
       "\n",
       "    .dataframe tbody tr th {\n",
       "        vertical-align: top;\n",
       "    }\n",
       "\n",
       "    .dataframe thead th {\n",
       "        text-align: right;\n",
       "    }\n",
       "</style>\n",
       "<table border=\"1\" class=\"dataframe\">\n",
       "  <thead>\n",
       "    <tr style=\"text-align: right;\">\n",
       "      <th></th>\n",
       "      <th>date</th>\n",
       "      <th>text</th>\n",
       "      <th>text_wturls</th>\n",
       "      <th>text_processed</th>\n",
       "      <th>clean_text</th>\n",
       "      <th>pm</th>\n",
       "    </tr>\n",
       "  </thead>\n",
       "  <tbody>\n",
       "    <tr>\n",
       "      <td>287</td>\n",
       "      <td>2019-07-30</td>\n",
       "      <td>Theresa May was not highly rated by her colleagues or the civil service, even before she became PM. But on top of that, she supported Remain in the referendum. Therefore she always regarded #Brexit as a damage limitation exercise, rather than a golden opportunity for the UK.</td>\n",
       "      <td>Theresa highly rated colleagues civil service even before became that supported Remain referendum Therefore always regarded Brexit damage limitation exercise rather than golden opportunity</td>\n",
       "      <td>[theresa, highly, rated, colleagues, civil, service, even, became, supported, remain, referendum, therefore, always, regarded, brexit, damage, limitation, exercise, rather, golden, opportun]</td>\n",
       "      <td>theresa highly rated colleagues civil service even became supported remain referendum therefore always regarded brexit damage limitation exercise rather golden opportun</td>\n",
       "      <td>may</td>\n",
       "    </tr>\n",
       "    <tr>\n",
       "      <td>621</td>\n",
       "      <td>2019-07-30</td>\n",
       "      <td>Theresa May MP: Give People a Final Say on Brexit Deal - Sign the Petition! http://chng.it/V2hMq75D via @UKChange</td>\n",
       "      <td>Theresa Give People Final Brexit Deal Sign Petition AT USER</td>\n",
       "      <td>[theresa, give, people, final, brexit, deal, sign, petition, us]</td>\n",
       "      <td>theresa give people final brexit deal sign petition us</td>\n",
       "      <td>may</td>\n",
       "    </tr>\n",
       "    <tr>\n",
       "      <td>1033</td>\n",
       "      <td>2019-07-30</td>\n",
       "      <td>Brexit Flextension Will Be Extended Forevextension in Permaextension Brexitstension https://www.dailysquib.co.uk/world/31578-brexit-flextension-will-be-extended-forevextension-in-permaextension-brexitstention.html #brexit #theresamay</td>\n",
       "      <td>Brexit Flextension Will Extended Forevextension Permaextension Brexitstension brexit theresamay</td>\n",
       "      <td>[brexit, flextension, extended, forevextension, permaextension, brexitstension, brexit, theresamay]</td>\n",
       "      <td>brexit flextension extended forevextension permaextension brexitstension brexit theresamay</td>\n",
       "      <td>may</td>\n",
       "    </tr>\n",
       "    <tr>\n",
       "      <td>1110</td>\n",
       "      <td>2019-07-30</td>\n",
       "      <td>#Brexit Delay #TheresaMay Consulted by Peter Mandelson, David Cameron &amp;amp; Tony Blair https://www.dailysquib.co.uk/world/20666-theresa-may-consulted-peter-mandelson-david-cameron-tony-blair.html</td>\n",
       "      <td>Brexit Delay TheresaMay Consulted Peter Mandelson David Cameron Tony Blair</td>\n",
       "      <td>[brexit, delay, theresamay, consulted, peter, mandelson, david, cameron, tony, blair]</td>\n",
       "      <td>brexit delay theresamay consulted peter mandelson david cameron tony blair</td>\n",
       "      <td>may</td>\n",
       "    </tr>\n",
       "    <tr>\n",
       "      <td>1357</td>\n",
       "      <td>2019-07-30</td>\n",
       "      <td>Very interesting documentary last week describing how Theresa May came to realise the genuine threat to the Union caused by a no deal Brexit.</td>\n",
       "      <td>Very interesting documentary last week describing Theresa came realise genuine threat Union caused deal Brexit</td>\n",
       "      <td>[interesting, documentary, last, week, describing, theresa, came, realise, genuine, threat, union, caused, deal, brexit]</td>\n",
       "      <td>interesting documentary last week describing theresa came realise genuine threat union caused deal brexit</td>\n",
       "      <td>may</td>\n",
       "    </tr>\n",
       "    <tr>\n",
       "      <td>...</td>\n",
       "      <td>...</td>\n",
       "      <td>...</td>\n",
       "      <td>...</td>\n",
       "      <td>...</td>\n",
       "      <td>...</td>\n",
       "      <td>...</td>\n",
       "    </tr>\n",
       "    <tr>\n",
       "      <td>134943</td>\n",
       "      <td>2020-02-12</td>\n",
       "      <td>@BorisJohnson, racists, andfar right @Conservatives got #Brexit, because they want to close the borders and don't have a plan to protect the economy which will hurt the country. #BrexitRacism #DissolveTheUnion #BrexitShambles #BrexitLies #Antifascism #Antiracism #BorisTheLiar</td>\n",
       "      <td>AT USER racists andfar right AT USER Brexit because they want close borders have plan protect economy which will hurt country BrexitRacism DissolveTheUnion BrexitShambles BrexitLies Antifascism Antiracism BorisTheLiar</td>\n",
       "      <td>[user, racists, andfar, right, user, brexit, want, close, borders, plan, protect, economy, hurt, country, brexitracism, dissolvetheunion, brexitshambles, brexitlies, antifascism, antiracism, boristheliar]</td>\n",
       "      <td>user racists andfar right user brexit want close borders plan protect economy hurt country brexitracism dissolvetheunion brexitshambles brexitlies antifascism antiracism boristheliar</td>\n",
       "      <td>boris</td>\n",
       "    </tr>\n",
       "    <tr>\n",
       "      <td>134947</td>\n",
       "      <td>2020-02-12</td>\n",
       "      <td>The Guardian view on Boris Johnson in court: Brexit’s war on the law</td>\n",
       "      <td>Guardian view Boris Johnson court Brexit</td>\n",
       "      <td>[guardian, view, boris, johnson, court, brexit]</td>\n",
       "      <td>guardian view boris johnson court brexit</td>\n",
       "      <td>boris</td>\n",
       "    </tr>\n",
       "    <tr>\n",
       "      <td>134958</td>\n",
       "      <td>2020-02-12</td>\n",
       "      <td>The Guardian view on Boris Johnson in court: Brexit’s war on the law https://www.plow.io/post/the-guardian-view-on-boris-johnson-in-court-brexits-war-on-the-law?utm_source=Twitter&amp;amp;utm_campaign=UK_politics +1 UKBot #UK #politics</td>\n",
       "      <td>Guardian view Boris Johnson court Brexit UKBot politics</td>\n",
       "      <td>[guardian, view, boris, johnson, court, brexit, ukbot, polit]</td>\n",
       "      <td>guardian view boris johnson court brexit ukbot polit</td>\n",
       "      <td>boris</td>\n",
       "    </tr>\n",
       "    <tr>\n",
       "      <td>134978</td>\n",
       "      <td>2020-02-12</td>\n",
       "      <td>Britain lost its seat at the Top Table in Brussels and I hold #Rt_Hon_Boris_Johnson_MP responsible for the mess created by his Conservative Party during the #Ferile_BrExit_Period_2016_2019</td>\n",
       "      <td>Britain lost seat Table Brussels hold Rt Hon Boris Johnson MP responsible mess created Conservative Party during Ferile BrExit Period 2016 2019</td>\n",
       "      <td>[britain, lost, seat, table, brussels, hold, rt, hon, boris, johnson, mp, responsible, mess, created, conservative, party, ferile, brexit, period, 2016, 2019]</td>\n",
       "      <td>britain lost seat table brussels hold rt hon boris johnson mp responsible mess created conservative party ferile brexit period 2016 2019</td>\n",
       "      <td>boris</td>\n",
       "    </tr>\n",
       "    <tr>\n",
       "      <td>134993</td>\n",
       "      <td>2020-02-12</td>\n",
       "      <td>We Brexiteers must stay on the battlefield to stiffen Boris' resolve in fighting the EU #Brexit #EU #MondayMotivaton https://www.telegraph.co.uk/politics/2020/02/12/brexiteers-must-stay-battlefield-stiffen-boris-resolve-fighting/?WT.mc_id=tmg_share_tw via @Telegraph</td>\n",
       "      <td>Brexiteers must stay battlefield stiffen Boris resolve fighting Brexit MondayMotivaton AT USER</td>\n",
       "      <td>[brexiteers, must, stay, battlefield, stiffen, boris, resolve, fighting, brexit, mondaymotivaton, us]</td>\n",
       "      <td>brexiteers must stay battlefield stiffen boris resolve fighting brexit mondaymotivaton us</td>\n",
       "      <td>boris</td>\n",
       "    </tr>\n",
       "  </tbody>\n",
       "</table>\n",
       "<p>21366 rows × 6 columns</p>\n",
       "</div>"
      ],
      "text/plain": [
       "              date  \\\n",
       "287     2019-07-30   \n",
       "621     2019-07-30   \n",
       "1033    2019-07-30   \n",
       "1110    2019-07-30   \n",
       "1357    2019-07-30   \n",
       "...            ...   \n",
       "134943  2020-02-12   \n",
       "134947  2020-02-12   \n",
       "134958  2020-02-12   \n",
       "134978  2020-02-12   \n",
       "134993  2020-02-12   \n",
       "\n",
       "                                                                                                                                                                                                                                                                                        text  \\\n",
       "287      Theresa May was not highly rated by her colleagues or the civil service, even before she became PM. But on top of that, she supported Remain in the referendum. Therefore she always regarded #Brexit as a damage limitation exercise, rather than a golden opportunity for the UK.   \n",
       "621                                                                                                                                                                        Theresa May MP: Give People a Final Say on Brexit Deal - Sign the Petition! http://chng.it/V2hMq75D via @UKChange   \n",
       "1033                                               Brexit Flextension Will Be Extended Forevextension in Permaextension Brexitstension https://www.dailysquib.co.uk/world/31578-brexit-flextension-will-be-extended-forevextension-in-permaextension-brexitstention.html #brexit #theresamay   \n",
       "1110                                                                                     #Brexit Delay #TheresaMay Consulted by Peter Mandelson, David Cameron &amp; Tony Blair https://www.dailysquib.co.uk/world/20666-theresa-may-consulted-peter-mandelson-david-cameron-tony-blair.html   \n",
       "1357                                                                                                                                          Very interesting documentary last week describing how Theresa May came to realise the genuine threat to the Union caused by a no deal Brexit.    \n",
       "...                                                                                                                                                                                                                                                                                      ...   \n",
       "134943  @BorisJohnson, racists, andfar right @Conservatives got #Brexit, because they want to close the borders and don't have a plan to protect the economy which will hurt the country. #BrexitRacism #DissolveTheUnion #BrexitShambles #BrexitLies #Antifascism #Antiracism #BorisTheLiar   \n",
       "134947                                                                                                                                                                                                                 The Guardian view on Boris Johnson in court: Brexit’s war on the law    \n",
       "134958                                               The Guardian view on Boris Johnson in court: Brexit’s war on the law https://www.plow.io/post/the-guardian-view-on-boris-johnson-in-court-brexits-war-on-the-law?utm_source=Twitter&amp;utm_campaign=UK_politics +1 UKBot #UK #politics   \n",
       "134978                                                                                          Britain lost its seat at the Top Table in Brussels and I hold #Rt_Hon_Boris_Johnson_MP responsible for the mess created by his Conservative Party during the #Ferile_BrExit_Period_2016_2019   \n",
       "134993            We Brexiteers must stay on the battlefield to stiffen Boris' resolve in fighting the EU #Brexit #EU #MondayMotivaton https://www.telegraph.co.uk/politics/2020/02/12/brexiteers-must-stay-battlefield-stiffen-boris-resolve-fighting/?WT.mc_id=tmg_share_tw via @Telegraph   \n",
       "\n",
       "                                                                                                                                                                                                                      text_wturls  \\\n",
       "287                                 Theresa highly rated colleagues civil service even before became that supported Remain referendum Therefore always regarded Brexit damage limitation exercise rather than golden opportunity    \n",
       "621                                                                                                                                                                   Theresa Give People Final Brexit Deal Sign Petition AT USER   \n",
       "1033                                                                                                                              Brexit Flextension Will Extended Forevextension Permaextension Brexitstension brexit theresamay   \n",
       "1110                                                                                                                                                   Brexit Delay TheresaMay Consulted Peter Mandelson David Cameron Tony Blair   \n",
       "1357                                                                                                              Very interesting documentary last week describing Theresa came realise genuine threat Union caused deal Brexit    \n",
       "...                                                                                                                                                                                                                           ...   \n",
       "134943  AT USER racists andfar right AT USER Brexit because they want close borders have plan protect economy which will hurt country BrexitRacism DissolveTheUnion BrexitShambles BrexitLies Antifascism Antiracism BorisTheLiar   \n",
       "134947                                                                                                                                                                                  Guardian view Boris Johnson court Brexit    \n",
       "134958                                                                                                                                                                    Guardian view Boris Johnson court Brexit UKBot politics   \n",
       "134978                                                                            Britain lost seat Table Brussels hold Rt Hon Boris Johnson MP responsible mess created Conservative Party during Ferile BrExit Period 2016 2019   \n",
       "134993                                                                                                                             Brexiteers must stay battlefield stiffen Boris resolve fighting Brexit MondayMotivaton AT USER   \n",
       "\n",
       "                                                                                                                                                                                                      text_processed  \\\n",
       "287                   [theresa, highly, rated, colleagues, civil, service, even, became, supported, remain, referendum, therefore, always, regarded, brexit, damage, limitation, exercise, rather, golden, opportun]   \n",
       "621                                                                                                                                                 [theresa, give, people, final, brexit, deal, sign, petition, us]   \n",
       "1033                                                                                                             [brexit, flextension, extended, forevextension, permaextension, brexitstension, brexit, theresamay]   \n",
       "1110                                                                                                                           [brexit, delay, theresamay, consulted, peter, mandelson, david, cameron, tony, blair]   \n",
       "1357                                                                                        [interesting, documentary, last, week, describing, theresa, came, realise, genuine, threat, union, caused, deal, brexit]   \n",
       "...                                                                                                                                                                                                              ...   \n",
       "134943  [user, racists, andfar, right, user, brexit, want, close, borders, plan, protect, economy, hurt, country, brexitracism, dissolvetheunion, brexitshambles, brexitlies, antifascism, antiracism, boristheliar]   \n",
       "134947                                                                                                                                                               [guardian, view, boris, johnson, court, brexit]   \n",
       "134958                                                                                                                                                 [guardian, view, boris, johnson, court, brexit, ukbot, polit]   \n",
       "134978                                                [britain, lost, seat, table, brussels, hold, rt, hon, boris, johnson, mp, responsible, mess, created, conservative, party, ferile, brexit, period, 2016, 2019]   \n",
       "134993                                                                                                         [brexiteers, must, stay, battlefield, stiffen, boris, resolve, fighting, brexit, mondaymotivaton, us]   \n",
       "\n",
       "                                                                                                                                                                                    clean_text  \\\n",
       "287                   theresa highly rated colleagues civil service even became supported remain referendum therefore always regarded brexit damage limitation exercise rather golden opportun   \n",
       "621                                                                                                                                     theresa give people final brexit deal sign petition us   \n",
       "1033                                                                                                brexit flextension extended forevextension permaextension brexitstension brexit theresamay   \n",
       "1110                                                                                                                brexit delay theresamay consulted peter mandelson david cameron tony blair   \n",
       "1357                                                                                 interesting documentary last week describing theresa came realise genuine threat union caused deal brexit   \n",
       "...                                                                                                                                                                                        ...   \n",
       "134943  user racists andfar right user brexit want close borders plan protect economy hurt country brexitracism dissolvetheunion brexitshambles brexitlies antifascism antiracism boristheliar   \n",
       "134947                                                                                                                                                guardian view boris johnson court brexit   \n",
       "134958                                                                                                                                    guardian view boris johnson court brexit ukbot polit   \n",
       "134978                                                britain lost seat table brussels hold rt hon boris johnson mp responsible mess created conservative party ferile brexit period 2016 2019   \n",
       "134993                                                                                               brexiteers must stay battlefield stiffen boris resolve fighting brexit mondaymotivaton us   \n",
       "\n",
       "           pm  \n",
       "287       may  \n",
       "621       may  \n",
       "1033      may  \n",
       "1110      may  \n",
       "1357      may  \n",
       "...       ...  \n",
       "134943  boris  \n",
       "134947  boris  \n",
       "134958  boris  \n",
       "134978  boris  \n",
       "134993  boris  \n",
       "\n",
       "[21366 rows x 6 columns]"
      ]
     },
     "execution_count": 256,
     "metadata": {},
     "output_type": "execute_result"
    }
   ],
   "source": [
    "df_mb"
   ]
  },
  {
   "cell_type": "markdown",
   "metadata": {},
   "source": [
    "### Checking top words"
   ]
  },
  {
   "cell_type": "code",
   "execution_count": 178,
   "metadata": {},
   "outputs": [
    {
     "data": {
      "text/plain": [
       "Text(0.5, 1.0, 'Most Frequently Occuring Words - Top 50')"
      ]
     },
     "execution_count": 178,
     "metadata": {},
     "output_type": "execute_result"
    },
    {
     "data": {
      "image/png": "[encoded data removed]",
      "text/plain": [
       "<Figure size 1080x504 with 1 Axes>"
      ]
     },
     "metadata": {
      "needs_background": "light"
     },
     "output_type": "display_data"
    }
   ],
   "source": [
    "cv = CountVectorizer(stop_words = 'english')\n",
    "words = cv.fit_transform(df_mb['clean_text'])\n",
    "\n",
    "sum_words = words.sum(axis=0)\n",
    "\n",
    "words_freq = [(word, sum_words[0, i]) for word, i in cv.vocabulary_.items()]\n",
    "words_freq = sorted(words_freq, key = lambda x: x[1], reverse = True)\n",
    "\n",
    "frequency = pd.DataFrame(words_freq, columns=['word', 'freq'])\n",
    "\n",
    "frequency.head(50).plot(x='word', y='freq', kind='bar', figsize=(15, 7), color = 'blue')\n",
    "plt.title(\"Most Frequently Occuring Words - Top 50\")"
   ]
  },
  {
   "cell_type": "code",
   "execution_count": 179,
   "metadata": {},
   "outputs": [
    {
     "data": {
      "text/html": [
       "<div>\n",
       "<style scoped>\n",
       "    .dataframe tbody tr th:only-of-type {\n",
       "        vertical-align: middle;\n",
       "    }\n",
       "\n",
       "    .dataframe tbody tr th {\n",
       "        vertical-align: top;\n",
       "    }\n",
       "\n",
       "    .dataframe thead th {\n",
       "        text-align: right;\n",
       "    }\n",
       "</style>\n",
       "<table border=\"1\" class=\"dataframe\">\n",
       "  <thead>\n",
       "    <tr style=\"text-align: right;\">\n",
       "      <th></th>\n",
       "      <th>word</th>\n",
       "      <th>freq</th>\n",
       "    </tr>\n",
       "  </thead>\n",
       "  <tbody>\n",
       "    <tr>\n",
       "      <td>0</td>\n",
       "      <td>brexit</td>\n",
       "      <td>15290</td>\n",
       "    </tr>\n",
       "    <tr>\n",
       "      <td>1</td>\n",
       "      <td>user</td>\n",
       "      <td>13704</td>\n",
       "    </tr>\n",
       "    <tr>\n",
       "      <td>2</td>\n",
       "      <td>boris</td>\n",
       "      <td>8357</td>\n",
       "    </tr>\n",
       "    <tr>\n",
       "      <td>3</td>\n",
       "      <td>theresa</td>\n",
       "      <td>6301</td>\n",
       "    </tr>\n",
       "    <tr>\n",
       "      <td>4</td>\n",
       "      <td>johnson</td>\n",
       "      <td>6202</td>\n",
       "    </tr>\n",
       "    <tr>\n",
       "      <td>5</td>\n",
       "      <td>deal</td>\n",
       "      <td>3309</td>\n",
       "    </tr>\n",
       "    <tr>\n",
       "      <td>6</td>\n",
       "      <td>vote</td>\n",
       "      <td>1607</td>\n",
       "    </tr>\n",
       "    <tr>\n",
       "      <td>7</td>\n",
       "      <td>party</td>\n",
       "      <td>1501</td>\n",
       "    </tr>\n",
       "    <tr>\n",
       "      <td>8</td>\n",
       "      <td>people</td>\n",
       "      <td>1352</td>\n",
       "    </tr>\n",
       "    <tr>\n",
       "      <td>9</td>\n",
       "      <td>like</td>\n",
       "      <td>1263</td>\n",
       "    </tr>\n",
       "    <tr>\n",
       "      <td>10</td>\n",
       "      <td>labour</td>\n",
       "      <td>1183</td>\n",
       "    </tr>\n",
       "    <tr>\n",
       "      <td>11</td>\n",
       "      <td>tory</td>\n",
       "      <td>1078</td>\n",
       "    </tr>\n",
       "    <tr>\n",
       "      <td>12</td>\n",
       "      <td>think</td>\n",
       "      <td>882</td>\n",
       "    </tr>\n",
       "    <tr>\n",
       "      <td>13</td>\n",
       "      <td>leave</td>\n",
       "      <td>870</td>\n",
       "    </tr>\n",
       "    <tr>\n",
       "      <td>14</td>\n",
       "      <td>want</td>\n",
       "      <td>802</td>\n",
       "    </tr>\n",
       "    <tr>\n",
       "      <td>15</td>\n",
       "      <td>corbyn</td>\n",
       "      <td>797</td>\n",
       "    </tr>\n",
       "    <tr>\n",
       "      <td>16</td>\n",
       "      <td>time</td>\n",
       "      <td>794</td>\n",
       "    </tr>\n",
       "    <tr>\n",
       "      <td>17</td>\n",
       "      <td>tories</td>\n",
       "      <td>766</td>\n",
       "    </tr>\n",
       "    <tr>\n",
       "      <td>18</td>\n",
       "      <td>parliament</td>\n",
       "      <td>746</td>\n",
       "    </tr>\n",
       "    <tr>\n",
       "      <td>19</td>\n",
       "      <td>stop</td>\n",
       "      <td>732</td>\n",
       "    </tr>\n",
       "    <tr>\n",
       "      <td>20</td>\n",
       "      <td>know</td>\n",
       "      <td>695</td>\n",
       "    </tr>\n",
       "    <tr>\n",
       "      <td>21</td>\n",
       "      <td>voted</td>\n",
       "      <td>691</td>\n",
       "    </tr>\n",
       "    <tr>\n",
       "      <td>22</td>\n",
       "      <td>country</td>\n",
       "      <td>673</td>\n",
       "    </tr>\n",
       "    <tr>\n",
       "      <td>23</td>\n",
       "      <td>election</td>\n",
       "      <td>648</td>\n",
       "    </tr>\n",
       "    <tr>\n",
       "      <td>24</td>\n",
       "      <td>plan</td>\n",
       "      <td>633</td>\n",
       "    </tr>\n",
       "    <tr>\n",
       "      <td>25</td>\n",
       "      <td>minister</td>\n",
       "      <td>631</td>\n",
       "    </tr>\n",
       "    <tr>\n",
       "      <td>26</td>\n",
       "      <td>going</td>\n",
       "      <td>620</td>\n",
       "    </tr>\n",
       "    <tr>\n",
       "      <td>27</td>\n",
       "      <td>support</td>\n",
       "      <td>595</td>\n",
       "    </tr>\n",
       "    <tr>\n",
       "      <td>28</td>\n",
       "      <td>remain</td>\n",
       "      <td>586</td>\n",
       "    </tr>\n",
       "    <tr>\n",
       "      <td>29</td>\n",
       "      <td>farage</td>\n",
       "      <td>586</td>\n",
       "    </tr>\n",
       "    <tr>\n",
       "      <td>30</td>\n",
       "      <td>right</td>\n",
       "      <td>585</td>\n",
       "    </tr>\n",
       "    <tr>\n",
       "      <td>31</td>\n",
       "      <td>government</td>\n",
       "      <td>556</td>\n",
       "    </tr>\n",
       "    <tr>\n",
       "      <td>32</td>\n",
       "      <td>good</td>\n",
       "      <td>550</td>\n",
       "    </tr>\n",
       "    <tr>\n",
       "      <td>33</td>\n",
       "      <td>need</td>\n",
       "      <td>544</td>\n",
       "    </tr>\n",
       "    <tr>\n",
       "      <td>34</td>\n",
       "      <td>trump</td>\n",
       "      <td>541</td>\n",
       "    </tr>\n",
       "    <tr>\n",
       "      <td>35</td>\n",
       "      <td>britain</td>\n",
       "      <td>540</td>\n",
       "    </tr>\n",
       "    <tr>\n",
       "      <td>36</td>\n",
       "      <td>borisjohnson</td>\n",
       "      <td>538</td>\n",
       "    </tr>\n",
       "    <tr>\n",
       "      <td>37</td>\n",
       "      <td>make</td>\n",
       "      <td>530</td>\n",
       "    </tr>\n",
       "    <tr>\n",
       "      <td>38</td>\n",
       "      <td>prime</td>\n",
       "      <td>526</td>\n",
       "    </tr>\n",
       "    <tr>\n",
       "      <td>39</td>\n",
       "      <td>said</td>\n",
       "      <td>522</td>\n",
       "    </tr>\n",
       "    <tr>\n",
       "      <td>40</td>\n",
       "      <td>british</td>\n",
       "      <td>511</td>\n",
       "    </tr>\n",
       "    <tr>\n",
       "      <td>41</td>\n",
       "      <td>news</td>\n",
       "      <td>506</td>\n",
       "    </tr>\n",
       "    <tr>\n",
       "      <td>42</td>\n",
       "      <td>deliver</td>\n",
       "      <td>492</td>\n",
       "    </tr>\n",
       "    <tr>\n",
       "      <td>43</td>\n",
       "      <td>years</td>\n",
       "      <td>478</td>\n",
       "    </tr>\n",
       "    <tr>\n",
       "      <td>44</td>\n",
       "      <td>really</td>\n",
       "      <td>453</td>\n",
       "    </tr>\n",
       "    <tr>\n",
       "      <td>45</td>\n",
       "      <td>says</td>\n",
       "      <td>450</td>\n",
       "    </tr>\n",
       "    <tr>\n",
       "      <td>46</td>\n",
       "      <td>trade</td>\n",
       "      <td>449</td>\n",
       "    </tr>\n",
       "    <tr>\n",
       "      <td>47</td>\n",
       "      <td>hard</td>\n",
       "      <td>435</td>\n",
       "    </tr>\n",
       "    <tr>\n",
       "      <td>48</td>\n",
       "      <td>majority</td>\n",
       "      <td>434</td>\n",
       "    </tr>\n",
       "    <tr>\n",
       "      <td>49</td>\n",
       "      <td>referendum</td>\n",
       "      <td>431</td>\n",
       "    </tr>\n",
       "  </tbody>\n",
       "</table>\n",
       "</div>"
      ],
      "text/plain": [
       "            word   freq\n",
       "0         brexit  15290\n",
       "1           user  13704\n",
       "2          boris   8357\n",
       "3        theresa   6301\n",
       "4        johnson   6202\n",
       "5           deal   3309\n",
       "6           vote   1607\n",
       "7          party   1501\n",
       "8         people   1352\n",
       "9           like   1263\n",
       "10        labour   1183\n",
       "11          tory   1078\n",
       "12         think    882\n",
       "13         leave    870\n",
       "14          want    802\n",
       "15        corbyn    797\n",
       "16          time    794\n",
       "17        tories    766\n",
       "18    parliament    746\n",
       "19          stop    732\n",
       "20          know    695\n",
       "21         voted    691\n",
       "22       country    673\n",
       "23      election    648\n",
       "24          plan    633\n",
       "25      minister    631\n",
       "26         going    620\n",
       "27       support    595\n",
       "28        remain    586\n",
       "29        farage    586\n",
       "30         right    585\n",
       "31    government    556\n",
       "32          good    550\n",
       "33          need    544\n",
       "34         trump    541\n",
       "35       britain    540\n",
       "36  borisjohnson    538\n",
       "37          make    530\n",
       "38         prime    526\n",
       "39          said    522\n",
       "40       british    511\n",
       "41          news    506\n",
       "42       deliver    492\n",
       "43         years    478\n",
       "44        really    453\n",
       "45          says    450\n",
       "46         trade    449\n",
       "47          hard    435\n",
       "48      majority    434\n",
       "49    referendum    431"
      ]
     },
     "execution_count": 179,
     "metadata": {},
     "output_type": "execute_result"
    }
   ],
   "source": [
    "frequency.head(50)"
   ]
  },
  {
   "cell_type": "markdown",
   "metadata": {},
   "source": [
    "## K-means"
   ]
  },
  {
   "cell_type": "markdown",
   "metadata": {},
   "source": [
    "### Checking optimal number of clusters"
   ]
  },
  {
   "cell_type": "code",
   "execution_count": null,
   "metadata": {},
   "outputs": [],
   "source": [
    "from sklearn.cluster import KMeans\n",
    "wcss = []\n",
    "for i in range(1,11):\n",
    "    kmeans = KMeans(n_clusters=i,init='k-means++',n_init=10,random_state=0)\n",
    "    kmeans.fit(X3)\n",
    "    wcss.append(kmeans.inertia_)\n",
    "plt.plot(range(1,11),wcss)\n",
    "plt.title('The Elbow Method')\n",
    "plt.xlabel('Number of clusters')\n",
    "plt.ylabel('WCSS')\n",
    "plt.show()"
   ]
  },
  {
   "cell_type": "code",
   "execution_count": null,
   "metadata": {},
   "outputs": [],
   "source": [
    "model = KMeans()\n",
    "visualizer = KElbowVisualizer(model, k=(2,17))\n",
    "visualizer.fit(X3)\n",
    "visualizer.poof()"
   ]
  },
  {
   "cell_type": "markdown",
   "metadata": {},
   "source": [
    "### Preparing & Implementing K-Means"
   ]
  },
  {
   "cell_type": "code",
   "execution_count": null,
   "metadata": {},
   "outputs": [],
   "source": [
    "# vectorizing\n",
    "tf_idf_vect = CountVectorizer(analyzer='word',ngram_range=(1,1),stop_words='english', min_df = 0.0001)\n",
    "tf_idf_vect.fit(df['text'])\n",
    "desc_matrix = tf_idf_vect.transform(df[\"text\"])\n",
    "print('{} Number of tweets has {} words'.format(countVector.shape[0], countVector.shape[1]))"
   ]
  },
  {
   "cell_type": "code",
   "execution_count": null,
   "metadata": {},
   "outputs": [],
   "source": [
    "# implementing kmeans\n",
    "km = KMeans(n_clusters = 3, n_init = 10, n_jobs = -1)\n",
    "km.fit(desc_matrix)\n",
    "clusters = km.labels_.tolist()"
   ]
  },
  {
   "cell_type": "code",
   "execution_count": null,
   "metadata": {},
   "outputs": [],
   "source": [
    "df['labels'] = clusters"
   ]
  },
  {
   "cell_type": "markdown",
   "metadata": {},
   "source": [
    "### Checking results"
   ]
  },
  {
   "cell_type": "markdown",
   "metadata": {},
   "source": [
    "#### 3 iterations"
   ]
  },
  {
   "cell_type": "code",
   "execution_count": null,
   "metadata": {},
   "outputs": [],
   "source": [
    "df[df['pm'] == 'may']['labels'].value_counts()"
   ]
  },
  {
   "cell_type": "code",
   "execution_count": null,
   "metadata": {},
   "outputs": [],
   "source": [
    "df[df['pm'] == 'boris']['labels'].value_counts()"
   ]
  },
  {
   "cell_type": "markdown",
   "metadata": {},
   "source": [
    "#### 10 iterations"
   ]
  },
  {
   "cell_type": "code",
   "execution_count": null,
   "metadata": {},
   "outputs": [],
   "source": [
    "df[df['pm'] == 'may']['labels'].value_counts()"
   ]
  },
  {
   "cell_type": "code",
   "execution_count": null,
   "metadata": {},
   "outputs": [],
   "source": [
    "df[df['pm'] == 'boris']['labels'].value_counts()"
   ]
  },
  {
   "cell_type": "markdown",
   "metadata": {},
   "source": [
    "## Evaluating model"
   ]
  },
  {
   "cell_type": "code",
   "execution_count": null,
   "metadata": {},
   "outputs": [],
   "source": [
    "preds = cluster.fit_predict(features)\n",
    "centers = cluster.cluster_centers_\n",
    "\n",
    "score = silhouette_score (features, preds, metric='euclidean')\n",
    "print (f\"For n_clusters = {n_clusters}, silhouette score is {score})\")\n",
    "\n",
    "## try to plot to see what it looks like"
   ]
  },
  {
   "cell_type": "markdown",
   "metadata": {},
   "source": [
    "## Sentiment Analysis"
   ]
  },
  {
   "cell_type": "markdown",
   "metadata": {},
   "source": [
    "### NLKT"
   ]
  },
  {
   "cell_type": "code",
   "execution_count": 257,
   "metadata": {},
   "outputs": [
    {
     "data": {
      "text/html": [
       "<div>\n",
       "<style scoped>\n",
       "    .dataframe tbody tr th:only-of-type {\n",
       "        vertical-align: middle;\n",
       "    }\n",
       "\n",
       "    .dataframe tbody tr th {\n",
       "        vertical-align: top;\n",
       "    }\n",
       "\n",
       "    .dataframe thead th {\n",
       "        text-align: right;\n",
       "    }\n",
       "</style>\n",
       "<table border=\"1\" class=\"dataframe\">\n",
       "  <thead>\n",
       "    <tr style=\"text-align: right;\">\n",
       "      <th></th>\n",
       "      <th>date</th>\n",
       "      <th>text</th>\n",
       "      <th>text_wturls</th>\n",
       "      <th>text_processed</th>\n",
       "      <th>clean_text</th>\n",
       "      <th>pm</th>\n",
       "      <th>sentiment_compound_polarity</th>\n",
       "      <th>sentiment_neutral</th>\n",
       "      <th>sentiment_negative</th>\n",
       "      <th>sentiment_pos</th>\n",
       "      <th>sentiment</th>\n",
       "    </tr>\n",
       "  </thead>\n",
       "  <tbody>\n",
       "    <tr>\n",
       "      <td>287</td>\n",
       "      <td>2019-07-30</td>\n",
       "      <td>Theresa May was not highly rated by her colleagues or the civil service, even before she became PM. But on top of that, she supported Remain in the referendum. Therefore she always regarded #Brexit as a damage limitation exercise, rather than a golden opportunity for the UK.</td>\n",
       "      <td>Theresa highly rated colleagues civil service even before became that supported Remain referendum Therefore always regarded Brexit damage limitation exercise rather than golden opportunity</td>\n",
       "      <td>[theresa, highly, rated, colleagues, civil, service, even, became, supported, remain, referendum, therefore, always, regarded, brexit, damage, limitation, exercise, rather, golden, opportun]</td>\n",
       "      <td>theresa highly rated colleagues civil service even became supported remain referendum therefore always regarded brexit damage limitation exercise rather golden opportun</td>\n",
       "      <td>may</td>\n",
       "      <td>-0.4767</td>\n",
       "      <td>0.700</td>\n",
       "      <td>0.210</td>\n",
       "      <td>0.089</td>\n",
       "      <td>negative</td>\n",
       "    </tr>\n",
       "    <tr>\n",
       "      <td>621</td>\n",
       "      <td>2019-07-30</td>\n",
       "      <td>Theresa May MP: Give People a Final Say on Brexit Deal - Sign the Petition! http://chng.it/V2hMq75D via @UKChange</td>\n",
       "      <td>Theresa Give People Final Brexit Deal Sign Petition AT USER</td>\n",
       "      <td>[theresa, give, people, final, brexit, deal, sign, petition, us]</td>\n",
       "      <td>theresa give people final brexit deal sign petition us</td>\n",
       "      <td>may</td>\n",
       "      <td>0.0000</td>\n",
       "      <td>1.000</td>\n",
       "      <td>0.000</td>\n",
       "      <td>0.000</td>\n",
       "      <td>neutral</td>\n",
       "    </tr>\n",
       "    <tr>\n",
       "      <td>1033</td>\n",
       "      <td>2019-07-30</td>\n",
       "      <td>Brexit Flextension Will Be Extended Forevextension in Permaextension Brexitstension https://www.dailysquib.co.uk/world/31578-brexit-flextension-will-be-extended-forevextension-in-permaextension-brexitstention.html #brexit #theresamay</td>\n",
       "      <td>Brexit Flextension Will Extended Forevextension Permaextension Brexitstension brexit theresamay</td>\n",
       "      <td>[brexit, flextension, extended, forevextension, permaextension, brexitstension, brexit, theresamay]</td>\n",
       "      <td>brexit flextension extended forevextension permaextension brexitstension brexit theresamay</td>\n",
       "      <td>may</td>\n",
       "      <td>0.0000</td>\n",
       "      <td>1.000</td>\n",
       "      <td>0.000</td>\n",
       "      <td>0.000</td>\n",
       "      <td>neutral</td>\n",
       "    </tr>\n",
       "    <tr>\n",
       "      <td>1110</td>\n",
       "      <td>2019-07-30</td>\n",
       "      <td>#Brexit Delay #TheresaMay Consulted by Peter Mandelson, David Cameron &amp;amp; Tony Blair https://www.dailysquib.co.uk/world/20666-theresa-may-consulted-peter-mandelson-david-cameron-tony-blair.html</td>\n",
       "      <td>Brexit Delay TheresaMay Consulted Peter Mandelson David Cameron Tony Blair</td>\n",
       "      <td>[brexit, delay, theresamay, consulted, peter, mandelson, david, cameron, tony, blair]</td>\n",
       "      <td>brexit delay theresamay consulted peter mandelson david cameron tony blair</td>\n",
       "      <td>may</td>\n",
       "      <td>-0.3182</td>\n",
       "      <td>0.796</td>\n",
       "      <td>0.204</td>\n",
       "      <td>0.000</td>\n",
       "      <td>negative</td>\n",
       "    </tr>\n",
       "    <tr>\n",
       "      <td>1357</td>\n",
       "      <td>2019-07-30</td>\n",
       "      <td>Very interesting documentary last week describing how Theresa May came to realise the genuine threat to the Union caused by a no deal Brexit.</td>\n",
       "      <td>Very interesting documentary last week describing Theresa came realise genuine threat Union caused deal Brexit</td>\n",
       "      <td>[interesting, documentary, last, week, describing, theresa, came, realise, genuine, threat, union, caused, deal, brexit]</td>\n",
       "      <td>interesting documentary last week describing theresa came realise genuine threat union caused deal brexit</td>\n",
       "      <td>may</td>\n",
       "      <td>-0.1779</td>\n",
       "      <td>0.663</td>\n",
       "      <td>0.188</td>\n",
       "      <td>0.149</td>\n",
       "      <td>negative</td>\n",
       "    </tr>\n",
       "  </tbody>\n",
       "</table>\n",
       "</div>"
      ],
      "text/plain": [
       "            date  \\\n",
       "287   2019-07-30   \n",
       "621   2019-07-30   \n",
       "1033  2019-07-30   \n",
       "1110  2019-07-30   \n",
       "1357  2019-07-30   \n",
       "\n",
       "                                                                                                                                                                                                                                                                                     text  \\\n",
       "287   Theresa May was not highly rated by her colleagues or the civil service, even before she became PM. But on top of that, she supported Remain in the referendum. Therefore she always regarded #Brexit as a damage limitation exercise, rather than a golden opportunity for the UK.   \n",
       "621                                                                                                                                                                     Theresa May MP: Give People a Final Say on Brexit Deal - Sign the Petition! http://chng.it/V2hMq75D via @UKChange   \n",
       "1033                                            Brexit Flextension Will Be Extended Forevextension in Permaextension Brexitstension https://www.dailysquib.co.uk/world/31578-brexit-flextension-will-be-extended-forevextension-in-permaextension-brexitstention.html #brexit #theresamay   \n",
       "1110                                                                                  #Brexit Delay #TheresaMay Consulted by Peter Mandelson, David Cameron &amp; Tony Blair https://www.dailysquib.co.uk/world/20666-theresa-may-consulted-peter-mandelson-david-cameron-tony-blair.html   \n",
       "1357                                                                                                                                       Very interesting documentary last week describing how Theresa May came to realise the genuine threat to the Union caused by a no deal Brexit.    \n",
       "\n",
       "                                                                                                                                                                                        text_wturls  \\\n",
       "287   Theresa highly rated colleagues civil service even before became that supported Remain referendum Therefore always regarded Brexit damage limitation exercise rather than golden opportunity    \n",
       "621                                                                                                                                     Theresa Give People Final Brexit Deal Sign Petition AT USER   \n",
       "1033                                                                                                Brexit Flextension Will Extended Forevextension Permaextension Brexitstension brexit theresamay   \n",
       "1110                                                                                                                     Brexit Delay TheresaMay Consulted Peter Mandelson David Cameron Tony Blair   \n",
       "1357                                                                                Very interesting documentary last week describing Theresa came realise genuine threat Union caused deal Brexit    \n",
       "\n",
       "                                                                                                                                                                                      text_processed  \\\n",
       "287   [theresa, highly, rated, colleagues, civil, service, even, became, supported, remain, referendum, therefore, always, regarded, brexit, damage, limitation, exercise, rather, golden, opportun]   \n",
       "621                                                                                                                                 [theresa, give, people, final, brexit, deal, sign, petition, us]   \n",
       "1033                                                                                             [brexit, flextension, extended, forevextension, permaextension, brexitstension, brexit, theresamay]   \n",
       "1110                                                                                                           [brexit, delay, theresamay, consulted, peter, mandelson, david, cameron, tony, blair]   \n",
       "1357                                                                        [interesting, documentary, last, week, describing, theresa, came, realise, genuine, threat, union, caused, deal, brexit]   \n",
       "\n",
       "                                                                                                                                                                    clean_text  \\\n",
       "287   theresa highly rated colleagues civil service even became supported remain referendum therefore always regarded brexit damage limitation exercise rather golden opportun   \n",
       "621                                                                                                                     theresa give people final brexit deal sign petition us   \n",
       "1033                                                                                brexit flextension extended forevextension permaextension brexitstension brexit theresamay   \n",
       "1110                                                                                                brexit delay theresamay consulted peter mandelson david cameron tony blair   \n",
       "1357                                                                 interesting documentary last week describing theresa came realise genuine threat union caused deal brexit   \n",
       "\n",
       "       pm  sentiment_compound_polarity  sentiment_neutral  sentiment_negative  \\\n",
       "287   may                      -0.4767              0.700               0.210   \n",
       "621   may                       0.0000              1.000               0.000   \n",
       "1033  may                       0.0000              1.000               0.000   \n",
       "1110  may                      -0.3182              0.796               0.204   \n",
       "1357  may                      -0.1779              0.663               0.188   \n",
       "\n",
       "      sentiment_pos sentiment  \n",
       "287           0.089  negative  \n",
       "621           0.000   neutral  \n",
       "1033          0.000   neutral  \n",
       "1110          0.000  negative  \n",
       "1357          0.149  negative  "
      ]
     },
     "execution_count": 257,
     "metadata": {},
     "output_type": "execute_result"
    }
   ],
   "source": [
    "#with nlkt sentiment analysys\n",
    "sid = SentimentIntensityAnalyzer()\n",
    "\n",
    "df_mb['sentiment_compound_polarity'] = df_mb['clean_text'].apply(lambda x: sid.polarity_scores(x)['compound'])\n",
    "df_mb['sentiment_neutral'] = df_mb['clean_text'].apply(lambda x: sid.polarity_scores(x)['neu'])\n",
    "df_mb['sentiment_negative'] = df_mb['clean_text'].apply(lambda x: sid.polarity_scores(x)['neg'])\n",
    "df_mb['sentiment_pos'] = df_mb['clean_text'].apply(lambda x:sid.polarity_scores(x)['pos'])\n",
    "\n",
    "df_mb.loc[df_mb.sentiment_compound_polarity > 0,'sentiment'] = 'positive'\n",
    "df_mb.loc[df_mb.sentiment_compound_polarity == 0,'sentiment'] = 'neutral'\n",
    "df_mb.loc[df_mb.sentiment_compound_polarity < 0,'sentiment'] = 'negative'\n",
    "df_mb.head()"
   ]
  },
  {
   "cell_type": "code",
   "execution_count": 30,
   "metadata": {},
   "outputs": [],
   "source": [
    "#df_mb.drop(['sentiment_polarity', 'sentiment_type','sentiment_neutral', 'sentiment_negative', 'sentiment_pos', 'sentiment_compound_polarity'], axis=1, inplace=True)"
   ]
  },
  {
   "cell_type": "code",
   "execution_count": 258,
   "metadata": {},
   "outputs": [
    {
     "data": {
      "text/plain": [
       "pm     sentiment\n",
       "boris  positive     5167\n",
       "       negative     5012\n",
       "       neutral      3292\n",
       "may    positive     3190\n",
       "       negative     2570\n",
       "       neutral      2135\n",
       "Name: sentiment, dtype: int64"
      ]
     },
     "execution_count": 258,
     "metadata": {},
     "output_type": "execute_result"
    }
   ],
   "source": [
    "df_mb.groupby('pm')['sentiment'].value_counts()"
   ]
  },
  {
   "cell_type": "markdown",
   "metadata": {},
   "source": [
    "### Textblob"
   ]
  },
  {
   "cell_type": "code",
   "execution_count": null,
   "metadata": {},
   "outputs": [],
   "source": [
    "#polarity = lambda x: TextBlob(x).sentiment.polarity\n",
    "#subjectivity = lambda x: TextBlob(x).sentiment.subjectivity\n",
    "#df_mb['polarity_blob'] = df_mb['clean_text'].apply(polarity)\n",
    "#df_mb['subjectivity_blob'] = df_mb['clean_text'].apply(subjectivity)\n",
    "\n",
    "#df_mb.loc[df_mb.polarity_blob >= 1,'sentiment_blob'] = 'positive'\n",
    "#df_mb.loc[df_mb.polarity_blob == 0,'sentiment_blob'] = 'neutral'\n",
    "#df_mb.loc[df_mb.polarity_blob <= 1,'sentiment_blob'] = 'negative'\n",
    "\n",
    "#df_mb.head()"
   ]
  },
  {
   "cell_type": "code",
   "execution_count": 76,
   "metadata": {},
   "outputs": [
    {
     "data": {
      "text/html": [
       "<div>\n",
       "<style scoped>\n",
       "    .dataframe tbody tr th:only-of-type {\n",
       "        vertical-align: middle;\n",
       "    }\n",
       "\n",
       "    .dataframe tbody tr th {\n",
       "        vertical-align: top;\n",
       "    }\n",
       "\n",
       "    .dataframe thead th {\n",
       "        text-align: right;\n",
       "    }\n",
       "</style>\n",
       "<table border=\"1\" class=\"dataframe\">\n",
       "  <thead>\n",
       "    <tr style=\"text-align: right;\">\n",
       "      <th></th>\n",
       "      <th>clean_text</th>\n",
       "    </tr>\n",
       "  </thead>\n",
       "  <tbody>\n",
       "    <tr>\n",
       "      <td>positive</td>\n",
       "      <td>16657</td>\n",
       "    </tr>\n",
       "    <tr>\n",
       "      <td>negative</td>\n",
       "      <td>4709</td>\n",
       "    </tr>\n",
       "  </tbody>\n",
       "</table>\n",
       "</div>"
      ],
      "text/plain": [
       "          clean_text\n",
       "positive       16657\n",
       "negative        4709"
      ]
     },
     "execution_count": 76,
     "metadata": {},
     "output_type": "execute_result"
    }
   ],
   "source": [
    "#with textblob sentiment analysys\n",
    "sentiments_textblob = df_mb['clean_text'].apply(lambda tweet: sentiment_textblob(tweet))\n",
    "pd.DataFrame(sentiments_textblob.value_counts())"
   ]
  },
  {
   "cell_type": "code",
   "execution_count": null,
   "metadata": {},
   "outputs": [],
   "source": []
  }
 ],
 "metadata": {
  "kernelspec": {
   "display_name": "Python 3",
   "language": "python",
   "name": "python3"
  },
  "language_info": {
   "codemirror_mode": {
    "name": "ipython",
    "version": 3
   },
   "file_extension": ".py",
   "mimetype": "text/x-python",
   "name": "python",
   "nbconvert_exporter": "python",
   "pygments_lexer": "ipython3",
   "version": "3.7.4"
  }
 },
 "nbformat": 4,
 "nbformat_minor": 2
}
