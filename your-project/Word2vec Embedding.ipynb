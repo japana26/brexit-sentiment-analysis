{
 "cells": [
  {
   "cell_type": "markdown",
   "metadata": {},
   "source": [
    "Word2vec Embedding\n",
    "\n",
    "https://towardsdatascience.com/understanding-word2vec-embedding-in-practice-3e9b8985953\n",
    "\n",
    "https://www.shanelynn.ie/word-embeddings-in-python-with-spacy-and-gensim/\n",
    "\n",
    "https://medium.com/@aneesha/using-tsne-to-plot-a-subset-of-similar-words-from-word2vec-bb8eeaea6229"
   ]
  },
  {
   "cell_type": "code",
   "execution_count": 2,
   "metadata": {},
   "outputs": [],
   "source": [
    "import re, string \n",
    "import pandas as pd \n",
    "import numpy as np\n",
    "from time import time  \n",
    "import re, itertools, random\n",
    "from collections import defaultdict\n",
    "import spacy\n",
    "from sklearn.manifold import TSNE\n",
    "from sklearn.decomposition import PCA\n",
    "from sklearn.cluster import KMeans\n",
    "from nltk.probability import FreqDist\n",
    "from sklearn.decomposition import TruncatedSVD\n",
    "from nltk.corpus import stopwords\n",
    "STOPWORDS = stopwords.words('english')\n",
    "#STOPWORDS.extend(['from', 'subject', 're', 'edu', 'use','user', 'com', 'co', 'con', 'be', 'else', 'http', 'would','send', \n",
    "                   'do','tell', 'go', 'get', 'can', 'give', 'mr.', 'next', 'find', 'Do', 'Not'])\n",
    "from gensim.models import Word2Vec\n",
    "import matplotlib.pyplot as plt\n",
    "%matplotlib inline\n",
    "import seaborn as sns\n",
    "sns.set_style(\"darkgrid\")\n",
    "from scipy.spatial.distance import cdist\n",
    "nlp_spacy = spacy.load('en_md', disable=['ner', 'parser']) # disabling Named Entity Recognition for speed\n",
    "#nlp_ginsem = KeyedVectors.load_word2vec_format('GoogleNews-vectors-negative300.bin', binary=True) #for Gensim pretrained model\n",
    "#from gensim.models import KeyedVectors #for Gensim pretrained model"
   ]
  },
  {
   "cell_type": "code",
   "execution_count": null,
   "metadata": {},
   "outputs": [],
   "source": [
    "from gensim.models.phrases import Phrases, Phraser"
   ]
  },
  {
   "cell_type": "code",
   "execution_count": 3,
   "metadata": {},
   "outputs": [],
   "source": [
    "def clean_text(text):\n",
    "    text = text.lower()\n",
    "    text = re.sub(r'\\[.*?\\]', '', text)\n",
    "    text = re.sub(r'[%s]' % re.escape(string.punctuation), '', text)\n",
    "    text = re.sub(r'\\w*\\d\\w*', '', text)\n",
    "    return ' '.join(word for word in text.split() if word not in STOPWORDS)\n",
    "\n",
    "def lemmatizer_spacy(text):        \n",
    "    sent = []\n",
    "    doc = nlp_spacy(text)\n",
    "    for word in doc:\n",
    "        sent.append(word.lemma_)\n",
    "    return \" \".join(sent)\n",
    "\n",
    "def lemmatizer_gensim(text):        \n",
    "    sent = []\n",
    "    doc = nlp_gensim(text)\n",
    "    for word in doc:\n",
    "        sent.append(word.lemma_)\n",
    "    return \" \".join(sent)"
   ]
  },
  {
   "cell_type": "code",
   "execution_count": 4,
   "metadata": {},
   "outputs": [],
   "source": [
    "cdf = pd.read_csv('cdf.csv')\n",
    "df = cdf.drop(cdf[(cdf.PM == 'none')].index)\n",
    "df = df[['MONTH_INT', 'TEXT', 'PM']]"
   ]
  },
  {
   "cell_type": "code",
   "execution_count": 5,
   "metadata": {},
   "outputs": [
    {
     "data": {
      "text/html": [
       "<div>\n",
       "<style scoped>\n",
       "    .dataframe tbody tr th:only-of-type {\n",
       "        vertical-align: middle;\n",
       "    }\n",
       "\n",
       "    .dataframe tbody tr th {\n",
       "        vertical-align: top;\n",
       "    }\n",
       "\n",
       "    .dataframe thead th {\n",
       "        text-align: right;\n",
       "    }\n",
       "</style>\n",
       "<table border=\"1\" class=\"dataframe\">\n",
       "  <thead>\n",
       "    <tr style=\"text-align: right;\">\n",
       "      <th></th>\n",
       "      <th>MONTH_INT</th>\n",
       "      <th>TEXT</th>\n",
       "      <th>PM</th>\n",
       "    </tr>\n",
       "  </thead>\n",
       "  <tbody>\n",
       "    <tr>\n",
       "      <td>7</td>\n",
       "      <td>7</td>\n",
       "      <td>Nicola Sturgeon tells Boris Johnson: Brexit of...</td>\n",
       "      <td>Boris Johnson</td>\n",
       "    </tr>\n",
       "    <tr>\n",
       "      <td>9</td>\n",
       "      <td>7</td>\n",
       "      <td>If we ever get brexit.and Boris is looking mor...</td>\n",
       "      <td>Boris Johnson</td>\n",
       "    </tr>\n",
       "    <tr>\n",
       "      <td>12</td>\n",
       "      <td>7</td>\n",
       "      <td>Media have finally realised that Brexit will b...</td>\n",
       "      <td>Boris Johnson</td>\n",
       "    </tr>\n",
       "    <tr>\n",
       "      <td>22</td>\n",
       "      <td>7</td>\n",
       "      <td>@BorisJohnson this better be a joke or else yo...</td>\n",
       "      <td>Boris Johnson</td>\n",
       "    </tr>\n",
       "    <tr>\n",
       "      <td>24</td>\n",
       "      <td>7</td>\n",
       "      <td>\"Turbo-charge\" Brexit plans, with \"all necessa...</td>\n",
       "      <td>Boris Johnson</td>\n",
       "    </tr>\n",
       "  </tbody>\n",
       "</table>\n",
       "</div>"
      ],
      "text/plain": [
       "    MONTH_INT                                               TEXT  \\\n",
       "7           7  Nicola Sturgeon tells Boris Johnson: Brexit of...   \n",
       "9           7  If we ever get brexit.and Boris is looking mor...   \n",
       "12          7  Media have finally realised that Brexit will b...   \n",
       "22          7  @BorisJohnson this better be a joke or else yo...   \n",
       "24          7  \"Turbo-charge\" Brexit plans, with \"all necessa...   \n",
       "\n",
       "               PM  \n",
       "7   Boris Johnson  \n",
       "9   Boris Johnson  \n",
       "12  Boris Johnson  \n",
       "22  Boris Johnson  \n",
       "24  Boris Johnson  "
      ]
     },
     "execution_count": 5,
     "metadata": {},
     "output_type": "execute_result"
    }
   ],
   "source": [
    "df.head()"
   ]
  },
  {
   "cell_type": "code",
   "execution_count": 6,
   "metadata": {},
   "outputs": [
    {
     "data": {
      "text/plain": [
       "(30143, 3)"
      ]
     },
     "execution_count": 6,
     "metadata": {},
     "output_type": "execute_result"
    }
   ],
   "source": [
    "df.shape"
   ]
  },
  {
   "cell_type": "code",
   "execution_count": 22,
   "metadata": {},
   "outputs": [],
   "source": [
    "df_march = df[df['MONTH_INT'] == 3]\n",
    "df_july = df[df['MONTH_INT'] == 7]\n",
    "df_nov = df[df['MONTH_INT'] == 11]"
   ]
  },
  {
   "cell_type": "markdown",
   "metadata": {},
   "source": [
    "### Preparing the data"
   ]
  },
  {
   "cell_type": "code",
   "execution_count": 7,
   "metadata": {},
   "outputs": [],
   "source": [
    "df['TEXT'] = df.TEXT.apply(lambda x: clean_text(x))"
   ]
  },
  {
   "cell_type": "code",
   "execution_count": 23,
   "metadata": {},
   "outputs": [
    {
     "name": "stderr",
     "output_type": "stream",
     "text": [
      "/Users/ironhack/opt/anaconda3/lib/python3.7/site-packages/ipykernel_launcher.py:1: SettingWithCopyWarning: \n",
      "A value is trying to be set on a copy of a slice from a DataFrame.\n",
      "Try using .loc[row_indexer,col_indexer] = value instead\n",
      "\n",
      "See the caveats in the documentation: http://pandas.pydata.org/pandas-docs/stable/user_guide/indexing.html#returning-a-view-versus-a-copy\n",
      "  \"\"\"Entry point for launching an IPython kernel.\n",
      "/Users/ironhack/opt/anaconda3/lib/python3.7/site-packages/ipykernel_launcher.py:2: SettingWithCopyWarning: \n",
      "A value is trying to be set on a copy of a slice from a DataFrame.\n",
      "Try using .loc[row_indexer,col_indexer] = value instead\n",
      "\n",
      "See the caveats in the documentation: http://pandas.pydata.org/pandas-docs/stable/user_guide/indexing.html#returning-a-view-versus-a-copy\n",
      "  \n",
      "/Users/ironhack/opt/anaconda3/lib/python3.7/site-packages/ipykernel_launcher.py:3: SettingWithCopyWarning: \n",
      "A value is trying to be set on a copy of a slice from a DataFrame.\n",
      "Try using .loc[row_indexer,col_indexer] = value instead\n",
      "\n",
      "See the caveats in the documentation: http://pandas.pydata.org/pandas-docs/stable/user_guide/indexing.html#returning-a-view-versus-a-copy\n",
      "  This is separate from the ipykernel package so we can avoid doing imports until\n"
     ]
    }
   ],
   "source": [
    "df_march['TEXT'] = df_march.TEXT.apply(lambda x: clean_text(x))\n",
    "df_july['TEXT'] = df_july.TEXT.apply(lambda x: clean_text(x))\n",
    "df_nov['TEXT'] = df_nov.TEXT.apply(lambda x: clean_text(x))"
   ]
  },
  {
   "cell_type": "markdown",
   "metadata": {},
   "source": [
    "## Choosing which pre train model to use: Spacy or Gensim"
   ]
  },
  {
   "cell_type": "markdown",
   "metadata": {},
   "source": [
    "Spacy is a natural language processing (NLP) library for Python designed to have fast performance, and with word embedding models built in, it’s perfect for a quick and easy start.\n",
    "\n",
    "Gensim is a topic modelling library for Python that provides access to Word2Vec and other word embedding algorithms for training, and it also allows pre-trained word embeddings that you can download from the internet to be loaded."
   ]
  },
  {
   "cell_type": "markdown",
   "metadata": {},
   "source": [
    "### Using pre-trained model from Spacy"
   ]
  },
  {
   "cell_type": "code",
   "execution_count": 8,
   "metadata": {},
   "outputs": [],
   "source": [
    "nlp_spacy = spacy.load('en', disable=['ner', 'parser']) #disabling Named Entity Recognition for speed\n",
    "\n",
    "df[\"TEXT_SPACY\"] =  df.apply(lambda x: lemmatizer_spacy(x['TEXT']), axis=1)"
   ]
  },
  {
   "cell_type": "code",
   "execution_count": 9,
   "metadata": {},
   "outputs": [],
   "source": [
    "df['TEXT_SPACY'] = df['TEXT_SPACY'].str.replace('-PRON-', '')   #removing pronouns"
   ]
  },
  {
   "cell_type": "code",
   "execution_count": 10,
   "metadata": {},
   "outputs": [
    {
     "data": {
      "text/plain": [
       "['brexit',\n",
       " 'boris',\n",
       " 'theresa',\n",
       " 'may',\n",
       " 'johnson',\n",
       " '-PRON-',\n",
       " 'deal',\n",
       " 'not',\n",
       " 'vote',\n",
       " 'do']"
      ]
     },
     "execution_count": 10,
     "metadata": {},
     "output_type": "execute_result"
    }
   ],
   "source": [
    "words_spacy = [row.split() for row in df[\"TEXT_SPACY\"]]\n",
    "word_freq_spacy = defaultdict(int)\n",
    "for sent in words_spacy:\n",
    "    for i in sent:\n",
    "        word_freq_spacy[i] += 1\n",
    "sorted(word_freq_spacy, key = word_freq_spacy.get, reverse=True)[:10]"
   ]
  },
  {
   "cell_type": "code",
   "execution_count": 24,
   "metadata": {},
   "outputs": [
    {
     "name": "stderr",
     "output_type": "stream",
     "text": [
      "/Users/ironhack/opt/anaconda3/lib/python3.7/site-packages/ipykernel_launcher.py:1: SettingWithCopyWarning: \n",
      "A value is trying to be set on a copy of a slice from a DataFrame.\n",
      "Try using .loc[row_indexer,col_indexer] = value instead\n",
      "\n",
      "See the caveats in the documentation: http://pandas.pydata.org/pandas-docs/stable/user_guide/indexing.html#returning-a-view-versus-a-copy\n",
      "  \"\"\"Entry point for launching an IPython kernel.\n",
      "/Users/ironhack/opt/anaconda3/lib/python3.7/site-packages/ipykernel_launcher.py:2: SettingWithCopyWarning: \n",
      "A value is trying to be set on a copy of a slice from a DataFrame.\n",
      "Try using .loc[row_indexer,col_indexer] = value instead\n",
      "\n",
      "See the caveats in the documentation: http://pandas.pydata.org/pandas-docs/stable/user_guide/indexing.html#returning-a-view-versus-a-copy\n",
      "  \n",
      "/Users/ironhack/opt/anaconda3/lib/python3.7/site-packages/ipykernel_launcher.py:3: SettingWithCopyWarning: \n",
      "A value is trying to be set on a copy of a slice from a DataFrame.\n",
      "Try using .loc[row_indexer,col_indexer] = value instead\n",
      "\n",
      "See the caveats in the documentation: http://pandas.pydata.org/pandas-docs/stable/user_guide/indexing.html#returning-a-view-versus-a-copy\n",
      "  This is separate from the ipykernel package so we can avoid doing imports until\n",
      "/Users/ironhack/opt/anaconda3/lib/python3.7/site-packages/ipykernel_launcher.py:4: SettingWithCopyWarning: \n",
      "A value is trying to be set on a copy of a slice from a DataFrame.\n",
      "Try using .loc[row_indexer,col_indexer] = value instead\n",
      "\n",
      "See the caveats in the documentation: http://pandas.pydata.org/pandas-docs/stable/user_guide/indexing.html#returning-a-view-versus-a-copy\n",
      "  after removing the cwd from sys.path.\n",
      "/Users/ironhack/opt/anaconda3/lib/python3.7/site-packages/ipykernel_launcher.py:5: SettingWithCopyWarning: \n",
      "A value is trying to be set on a copy of a slice from a DataFrame.\n",
      "Try using .loc[row_indexer,col_indexer] = value instead\n",
      "\n",
      "See the caveats in the documentation: http://pandas.pydata.org/pandas-docs/stable/user_guide/indexing.html#returning-a-view-versus-a-copy\n",
      "  \"\"\"\n",
      "/Users/ironhack/opt/anaconda3/lib/python3.7/site-packages/ipykernel_launcher.py:6: SettingWithCopyWarning: \n",
      "A value is trying to be set on a copy of a slice from a DataFrame.\n",
      "Try using .loc[row_indexer,col_indexer] = value instead\n",
      "\n",
      "See the caveats in the documentation: http://pandas.pydata.org/pandas-docs/stable/user_guide/indexing.html#returning-a-view-versus-a-copy\n",
      "  \n"
     ]
    }
   ],
   "source": [
    "df_march[\"TEXT_SPACY\"] =  df_march.apply(lambda x: lemmatizer_spacy(x['TEXT']), axis=1)\n",
    "df_july[\"TEXT_SPACY\"] =  df_july.apply(lambda x: lemmatizer_spacy(x['TEXT']), axis=1)\n",
    "df_nov[\"TEXT_SPACY\"] =  df_nov.apply(lambda x: lemmatizer_spacy(x['TEXT']), axis=1)\n",
    "df_march['TEXT_SPACY'] = df_march['TEXT_SPACY'].str.replace('-PRON-', '')   #removing pronouns\n",
    "df_july['TEXT_SPACY'] = df_july['TEXT_SPACY'].str.replace('-PRON-', '')   #removing pronouns\n",
    "df_nov['TEXT_SPACY'] = df_nov['TEXT_SPACY'].str.replace('-PRON-', '')   #removing pronouns"
   ]
  },
  {
   "cell_type": "code",
   "execution_count": 29,
   "metadata": {},
   "outputs": [
    {
     "data": {
      "text/plain": [
       "['brexit',\n",
       " 'boris',\n",
       " 'johnson',\n",
       " 'not',\n",
       " 'deal',\n",
       " 'vote',\n",
       " 'do',\n",
       " 'party',\n",
       " 'tory',\n",
       " 'want']"
      ]
     },
     "execution_count": 29,
     "metadata": {},
     "output_type": "execute_result"
    }
   ],
   "source": [
    "words_spacy_march = [row.split() for row in df_march[\"TEXT_SPACY\"]]\n",
    "word_freq_spacy_march = defaultdict(int)\n",
    "for sent in words_spacy:\n",
    "    for i in sent:\n",
    "        word_freq_spacy_march[i] += 1\n",
    "sorted(word_freq_spacy_march, key = word_freq_spacy_march.get, reverse=True)[:10]"
   ]
  },
  {
   "cell_type": "code",
   "execution_count": 31,
   "metadata": {},
   "outputs": [
    {
     "data": {
      "text/plain": [
       "['brexit',\n",
       " 'boris',\n",
       " 'johnson',\n",
       " 'not',\n",
       " 'deal',\n",
       " 'borisjohnson',\n",
       " 'do',\n",
       " 'eu',\n",
       " 'uk',\n",
       " 'may']"
      ]
     },
     "execution_count": 31,
     "metadata": {},
     "output_type": "execute_result"
    }
   ],
   "source": [
    "words_spacy_july = [row.split() for row in df_july[\"TEXT_SPACY\"]]\n",
    "word_freq_spacy_july = defaultdict(int)\n",
    "for sent in words_spacy_july:\n",
    "    for i in sent:\n",
    "        word_freq_spacy_july[i] += 1\n",
    "sorted(word_freq_spacy_july, key = word_freq_spacy_july.get, reverse=True)[:10]"
   ]
  },
  {
   "cell_type": "code",
   "execution_count": 34,
   "metadata": {},
   "outputs": [
    {
     "data": {
      "text/plain": [
       "['brexit',\n",
       " 'boris',\n",
       " 'johnson',\n",
       " 'not',\n",
       " 'deal',\n",
       " 'vote',\n",
       " 'do',\n",
       " 'party',\n",
       " 'tory',\n",
       " 'want']"
      ]
     },
     "execution_count": 34,
     "metadata": {},
     "output_type": "execute_result"
    }
   ],
   "source": [
    "words_spacy_nov = [row.split() for row in df_nov[\"TEXT_SPACY\"]]\n",
    "word_freq_spacy_nov = defaultdict(int)\n",
    "for sent in words_spacy_nov:\n",
    "    for i in sent:\n",
    "        word_freq_spacy_nov[i] += 1\n",
    "sorted(word_freq_spacy_nov, key = word_freq_spacy_nov.get, reverse=True)[:10]"
   ]
  },
  {
   "cell_type": "markdown",
   "metadata": {},
   "source": [
    "# IGNORE - Tried with gensim library"
   ]
  },
  {
   "cell_type": "code",
   "execution_count": null,
   "metadata": {},
   "outputs": [],
   "source": [
    "from gensim.models.phrases import Phrases, Phraser\n",
    "import pandas as pd\n",
    "\n",
    "from pprint import pprint\n",
    "\n",
    "# Gensim\n",
    "import gensim\n",
    "from gensim import models\n",
    "import gensim.corpora as corpora\n",
    "from gensim.utils import simple_preprocess\n",
    "from gensim.models import CoherenceModel\n",
    "from nltk.corpus import stopwords\n",
    "\n",
    "# spacy for lemmatization\n",
    "import spacy\n",
    "\n",
    "# Plotting tools\n",
    "import pyLDAvis\n",
    "import pyLDAvis.gensim  # don't skip this\n",
    "\n",
    "import warnings\n",
    "warnings.filterwarnings(\"ignore\",category=DeprecationWarning)\n",
    "\n",
    "stop_words = stopwords.words('english')\n",
    "stop_words.extend(['from', 'subject', 're', 'edu', 'use','user', 'com', 'co', 'con', 'be', 'else', 'http', 'would','send', \n",
    "                   'do', 'try', 'tell', 'go', 'get', 'can', 'think', 'know', 'give', 'ask', \n",
    "               'next', 'find'])"
   ]
  },
  {
   "cell_type": "code",
   "execution_count": null,
   "metadata": {},
   "outputs": [],
   "source": [
    "def remove_stopwords(texts):\n",
    "    return [[word for word in simple_preprocess(str(doc)) if word not in stop_words] for doc in texts]\n",
    "\n",
    "def make_bigrams(texts):\n",
    "    return [bigram_mod[doc] for doc in texts]\n",
    "\n",
    "def make_trigrams(texts):\n",
    "    return [trigram_mod[bigram_mod[doc]] for doc in texts]\n",
    "\n",
    "def lemmatization(texts, allowed_postags=['NOUN', 'ADJ', 'VERB', 'ADV']):\n",
    "    \"\"\"https://spacy.io/api/annotation\"\"\"\n",
    "    texts_out = []\n",
    "    for sent in texts:\n",
    "        doc = nlp(\" \".join(sent)) \n",
    "        texts_out.append([token.lemma_ for token in doc if token.pos_ in allowed_postags])\n",
    "    return texts_out"
   ]
  },
  {
   "cell_type": "code",
   "execution_count": null,
   "metadata": {},
   "outputs": [],
   "source": [
    "df_tm = df['TEXT'].tolist()"
   ]
  },
  {
   "cell_type": "code",
   "execution_count": null,
   "metadata": {},
   "outputs": [],
   "source": [
    "bigram = gensim.models.Phrases(df_tm, min_count=1, threshold=1) # higher threshold fewer phrases.\n",
    "bigram_mod = gensim.models.phrases.Phraser(bigram)\n",
    "#remove Stop Words\n",
    "data_words_nostops = remove_stopwords(df_tm)\n",
    "#creating bigrams\n",
    "data_words_bigrams = make_bigrams(data_words_nostops)\n",
    "#Initialize spacy 'en' model, keeping only tagger component (for efficiency)\n",
    "nlp = spacy.load('en', disable=['parser', 'ner'])\n",
    "# Do lemmatization keeping only noun, adj, vb, adv\n",
    "data_lemmatized = lemmatization(data_words_bigrams, allowed_postags=['NOUN', 'ADJ'])"
   ]
  },
  {
   "cell_type": "code",
   "execution_count": null,
   "metadata": {},
   "outputs": [],
   "source": [
    "# Create Dictionary from the unique bigrams \n",
    "id2word = corpora.Dictionary(data_lemmatized)\n",
    "id2word.filter_extremes(no_below=10)#, no_above=0.5) #excluding tokens that ocurred in less than 10 tweets and bigrams that occurred in more than 50% of the tweets\n",
    "# Rebuild corpus based on the dictionary\n",
    "texts = data_lemmatized\n",
    "# Term Document Frequency\n",
    "corpus = [id2word.doc2bow(text) for text in texts]"
   ]
  },
  {
   "cell_type": "code",
   "execution_count": null,
   "metadata": {},
   "outputs": [],
   "source": [
    "sent = [row.split() for row in df['TEXT']]\n",
    "phrases = Phrases(sent, min_count=30, progress_per=10000)\n",
    "sentences = bigram[sent]\n",
    "word_freq = defaultdict(int)\n",
    "for sent in sentences:\n",
    "    for i in sent:\n",
    "        word_freq[i] += 1\n",
    "len(word_freq)\n",
    "sorted(word_freq, key=word_freq.get, reverse=True)[:10]"
   ]
  },
  {
   "cell_type": "markdown",
   "metadata": {},
   "source": [
    "#### Using pre-trained model from Gensim"
   ]
  },
  {
   "cell_type": "code",
   "execution_count": null,
   "metadata": {},
   "outputs": [],
   "source": [
    "# Load vectors directly from the file\n",
    "df[\"TEXT_GENSIM\"] =  df.apply(lambda x: lemmatizer_gensim(x['TEXT']), axis=1)"
   ]
  },
  {
   "cell_type": "code",
   "execution_count": null,
   "metadata": {},
   "outputs": [],
   "source": [
    "words_gensim = [row.split() for row in df[\"TEXT_GENSIM\"]]\n",
    "word_freq_gensim = defaultdict(int)\n",
    "for sent in words_gensim:\n",
    "    for i in sent:\n",
    "        word_freq_gensim[i] += 1\n",
    "sorted(word_freq_gensim, key = word_freq_gensim.get, reverse=True)[:10]"
   ]
  },
  {
   "cell_type": "markdown",
   "metadata": {},
   "source": [
    "## IMPLEMENTING THE MODEL"
   ]
  },
  {
   "cell_type": "markdown",
   "metadata": {},
   "source": [
    "### Initializing the model with Spacy"
   ]
  },
  {
   "cell_type": "code",
   "execution_count": 12,
   "metadata": {},
   "outputs": [],
   "source": [
    "w2v_model = Word2Vec(min_count=100,\n",
    "                     window=3,\n",
    "                     size=200,\n",
    "                     workers=4)"
   ]
  },
  {
   "cell_type": "code",
   "execution_count": 13,
   "metadata": {},
   "outputs": [],
   "source": [
    "#building the vocabulary (from the tweets) for the model\n",
    "w2v_model.build_vocab(words_spacy)"
   ]
  },
  {
   "cell_type": "code",
   "execution_count": 14,
   "metadata": {},
   "outputs": [
    {
     "name": "stderr",
     "output_type": "stream",
     "text": [
      "/Users/ironhack/opt/anaconda3/lib/python3.7/site-packages/ipykernel_launcher.py:1: DeprecationWarning: Call to deprecated `iter` (Attribute will be removed in 4.0.0, use self.epochs instead).\n",
      "  \"\"\"Entry point for launching an IPython kernel.\n"
     ]
    }
   ],
   "source": [
    "w2v_model.train(words_spacy, total_examples=w2v_model.corpus_count, epochs=w2v_model.iter)\n",
    "w2v_model.init_sims(replace=True)"
   ]
  },
  {
   "cell_type": "code",
   "execution_count": 16,
   "metadata": {},
   "outputs": [
    {
     "data": {
      "text/plain": [
       "{'tell': <gensim.models.keyedvectors.Vocab at 0x10fe4cf50>,\n",
       " 'boris': <gensim.models.keyedvectors.Vocab at 0x10fe4cfd0>,\n",
       " 'johnson': <gensim.models.keyedvectors.Vocab at 0x10fe4cd50>,\n",
       " 'brexit': <gensim.models.keyedvectors.Vocab at 0x14494af10>,\n",
       " 'offer': <gensim.models.keyedvectors.Vocab at 0x14494ad10>,\n",
       " 'democracy': <gensim.models.keyedvectors.Vocab at 0x196540bd0>,\n",
       " 'scotland': <gensim.models.keyedvectors.Vocab at 0x1965403d0>,\n",
       " 'ever': <gensim.models.keyedvectors.Vocab at 0x12e7c0350>,\n",
       " 'look': <gensim.models.keyedvectors.Vocab at 0x14494af90>,\n",
       " 'day': <gensim.models.keyedvectors.Vocab at 0x196540d50>,\n",
       " 'still': <gensim.models.keyedvectors.Vocab at 0x1449b0050>,\n",
       " 'work': <gensim.models.keyedvectors.Vocab at 0x1449b0090>,\n",
       " 'finally': <gensim.models.keyedvectors.Vocab at 0x1449b00d0>,\n",
       " 'realise': <gensim.models.keyedvectors.Vocab at 0x1449b0110>,\n",
       " 'disaster': <gensim.models.keyedvectors.Vocab at 0x1449b0150>,\n",
       " 'borisjohnson': <gensim.models.keyedvectors.Vocab at 0x1449b0190>,\n",
       " 'well': <gensim.models.keyedvectors.Vocab at 0x1449b01d0>,\n",
       " 'joke': <gensim.models.keyedvectors.Vocab at 0x1449b0210>,\n",
       " 'tory': <gensim.models.keyedvectors.Vocab at 0x1449b0250>,\n",
       " 'uk': <gensim.models.keyedvectors.Vocab at 0x1449b0290>,\n",
       " 'may': <gensim.models.keyedvectors.Vocab at 0x1449b02d0>,\n",
       " 'stay': <gensim.models.keyedvectors.Vocab at 0x1449b0310>,\n",
       " 'single': <gensim.models.keyedvectors.Vocab at 0x1449b0350>,\n",
       " 'market': <gensim.models.keyedvectors.Vocab at 0x1449b0390>,\n",
       " 'union': <gensim.models.keyedvectors.Vocab at 0x1449b03d0>,\n",
       " 'via': <gensim.models.keyedvectors.Vocab at 0x1449b0410>,\n",
       " 'plan': <gensim.models.keyedvectors.Vocab at 0x1449b0450>,\n",
       " 'prime': <gensim.models.keyedvectors.Vocab at 0x1449b0490>,\n",
       " 'minister': <gensim.models.keyedvectors.Vocab at 0x1449b04d0>,\n",
       " 'news': <gensim.models.keyedvectors.Vocab at 0x1449b0510>,\n",
       " 'true': <gensim.models.keyedvectors.Vocab at 0x1449b0550>,\n",
       " 'democratic': <gensim.models.keyedvectors.Vocab at 0x1449b0590>,\n",
       " 'move': <gensim.models.keyedvectors.Vocab at 0x1449b05d0>,\n",
       " 'new': <gensim.models.keyedvectors.Vocab at 0x1449b0610>,\n",
       " 'another': <gensim.models.keyedvectors.Vocab at 0x1449b0650>,\n",
       " 'referendum': <gensim.models.keyedvectors.Vocab at 0x1449b0690>,\n",
       " 'follow': <gensim.models.keyedvectors.Vocab at 0x1449b06d0>,\n",
       " 'question': <gensim.models.keyedvectors.Vocab at 0x1449b0710>,\n",
       " 'matter': <gensim.models.keyedvectors.Vocab at 0x1449b0750>,\n",
       " 'nodeal': <gensim.models.keyedvectors.Vocab at 0x1449b0790>,\n",
       " 'remain': <gensim.models.keyedvectors.Vocab at 0x1449b07d0>,\n",
       " 'deal': <gensim.models.keyedvectors.Vocab at 0x1449b0810>,\n",
       " 'theresamay': <gensim.models.keyedvectors.Vocab at 0x1449b0850>,\n",
       " 'jeremycorbyn': <gensim.models.keyedvectors.Vocab at 0x1449b0890>,\n",
       " 'definitely': <gensim.models.keyedvectors.Vocab at 0x1449b08d0>,\n",
       " 'without': <gensim.models.keyedvectors.Vocab at 0x1449b0910>,\n",
       " 'doubt': <gensim.models.keyedvectors.Vocab at 0x1449b0950>,\n",
       " 'believe': <gensim.models.keyedvectors.Vocab at 0x1449b0990>,\n",
       " 'swinson': <gensim.models.keyedvectors.Vocab at 0x1449b09d0>,\n",
       " 'far': <gensim.models.keyedvectors.Vocab at 0x1449b0a10>,\n",
       " 'person': <gensim.models.keyedvectors.Vocab at 0x1449b0a50>,\n",
       " 'trust': <gensim.models.keyedvectors.Vocab at 0x1449b0a90>,\n",
       " 'corbyn': <gensim.models.keyedvectors.Vocab at 0x1449b0ad0>,\n",
       " '-PRON-': <gensim.models.keyedvectors.Vocab at 0x1449b0b10>,\n",
       " 'be': <gensim.models.keyedvectors.Vocab at 0x1449b0b50>,\n",
       " 'consider': <gensim.models.keyedvectors.Vocab at 0x1449b0b90>,\n",
       " 'want': <gensim.models.keyedvectors.Vocab at 0x1449b0bd0>,\n",
       " 'guess': <gensim.models.keyedvectors.Vocab at 0x1449b0c10>,\n",
       " 'go': <gensim.models.keyedvectors.Vocab at 0x1449b0c50>,\n",
       " 'call': <gensim.models.keyedvectors.Vocab at 0x1449b0c90>,\n",
       " '—': <gensim.models.keyedvectors.Vocab at 0x1449b0cd0>,\n",
       " 'cameron': <gensim.models.keyedvectors.Vocab at 0x1449b0d10>,\n",
       " 'fuck': <gensim.models.keyedvectors.Vocab at 0x1449b0d50>,\n",
       " 'country': <gensim.models.keyedvectors.Vocab at 0x1449b0d90>,\n",
       " '’s': <gensim.models.keyedvectors.Vocab at 0x1449b0dd0>,\n",
       " 'expect': <gensim.models.keyedvectors.Vocab at 0x1449b0e10>,\n",
       " 'think': <gensim.models.keyedvectors.Vocab at 0x1449b0e50>,\n",
       " 'will': <gensim.models.keyedvectors.Vocab at 0x1449b0e90>,\n",
       " 'actually': <gensim.models.keyedvectors.Vocab at 0x1449b0ed0>,\n",
       " 'never': <gensim.models.keyedvectors.Vocab at 0x1449b0f10>,\n",
       " 'know': <gensim.models.keyedvectors.Vocab at 0x1449b0f50>,\n",
       " 'what': <gensim.models.keyedvectors.Vocab at 0x1449b0f90>,\n",
       " '…': <gensim.models.keyedvectors.Vocab at 0x1449b0fd0>,\n",
       " 'less': <gensim.models.keyedvectors.Vocab at 0x1449b1050>,\n",
       " 'hold': <gensim.models.keyedvectors.Vocab at 0x1449b1090>,\n",
       " 'high': <gensim.models.keyedvectors.Vocab at 0x1449b10d0>,\n",
       " 'office': <gensim.models.keyedvectors.Vocab at 0x1449b1110>,\n",
       " 'yet': <gensim.models.keyedvectors.Vocab at 0x1449b1150>,\n",
       " 'people': <gensim.models.keyedvectors.Vocab at 0x1449b1190>,\n",
       " 'vote': <gensim.models.keyedvectors.Vocab at 0x1449b11d0>,\n",
       " 'farage': <gensim.models.keyedvectors.Vocab at 0x1449b1210>,\n",
       " 'hand': <gensim.models.keyedvectors.Vocab at 0x1449b1250>,\n",
       " 'clear': <gensim.models.keyedvectors.Vocab at 0x1449b1290>,\n",
       " 'sign': <gensim.models.keyedvectors.Vocab at 0x1449b12d0>,\n",
       " 'take': <gensim.models.keyedvectors.Vocab at 0x1449b1310>,\n",
       " 'week': <gensim.models.keyedvectors.Vocab at 0x1449b1350>,\n",
       " 'leave': <gensim.models.keyedvectors.Vocab at 0x1449b1390>,\n",
       " 'voter': <gensim.models.keyedvectors.Vocab at 0x1449b13d0>,\n",
       " 'guy': <gensim.models.keyedvectors.Vocab at 0x1449b1410>,\n",
       " 's': <gensim.models.keyedvectors.Vocab at 0x1449b1450>,\n",
       " '£': <gensim.models.keyedvectors.Vocab at 0x1449b1490>,\n",
       " 'since': <gensim.models.keyedvectors.Vocab at 0x1449b14d0>,\n",
       " 'fund': <gensim.models.keyedvectors.Vocab at 0x1449b1510>,\n",
       " 'fresh': <gensim.models.keyedvectors.Vocab at 0x1449b1550>,\n",
       " 'british': <gensim.models.keyedvectors.Vocab at 0x1449b1590>,\n",
       " 'former': <gensim.models.keyedvectors.Vocab at 0x1449b15d0>,\n",
       " 'warn': <gensim.models.keyedvectors.Vocab at 0x1449b1610>,\n",
       " 'strategy': <gensim.models.keyedvectors.Vocab at 0x1449b1650>,\n",
       " 'general': <gensim.models.keyedvectors.Vocab at 0x1449b1690>,\n",
       " 'election': <gensim.models.keyedvectors.Vocab at 0x1449b16d0>,\n",
       " 'yes': <gensim.models.keyedvectors.Vocab at 0x1449b1710>,\n",
       " 'statement': <gensim.models.keyedvectors.Vocab at 0x1449b1750>,\n",
       " 'also': <gensim.models.keyedvectors.Vocab at 0x1449b1790>,\n",
       " 'whether': <gensim.models.keyedvectors.Vocab at 0x1449b17d0>,\n",
       " 'accept': <gensim.models.keyedvectors.Vocab at 0x1449b1810>,\n",
       " 'nigelfarage': <gensim.models.keyedvectors.Vocab at 0x1449b1850>,\n",
       " 'party': <gensim.models.keyedvectors.Vocab at 0x1449b1890>,\n",
       " 'good': <gensim.models.keyedvectors.Vocab at 0x1449b18d0>,\n",
       " 'chance': <gensim.models.keyedvectors.Vocab at 0x1449b1910>,\n",
       " 'deliver': <gensim.models.keyedvectors.Vocab at 0x1449b1950>,\n",
       " 'conservative': <gensim.models.keyedvectors.Vocab at 0x1449b1990>,\n",
       " 'pm': <gensim.models.keyedvectors.Vocab at 0x1449b19d0>,\n",
       " 'promise': <gensim.models.keyedvectors.Vocab at 0x1449b1a10>,\n",
       " 'fall': <gensim.models.keyedvectors.Vocab at 0x1449b1a50>,\n",
       " 'make': <gensim.models.keyedvectors.Vocab at 0x1449b1a90>,\n",
       " 'right': <gensim.models.keyedvectors.Vocab at 0x1449b1ad0>,\n",
       " 'last': <gensim.models.keyedvectors.Vocab at 0x1449b1b10>,\n",
       " 'need': <gensim.models.keyedvectors.Vocab at 0x1449b1b50>,\n",
       " 'back': <gensim.models.keyedvectors.Vocab at 0x1449b1b90>,\n",
       " 'possible': <gensim.models.keyedvectors.Vocab at 0x1449b1bd0>,\n",
       " 'hard': <gensim.models.keyedvectors.Vocab at 0x1449b1c10>,\n",
       " 'see': <gensim.models.keyedvectors.Vocab at 0x1449b1c50>,\n",
       " 'october': <gensim.models.keyedvectors.Vocab at 0x1449b1c90>,\n",
       " 'deadline': <gensim.models.keyedvectors.Vocab at 0x1449b1cd0>,\n",
       " 'ahead': <gensim.models.keyedvectors.Vocab at 0x1449b1d10>,\n",
       " 'head': <gensim.models.keyedvectors.Vocab at 0x1449b1d50>,\n",
       " 'northern': <gensim.models.keyedvectors.Vocab at 0x1449b1d90>,\n",
       " 'ireland': <gensim.models.keyedvectors.Vocab at 0x1449b1dd0>,\n",
       " 'stopbrexit': <gensim.models.keyedvectors.Vocab at 0x1449b1e10>,\n",
       " 'oh': <gensim.models.keyedvectors.Vocab at 0x1449b1e50>,\n",
       " '’': <gensim.models.keyedvectors.Vocab at 0x1449b1e90>,\n",
       " 'happen': <gensim.models.keyedvectors.Vocab at 0x1449b1ed0>,\n",
       " 'eu': <gensim.models.keyedvectors.Vocab at 0x1449b1f10>,\n",
       " 'must': <gensim.models.keyedvectors.Vocab at 0x1449b1f50>,\n",
       " 'scrap': <gensim.models.keyedvectors.Vocab at 0x1449b1f90>,\n",
       " 'backstop': <gensim.models.keyedvectors.Vocab at 0x1449b1fd0>,\n",
       " 'avoid': <gensim.models.keyedvectors.Vocab at 0x1449b2050>,\n",
       " 'johnsons': <gensim.models.keyedvectors.Vocab at 0x1449b2090>,\n",
       " 'chief': <gensim.models.keyedvectors.Vocab at 0x1449b20d0>,\n",
       " 'britain': <gensim.models.keyedvectors.Vocab at 0x1449b2110>,\n",
       " 'brexiteer': <gensim.models.keyedvectors.Vocab at 0x1449b2150>,\n",
       " 'term': <gensim.models.keyedvectors.Vocab at 0x1449b2190>,\n",
       " 'wish': <gensim.models.keyedvectors.Vocab at 0x1449b21d0>,\n",
       " 'future': <gensim.models.keyedvectors.Vocab at 0x1449b2210>,\n",
       " 'within': <gensim.models.keyedvectors.Vocab at 0x1449b2250>,\n",
       " 'year': <gensim.models.keyedvectors.Vocab at 0x1449b2290>,\n",
       " 'independent': <gensim.models.keyedvectors.Vocab at 0x1449b22d0>,\n",
       " 'do': <gensim.models.keyedvectors.Vocab at 0x1449b2310>,\n",
       " 'not': <gensim.models.keyedvectors.Vocab at 0x1449b2350>,\n",
       " 'let': <gensim.models.keyedvectors.Vocab at 0x1449b2390>,\n",
       " 'idiot': <gensim.models.keyedvectors.Vocab at 0x1449b23d0>,\n",
       " 'lot': <gensim.models.keyedvectors.Vocab at 0x1449b2410>,\n",
       " 'business': <gensim.models.keyedvectors.Vocab at 0x1449b2450>,\n",
       " 'prepare': <gensim.models.keyedvectors.Vocab at 0x1449b2490>,\n",
       " 'keep': <gensim.models.keyedvectors.Vocab at 0x1449b24d0>,\n",
       " 'us': <gensim.models.keyedvectors.Vocab at 0x1449b2510>,\n",
       " 'customs': <gensim.models.keyedvectors.Vocab at 0x1449b2550>,\n",
       " 'big': <gensim.models.keyedvectors.Vocab at 0x1449b2590>,\n",
       " 'mistake': <gensim.models.keyedvectors.Vocab at 0x1449b25d0>,\n",
       " 'hope': <gensim.models.keyedvectors.Vocab at 0x1449b2610>,\n",
       " 'sure': <gensim.models.keyedvectors.Vocab at 0x1449b2650>,\n",
       " 'one': <gensim.models.keyedvectors.Vocab at 0x1449b2690>,\n",
       " 'betrayal': <gensim.models.keyedvectors.Vocab at 0x1449b26d0>,\n",
       " 'personal': <gensim.models.keyedvectors.Vocab at 0x1449b2710>,\n",
       " 'fact': <gensim.models.keyedvectors.Vocab at 0x1449b2750>,\n",
       " 'real': <gensim.models.keyedvectors.Vocab at 0x1449b2790>,\n",
       " 'record': <gensim.models.keyedvectors.Vocab at 0x1449b27d0>,\n",
       " 'theresa': <gensim.models.keyedvectors.Vocab at 0x1449b2810>,\n",
       " 'civil': <gensim.models.keyedvectors.Vocab at 0x1449b2850>,\n",
       " 'service': <gensim.models.keyedvectors.Vocab at 0x1449b2890>,\n",
       " 'even': <gensim.models.keyedvectors.Vocab at 0x1449b28d0>,\n",
       " 'become': <gensim.models.keyedvectors.Vocab at 0x1449b2910>,\n",
       " 'top': <gensim.models.keyedvectors.Vocab at 0x1449b2950>,\n",
       " 'support': <gensim.models.keyedvectors.Vocab at 0x1449b2990>,\n",
       " 'always': <gensim.models.keyedvectors.Vocab at 0x1449b29d0>,\n",
       " 'damage': <gensim.models.keyedvectors.Vocab at 0x1449b2a10>,\n",
       " 'rather': <gensim.models.keyedvectors.Vocab at 0x1449b2a50>,\n",
       " 'opportunity': <gensim.models.keyedvectors.Vocab at 0x1449b2a90>,\n",
       " 'bbc': <gensim.models.keyedvectors.Vocab at 0x1449b2ad0>,\n",
       " 'say': <gensim.models.keyedvectors.Vocab at 0x1449b2b10>,\n",
       " 'first': <gensim.models.keyedvectors.Vocab at 0x1449b2b50>,\n",
       " 'visit': <gensim.models.keyedvectors.Vocab at 0x1449b2b90>,\n",
       " 'likely': <gensim.models.keyedvectors.Vocab at 0x1449b2bd0>,\n",
       " 'old': <gensim.models.keyedvectors.Vocab at 0x1449b2c10>,\n",
       " 'ask': <gensim.models.keyedvectors.Vocab at 0x1449b2c50>,\n",
       " 'time': <gensim.models.keyedvectors.Vocab at 0x1449b2c90>,\n",
       " 'number': <gensim.models.keyedvectors.Vocab at 0x1449b2cd0>,\n",
       " 'much': <gensim.models.keyedvectors.Vocab at 0x1449b2d10>,\n",
       " 'money': <gensim.models.keyedvectors.Vocab at 0x1449b2d50>,\n",
       " 'spend': <gensim.models.keyedvectors.Vocab at 0x1449b2d90>,\n",
       " 'could': <gensim.models.keyedvectors.Vocab at 0x1449b2dd0>,\n",
       " 'important': <gensim.models.keyedvectors.Vocab at 0x1449b2e10>,\n",
       " 'issue': <gensim.models.keyedvectors.Vocab at 0x1449b2e50>,\n",
       " 'cause': <gensim.models.keyedvectors.Vocab at 0x1449b2e90>,\n",
       " 'problem': <gensim.models.keyedvectors.Vocab at 0x1449b2ed0>,\n",
       " \"'\": <gensim.models.keyedvectors.Vocab at 0x1449b2f10>,\n",
       " 'political': <gensim.models.keyedvectors.Vocab at 0x1449b2f50>,\n",
       " 'agree': <gensim.models.keyedvectors.Vocab at 0x1449b2f90>,\n",
       " 'can': <gensim.models.keyedvectors.Vocab at 0x1449b2fd0>,\n",
       " 'leaver': <gensim.models.keyedvectors.Vocab at 0x1449b5050>,\n",
       " 'united': <gensim.models.keyedvectors.Vocab at 0x1449b5090>,\n",
       " 'around': <gensim.models.keyedvectors.Vocab at 0x1449b50d0>,\n",
       " 'rt': <gensim.models.keyedvectors.Vocab at 0x1449b5110>,\n",
       " 'like': <gensim.models.keyedvectors.Vocab at 0x1449b5150>,\n",
       " 'trump': <gensim.models.keyedvectors.Vocab at 0x1449b5190>,\n",
       " 'continue': <gensim.models.keyedvectors.Vocab at 0x1449b51d0>,\n",
       " 'seem': <gensim.models.keyedvectors.Vocab at 0x1449b5210>,\n",
       " 'reality': <gensim.models.keyedvectors.Vocab at 0x1449b5250>,\n",
       " 'perhaps': <gensim.models.keyedvectors.Vocab at 0x1449b5290>,\n",
       " 'instead': <gensim.models.keyedvectors.Vocab at 0x1449b52d0>,\n",
       " 'watch': <gensim.models.keyedvectors.Vocab at 0x1449b5310>,\n",
       " 'love': <gensim.models.keyedvectors.Vocab at 0x1449b5350>,\n",
       " 'get': <gensim.models.keyedvectors.Vocab at 0x1449b5390>,\n",
       " 'would': <gensim.models.keyedvectors.Vocab at 0x1449b53d0>,\n",
       " 'bad': <gensim.models.keyedvectors.Vocab at 0x1449b5410>,\n",
       " 'steve': <gensim.models.keyedvectors.Vocab at 0x1449b5450>,\n",
       " 'wa': <gensim.models.keyedvectors.Vocab at 0x1449b5490>,\n",
       " 'urge': <gensim.models.keyedvectors.Vocab at 0x1449b54d0>,\n",
       " 'amp': <gensim.models.keyedvectors.Vocab at 0x1449b5510>,\n",
       " 'street': <gensim.models.keyedvectors.Vocab at 0x1449b5550>,\n",
       " 'london': <gensim.models.keyedvectors.Vocab at 0x1449b5590>,\n",
       " 'quite': <gensim.models.keyedvectors.Vocab at 0x1449b55d0>,\n",
       " 'put': <gensim.models.keyedvectors.Vocab at 0x1449b5610>,\n",
       " 'current': <gensim.models.keyedvectors.Vocab at 0x1449b5650>,\n",
       " 'every': <gensim.models.keyedvectors.Vocab at 0x1449b5690>,\n",
       " 'base': <gensim.models.keyedvectors.Vocab at 0x1449b56d0>,\n",
       " 'lead': <gensim.models.keyedvectors.Vocab at 0x1449b5710>,\n",
       " 'liar': <gensim.models.keyedvectors.Vocab at 0x1449b5750>,\n",
       " 'public': <gensim.models.keyedvectors.Vocab at 0x1449b5790>,\n",
       " 'suggest': <gensim.models.keyedvectors.Vocab at 0x1449b57d0>,\n",
       " 'extend': <gensim.models.keyedvectors.Vocab at 0x1449b5810>,\n",
       " 'exit': <gensim.models.keyedvectors.Vocab at 0x1449b5850>,\n",
       " 'two': <gensim.models.keyedvectors.Vocab at 0x1449b5890>,\n",
       " 'block': <gensim.models.keyedvectors.Vocab at 0x1449b58d0>,\n",
       " 'join': <gensim.models.keyedvectors.Vocab at 0x1449b5910>,\n",
       " 'complete': <gensim.models.keyedvectors.Vocab at 0x1449b5950>,\n",
       " 'start': <gensim.models.keyedvectors.Vocab at 0x1449b5990>,\n",
       " 'together': <gensim.models.keyedvectors.Vocab at 0x1449b59d0>,\n",
       " 'million': <gensim.models.keyedvectors.Vocab at 0x1449b5a10>,\n",
       " 'that': <gensim.models.keyedvectors.Vocab at 0x1449b5a50>,\n",
       " 'negotiate': <gensim.models.keyedvectors.Vocab at 0x1449b5a90>,\n",
       " 'really': <gensim.models.keyedvectors.Vocab at 0x1449b5ad0>,\n",
       " 'lose': <gensim.models.keyedvectors.Vocab at 0x1449b5b10>,\n",
       " 'traitor': <gensim.models.keyedvectors.Vocab at 0x1449b5b50>,\n",
       " 'come': <gensim.models.keyedvectors.Vocab at 0x1449b5b90>,\n",
       " 'delay': <gensim.models.keyedvectors.Vocab at 0x1449b5bd0>,\n",
       " 'stop': <gensim.models.keyedvectors.Vocab at 0x1449b5c10>,\n",
       " 'whilst': <gensim.models.keyedvectors.Vocab at 0x1449b5c50>,\n",
       " 'pretend': <gensim.models.keyedvectors.Vocab at 0x1449b5c90>,\n",
       " 'law': <gensim.models.keyedvectors.Vocab at 0x1449b5cd0>,\n",
       " 'power': <gensim.models.keyedvectors.Vocab at 0x1449b5d10>,\n",
       " 'member': <gensim.models.keyedvectors.Vocab at 0x1449b5d50>,\n",
       " 'england': <gensim.models.keyedvectors.Vocab at 0x1449b5d90>,\n",
       " 'fault': <gensim.models.keyedvectors.Vocab at 0x1449b5dd0>,\n",
       " 'lie': <gensim.models.keyedvectors.Vocab at 0x1449b5e10>,\n",
       " 'mp': <gensim.models.keyedvectors.Vocab at 0x1449b5e50>,\n",
       " 'final': <gensim.models.keyedvectors.Vocab at 0x1449b5e90>,\n",
       " 'petition': <gensim.models.keyedvectors.Vocab at 0x1449b5ed0>,\n",
       " 'late': <gensim.models.keyedvectors.Vocab at 0x1449b5f10>,\n",
       " 'post': <gensim.models.keyedvectors.Vocab at 0x1449b5f50>,\n",
       " 'talk': <gensim.models.keyedvectors.Vocab at 0x1449b5f90>,\n",
       " 'fear': <gensim.models.keyedvectors.Vocab at 0x1449b5fd0>,\n",
       " 'daily': <gensim.models.keyedvectors.Vocab at 0x1449b8050>,\n",
       " 'interview': <gensim.models.keyedvectors.Vocab at 0x1449b8090>,\n",
       " 'nigel': <gensim.models.keyedvectors.Vocab at 0x1449b80d0>,\n",
       " 'threat': <gensim.models.keyedvectors.Vocab at 0x1449b8110>,\n",
       " 'mean': <gensim.models.keyedvectors.Vocab at 0x1449b8150>,\n",
       " 'irish': <gensim.models.keyedvectors.Vocab at 0x1449b8190>,\n",
       " 'government': <gensim.models.keyedvectors.Vocab at 0x1449b81d0>,\n",
       " '\"': <gensim.models.keyedvectors.Vocab at 0x1449b8210>,\n",
       " 'benefit': <gensim.models.keyedvectors.Vocab at 0x1449b8250>,\n",
       " 'seek': <gensim.models.keyedvectors.Vocab at 0x1449b8290>,\n",
       " 'word': <gensim.models.keyedvectors.Vocab at 0x1449b82d0>,\n",
       " 'long': <gensim.models.keyedvectors.Vocab at 0x1449b8310>,\n",
       " 'either': <gensim.models.keyedvectors.Vocab at 0x1449b8350>,\n",
       " 'anti': <gensim.models.keyedvectors.Vocab at 0x1449b8390>,\n",
       " '–': <gensim.models.keyedvectors.Vocab at 0x1449b83d0>,\n",
       " 'tonight': <gensim.models.keyedvectors.Vocab at 0x1449b8410>,\n",
       " 'open': <gensim.models.keyedvectors.Vocab at 0x1449b8450>,\n",
       " 'today': <gensim.models.keyedvectors.Vocab at 0x1449b8490>,\n",
       " 'thank': <gensim.models.keyedvectors.Vocab at 0x1449b84d0>,\n",
       " 'step': <gensim.models.keyedvectors.Vocab at 0x1449b8510>,\n",
       " 'close': <gensim.models.keyedvectors.Vocab at 0x1449b8550>,\n",
       " 'youtube': <gensim.models.keyedvectors.Vocab at 0x1449b8590>,\n",
       " 'brussels': <gensim.models.keyedvectors.Vocab at 0x1449b85d0>,\n",
       " 'blame': <gensim.models.keyedvectors.Vocab at 0x1449b8610>,\n",
       " 'force': <gensim.models.keyedvectors.Vocab at 0x1449b8650>,\n",
       " 'death': <gensim.models.keyedvectors.Vocab at 0x1449b8690>,\n",
       " 'resign': <gensim.models.keyedvectors.Vocab at 0x1449b86d0>,\n",
       " 'agreement': <gensim.models.keyedvectors.Vocab at 0x1449b8710>,\n",
       " 'president': <gensim.models.keyedvectors.Vocab at 0x1449b8750>,\n",
       " 'case': <gensim.models.keyedvectors.Vocab at 0x1449b8790>,\n",
       " 'great': <gensim.models.keyedvectors.Vocab at 0x1449b87d0>,\n",
       " 'feel': <gensim.models.keyedvectors.Vocab at 0x1449b8810>,\n",
       " 'have': <gensim.models.keyedvectors.Vocab at 0x1449b8850>,\n",
       " 'wto': <gensim.models.keyedvectors.Vocab at 0x1449b8890>,\n",
       " 'nothing': <gensim.models.keyedvectors.Vocab at 0x1449b88d0>,\n",
       " 'create': <gensim.models.keyedvectors.Vocab at 0x1449b8910>,\n",
       " 'state': <gensim.models.keyedvectors.Vocab at 0x1449b8950>,\n",
       " 'something': <gensim.models.keyedvectors.Vocab at 0x1449b8990>,\n",
       " 'exactly': <gensim.models.keyedvectors.Vocab at 0x1449b89d0>,\n",
       " 'politician': <gensim.models.keyedvectors.Vocab at 0x1449b8a10>,\n",
       " 'solution': <gensim.models.keyedvectors.Vocab at 0x1449b8a50>,\n",
       " 'respect': <gensim.models.keyedvectors.Vocab at 0x1449b8a90>,\n",
       " 'mr': <gensim.models.keyedvectors.Vocab at 0x1449b8ad0>,\n",
       " 'leader': <gensim.models.keyedvectors.Vocab at 0x1449b8b10>,\n",
       " 'stand': <gensim.models.keyedvectors.Vocab at 0x1449b8b50>,\n",
       " 'mess': <gensim.models.keyedvectors.Vocab at 0x1449b8b90>,\n",
       " 'telegraph': <gensim.models.keyedvectors.Vocab at 0x1449b8bd0>,\n",
       " 'point': <gensim.models.keyedvectors.Vocab at 0x1449b8c10>,\n",
       " 'meet': <gensim.models.keyedvectors.Vocab at 0x1449b8c50>,\n",
       " 'insist': <gensim.models.keyedvectors.Vocab at 0x1449b8c90>,\n",
       " 'despite': <gensim.models.keyedvectors.Vocab at 0x1449b8cd0>,\n",
       " 'failure': <gensim.models.keyedvectors.Vocab at 0x1449b8d10>,\n",
       " 'secure': <gensim.models.keyedvectors.Vocab at 0x1449b8d50>,\n",
       " 'national': <gensim.models.keyedvectors.Vocab at 0x1449b8d90>,\n",
       " 'action': <gensim.models.keyedvectors.Vocab at 0x1449b8dd0>,\n",
       " 'claim': <gensim.models.keyedvectors.Vocab at 0x1449b8e10>,\n",
       " 'thing': <gensim.models.keyedvectors.Vocab at 0x196540710>,\n",
       " 'change': <gensim.models.keyedvectors.Vocab at 0x196540350>,\n",
       " 'pay': <gensim.models.keyedvectors.Vocab at 0x196540110>,\n",
       " 'trade': <gensim.models.keyedvectors.Vocab at 0x196540290>,\n",
       " 'rule': <gensim.models.keyedvectors.Vocab at 0x196540510>,\n",
       " 'david': <gensim.models.keyedvectors.Vocab at 0x196540650>,\n",
       " 'compromise': <gensim.models.keyedvectors.Vocab at 0x196540b90>,\n",
       " 'there': <gensim.models.keyedvectors.Vocab at 0x196540410>,\n",
       " 'opposition': <gensim.models.keyedvectors.Vocab at 0x196540190>,\n",
       " 'unite': <gensim.models.keyedvectors.Vocab at 0x1965400d0>,\n",
       " 'politic': <gensim.models.keyedvectors.Vocab at 0x1965401d0>,\n",
       " 'break': <gensim.models.keyedvectors.Vocab at 0x196540250>,\n",
       " 'treaty': <gensim.models.keyedvectors.Vocab at 0x196540450>,\n",
       " 'full': <gensim.models.keyedvectors.Vocab at 0x166bb5310>,\n",
       " 'prove': <gensim.models.keyedvectors.Vocab at 0x166bb5410>,\n",
       " 'other': <gensim.models.keyedvectors.Vocab at 0x166bb5610>,\n",
       " 'wrong': <gensim.models.keyedvectors.Vocab at 0x166bb5e90>,\n",
       " 'wing': <gensim.models.keyedvectors.Vocab at 0x166bb5f50>,\n",
       " 'world': <gensim.models.keyedvectors.Vocab at 0x166bb5250>,\n",
       " 'nation': <gensim.models.keyedvectors.Vocab at 0x166bb5790>,\n",
       " 'bring': <gensim.models.keyedvectors.Vocab at 0x166bb5210>,\n",
       " 'set': <gensim.models.keyedvectors.Vocab at 0x166bb5110>,\n",
       " 'brexitshamble': <gensim.models.keyedvectors.Vocab at 0x166bb5ed0>,\n",
       " 'u': <gensim.models.keyedvectors.Vocab at 0x166bb5690>,\n",
       " 'attempt': <gensim.models.keyedvectors.Vocab at 0x166bb5f10>,\n",
       " 'wonder': <gensim.models.keyedvectors.Vocab at 0x166bb5890>,\n",
       " 'dup': <gensim.models.keyedvectors.Vocab at 0x1449b8e50>,\n",
       " 'skynews': <gensim.models.keyedvectors.Vocab at 0x1449b8e90>,\n",
       " 'rest': <gensim.models.keyedvectors.Vocab at 0x1449b8ed0>,\n",
       " 'write': <gensim.models.keyedvectors.Vocab at 0x1449b8f10>,\n",
       " 'turn': <gensim.models.keyedvectors.Vocab at 0x1449b8f50>,\n",
       " 'fight': <gensim.models.keyedvectors.Vocab at 0x1449b8f90>,\n",
       " 'labour': <gensim.models.keyedvectors.Vocab at 0x1449b8fd0>,\n",
       " 'pledge': <gensim.models.keyedvectors.Vocab at 0x1449bc050>,\n",
       " 'cabinet': <gensim.models.keyedvectors.Vocab at 0x1449bc090>,\n",
       " 'abandon': <gensim.models.keyedvectors.Vocab at 0x1449bc0d0>,\n",
       " 'someone': <gensim.models.keyedvectors.Vocab at 0x1449bc110>,\n",
       " 'ge': <gensim.models.keyedvectors.Vocab at 0x1449bc150>,\n",
       " 'campaign': <gensim.models.keyedvectors.Vocab at 0x1449bc190>,\n",
       " 'give': <gensim.models.keyedvectors.Vocab at 0x1449bc1d0>,\n",
       " 'demand': <gensim.models.keyedvectors.Vocab at 0x1449bc210>,\n",
       " 'extension': <gensim.models.keyedvectors.Vocab at 0x1449bc250>,\n",
       " 'along': <gensim.models.keyedvectors.Vocab at 0x1449bc290>,\n",
       " 'anyway': <gensim.models.keyedvectors.Vocab at 0x1449bc2d0>,\n",
       " 'try': <gensim.models.keyedvectors.Vocab at 0x1449bc310>,\n",
       " 'job': <gensim.models.keyedvectors.Vocab at 0x1449bc350>,\n",
       " 'wait': <gensim.models.keyedvectors.Vocab at 0x1449bc390>,\n",
       " 'bbcnews': <gensim.models.keyedvectors.Vocab at 0x1449bc3d0>,\n",
       " 'beyond': <gensim.models.keyedvectors.Vocab at 0x1449bc410>,\n",
       " 'policy': <gensim.models.keyedvectors.Vocab at 0x1449bc450>,\n",
       " 'life': <gensim.models.keyedvectors.Vocab at 0x1449bc490>,\n",
       " 'better': <gensim.models.keyedvectors.Vocab at 0x1449bc4d0>,\n",
       " 'act': <gensim.models.keyedvectors.Vocab at 0x1449bc510>,\n",
       " 'short': <gensim.models.keyedvectors.Vocab at 0x1449bc550>,\n",
       " 'game': <gensim.models.keyedvectors.Vocab at 0x1449bc590>,\n",
       " 'gove': <gensim.models.keyedvectors.Vocab at 0x1449bc5d0>,\n",
       " 'protect': <gensim.models.keyedvectors.Vocab at 0x1449bc610>,\n",
       " 'mps': <gensim.models.keyedvectors.Vocab at 0x1449bc650>,\n",
       " 'decide': <gensim.models.keyedvectors.Vocab at 0x1449bc690>,\n",
       " 'peoplesvote': <gensim.models.keyedvectors.Vocab at 0x1449bc6d0>,\n",
       " 'play': <gensim.models.keyedvectors.Vocab at 0x1449bc710>,\n",
       " 'sky': <gensim.models.keyedvectors.Vocab at 0x1449bc750>,\n",
       " 'unless': <gensim.models.keyedvectors.Vocab at 0x1449bc790>,\n",
       " 'pass': <gensim.models.keyedvectors.Vocab at 0x1449bc7d0>,\n",
       " 'sit': <gensim.models.keyedvectors.Vocab at 0x1449bc810>,\n",
       " 'press': <gensim.models.keyedvectors.Vocab at 0x1449bc850>,\n",
       " 'erg': <gensim.models.keyedvectors.Vocab at 0x1449bc890>,\n",
       " 'to': <gensim.models.keyedvectors.Vocab at 0x1449bc8d0>,\n",
       " 'opinion': <gensim.models.keyedvectors.Vocab at 0x1449bc910>,\n",
       " 'jeremy': <gensim.models.keyedvectors.Vocab at 0x1449bc950>,\n",
       " 'quit': <gensim.models.keyedvectors.Vocab at 0x1449bc990>,\n",
       " 'uklabour': <gensim.models.keyedvectors.Vocab at 0x1449bc9d0>,\n",
       " 'man': <gensim.models.keyedvectors.Vocab at 0x1449bca10>,\n",
       " 'ukip': <gensim.models.keyedvectors.Vocab at 0x1449bca50>,\n",
       " 'kill': <gensim.models.keyedvectors.Vocab at 0x1449bca90>,\n",
       " 'dead': <gensim.models.keyedvectors.Vocab at 0x1449bcad0>,\n",
       " 'care': <gensim.models.keyedvectors.Vocab at 0x1449bcb10>,\n",
       " 'way': <gensim.models.keyedvectors.Vocab at 0x1449bcb50>,\n",
       " 'challenge': <gensim.models.keyedvectors.Vocab at 0x1449bcb90>,\n",
       " 'face': <gensim.models.keyedvectors.Vocab at 0x1449bcbd0>,\n",
       " 'pact': <gensim.models.keyedvectors.Vocab at 0x1449bcc10>,\n",
       " 'cost': <gensim.models.keyedvectors.Vocab at 0x1449bcc50>,\n",
       " 'billion': <gensim.models.keyedvectors.Vocab at 0x1449bcc90>,\n",
       " 'whatever': <gensim.models.keyedvectors.Vocab at 0x1449bccd0>,\n",
       " 'form': <gensim.models.keyedvectors.Vocab at 0x1449bcd10>,\n",
       " 'seat': <gensim.models.keyedvectors.Vocab at 0x1449bcd50>,\n",
       " 'bus': <gensim.models.keyedvectors.Vocab at 0x1449bcd90>,\n",
       " 'crash': <gensim.models.keyedvectors.Vocab at 0x1449bcdd0>,\n",
       " 'clearly': <gensim.models.keyedvectors.Vocab at 0x1449bce10>,\n",
       " 'already': <gensim.models.keyedvectors.Vocab at 0x1449bce50>,\n",
       " 'side': <gensim.models.keyedvectors.Vocab at 0x1449bce90>,\n",
       " 'end': <gensim.models.keyedvectors.Vocab at 0x1449bced0>,\n",
       " 'elect': <gensim.models.keyedvectors.Vocab at 0x1449bcf10>,\n",
       " 'everyone': <gensim.models.keyedvectors.Vocab at 0x1449bcf50>,\n",
       " 'group': <gensim.models.keyedvectors.Vocab at 0x1449bcf90>,\n",
       " 'show': <gensim.models.keyedvectors.Vocab at 0x1449bcfd0>,\n",
       " 'candidate': <gensim.models.keyedvectors.Vocab at 0x144a36050>,\n",
       " 'the': <gensim.models.keyedvectors.Vocab at 0x144a36090>,\n",
       " 'three': <gensim.models.keyedvectors.Vocab at 0x144a360d0>,\n",
       " 'month': <gensim.models.keyedvectors.Vocab at 0x144a36110>,\n",
       " 'european': <gensim.models.keyedvectors.Vocab at 0x144a36150>,\n",
       " 'reesmogg': <gensim.models.keyedvectors.Vocab at 0x144a36190>,\n",
       " 'sell': <gensim.models.keyedvectors.Vocab at 0x144a361d0>,\n",
       " 'police': <gensim.models.keyedvectors.Vocab at 0x144a36210>,\n",
       " 'amid': <gensim.models.keyedvectors.Vocab at 0x144a36250>,\n",
       " 'surely': <gensim.models.keyedvectors.Vocab at 0x144a36290>,\n",
       " 'risk': <gensim.models.keyedvectors.Vocab at 0x144a362d0>,\n",
       " 'forward': <gensim.models.keyedvectors.Vocab at 0x144a36310>,\n",
       " 'ref': <gensim.models.keyedvectors.Vocab at 0x144a36350>,\n",
       " 'red': <gensim.models.keyedvectors.Vocab at 0x144a36390>,\n",
       " 'line': <gensim.models.keyedvectors.Vocab at 0x144a363d0>,\n",
       " 'etc': <gensim.models.keyedvectors.Vocab at 0x144a36410>,\n",
       " 'revoke': <gensim.models.keyedvectors.Vocab at 0x144a36450>,\n",
       " 'away': <gensim.models.keyedvectors.Vocab at 0x144a36490>,\n",
       " 'enough': <gensim.models.keyedvectors.Vocab at 0x144a364d0>,\n",
       " 'absolutely': <gensim.models.keyedvectors.Vocab at 0x144a36510>,\n",
       " 'almost': <gensim.models.keyedvectors.Vocab at 0x144a36550>,\n",
       " 'soon': <gensim.models.keyedvectors.Vocab at 0x144a36590>,\n",
       " 'push': <gensim.models.keyedvectors.Vocab at 0x144a365d0>,\n",
       " 'confidence': <gensim.models.keyedvectors.Vocab at 0x144a36610>,\n",
       " 'decision': <gensim.models.keyedvectors.Vocab at 0x144a36650>,\n",
       " 'fail': <gensim.models.keyedvectors.Vocab at 0x144a36690>,\n",
       " 'least': <gensim.models.keyedvectors.Vocab at 0x144a366d0>,\n",
       " 'economy': <gensim.models.keyedvectors.Vocab at 0x144a36710>,\n",
       " 'brexitpartyuk': <gensim.models.keyedvectors.Vocab at 0x144a36750>,\n",
       " 'little': <gensim.models.keyedvectors.Vocab at 0x144a36790>,\n",
       " 'eye': <gensim.models.keyedvectors.Vocab at 0x144a367d0>,\n",
       " 'history': <gensim.models.keyedvectors.Vocab at 0x144a36810>,\n",
       " 'allow': <gensim.models.keyedvectors.Vocab at 0x144a36850>,\n",
       " 'tomorrow': <gensim.models.keyedvectors.Vocab at 0x144a36890>,\n",
       " 'everything': <gensim.models.keyedvectors.Vocab at 0x144a368d0>,\n",
       " 'parliament': <gensim.models.keyedvectors.Vocab at 0x144a36910>,\n",
       " 'voted': <gensim.models.keyedvectors.Vocab at 0x144a36950>,\n",
       " 'hunt': <gensim.models.keyedvectors.Vocab at 0x144a36990>,\n",
       " 'fire': <gensim.models.keyedvectors.Vocab at 0x144a369d0>,\n",
       " 'free': <gensim.models.keyedvectors.Vocab at 0x144a36a10>,\n",
       " 'gain': <gensim.models.keyedvectors.Vocab at 0x144a36a50>,\n",
       " 'anyone': <gensim.models.keyedvectors.Vocab at 0x144a36a90>,\n",
       " 'realdonaldtrump': <gensim.models.keyedvectors.Vocab at 0x144a36ad0>,\n",
       " 'happy': <gensim.models.keyedvectors.Vocab at 0x144a36b10>,\n",
       " 'throw': <gensim.models.keyedvectors.Vocab at 0x144a36b50>,\n",
       " 'help': <gensim.models.keyedvectors.Vocab at 0x144a36b90>,\n",
       " 'uks': <gensim.models.keyedvectors.Vocab at 0x144a36bd0>,\n",
       " 'withdrawal': <gensim.models.keyedvectors.Vocab at 0x144a36c10>,\n",
       " 'stupid': <gensim.models.keyedvectors.Vocab at 0x144a36c50>,\n",
       " 'towards': <gensim.models.keyedvectors.Vocab at 0x144a36c90>,\n",
       " 'name': <gensim.models.keyedvectors.Vocab at 0x144a36cd0>,\n",
       " 'majority': <gensim.models.keyedvectors.Vocab at 0x144a36d10>,\n",
       " 'nhs': <gensim.models.keyedvectors.Vocab at 0x144a36d50>,\n",
       " 'libdem': <gensim.models.keyedvectors.Vocab at 0x144a36d90>,\n",
       " 'place': <gensim.models.keyedvectors.Vocab at 0x144a36dd0>,\n",
       " 'shut': <gensim.models.keyedvectors.Vocab at 0x144a36e10>,\n",
       " 'sound': <gensim.models.keyedvectors.Vocab at 0x144a36e50>,\n",
       " 'destroy': <gensim.models.keyedvectors.Vocab at 0x144a36e90>,\n",
       " 'ok': <gensim.models.keyedvectors.Vocab at 0x144a36ed0>,\n",
       " 'leadership': <gensim.models.keyedvectors.Vocab at 0x144a36f10>,\n",
       " 'govt': <gensim.models.keyedvectors.Vocab at 0x144a36f50>,\n",
       " 'grow': <gensim.models.keyedvectors.Vocab at 0x144a36f90>,\n",
       " 'negotiation': <gensim.models.keyedvectors.Vocab at 0x144a36fd0>,\n",
       " 'pressure': <gensim.models.keyedvectors.Vocab at 0x144a39050>,\n",
       " 'newsnight': <gensim.models.keyedvectors.Vocab at 0x144a39090>,\n",
       " 'anything': <gensim.models.keyedvectors.Vocab at 0x144a390d0>,\n",
       " 'maybe': <gensim.models.keyedvectors.Vocab at 0x144a39110>,\n",
       " 'mogg': <gensim.models.keyedvectors.Vocab at 0x144a39150>,\n",
       " 'hammond': <gensim.models.keyedvectors.Vocab at 0x144a39190>,\n",
       " 'clean': <gensim.models.keyedvectors.Vocab at 0x144a391d0>,\n",
       " 'nonsense': <gensim.models.keyedvectors.Vocab at 0x144a39210>,\n",
       " 'fool': <gensim.models.keyedvectors.Vocab at 0x144a39250>,\n",
       " 'mind': <gensim.models.keyedvectors.Vocab at 0x144a39290>,\n",
       " 'use': <gensim.models.keyedvectors.Vocab at 0x144a392d0>,\n",
       " 'discuss': <gensim.models.keyedvectors.Vocab at 0x144a39310>,\n",
       " 'read': <gensim.models.keyedvectors.Vocab at 0x144a39350>,\n",
       " 'message': <gensim.models.keyedvectors.Vocab at 0x144a39390>,\n",
       " 'economic': <gensim.models.keyedvectors.Vocab at 0x144a393d0>,\n",
       " 'refuse': <gensim.models.keyedvectors.Vocab at 0x144a39410>,\n",
       " 'win': <gensim.models.keyedvectors.Vocab at 0x144a39450>,\n",
       " 'mention': <gensim.models.keyedvectors.Vocab at 0x144a39490>,\n",
       " 'rid': <gensim.models.keyedvectors.Vocab at 0x144a394d0>,\n",
       " 'westminster': <gensim.models.keyedvectors.Vocab at 0x144a39510>,\n",
       " 'reason': <gensim.models.keyedvectors.Vocab at 0x144a39550>,\n",
       " 'remainer': <gensim.models.keyedvectors.Vocab at 0x144a39590>,\n",
       " 'donald': <gensim.models.keyedvectors.Vocab at 0x144a395d0>,\n",
       " 'europe': <gensim.models.keyedvectors.Vocab at 0x144a39610>,\n",
       " 'speak': <gensim.models.keyedvectors.Vocab at 0x144a39650>,\n",
       " 'please': <gensim.models.keyedvectors.Vocab at 0x144a39690>,\n",
       " 'poll': <gensim.models.keyedvectors.Vocab at 0x144a396d0>,\n",
       " 'supporter': <gensim.models.keyedvectors.Vocab at 0x144a39710>,\n",
       " 'waste': <gensim.models.keyedvectors.Vocab at 0x144a39750>,\n",
       " 'version': <gensim.models.keyedvectors.Vocab at 0x144a39790>,\n",
       " 'rebel': <gensim.models.keyedvectors.Vocab at 0x144a397d0>,\n",
       " 'food': <gensim.models.keyedvectors.Vocab at 0x144a39810>,\n",
       " 'hate': <gensim.models.keyedvectors.Vocab at 0x144a39850>,\n",
       " 'run': <gensim.models.keyedvectors.Vocab at 0x144a39890>,\n",
       " 'debate': <gensim.models.keyedvectors.Vocab at 0x144a398d0>,\n",
       " 'threaten': <gensim.models.keyedvectors.Vocab at 0x144a39910>,\n",
       " 'defeat': <gensim.models.keyedvectors.Vocab at 0x144a39950>,\n",
       " 'queen': <gensim.models.keyedvectors.Vocab at 0x144a39990>,\n",
       " 'remember': <gensim.models.keyedvectors.Vocab at 0x144a399d0>,\n",
       " 'dominic': <gensim.models.keyedvectors.Vocab at 0x144a39a10>,\n",
       " 'behind': <gensim.models.keyedvectors.Vocab at 0x144a39a50>,\n",
       " 'interest': <gensim.models.keyedvectors.Vocab at 0x144a39a90>,\n",
       " 'huge': <gensim.models.keyedvectors.Vocab at 0x144a39ad0>,\n",
       " 'live': <gensim.models.keyedvectors.Vocab at 0x144a39b10>,\n",
       " 'snp': <gensim.models.keyedvectors.Vocab at 0x144a39b50>,\n",
       " 'parliamentary': <gensim.models.keyedvectors.Vocab at 0x144a39b90>,\n",
       " 'bill': <gensim.models.keyedvectors.Vocab at 0x144a39bd0>,\n",
       " 'kind': <gensim.models.keyedvectors.Vocab at 0x144a39c10>,\n",
       " 'electorate': <gensim.models.keyedvectors.Vocab at 0x144a39c50>,\n",
       " 'truth': <gensim.models.keyedvectors.Vocab at 0x144a39c90>,\n",
       " 'imagine': <gensim.models.keyedvectors.Vocab at 0x144a39cd0>,\n",
       " 'replace': <gensim.models.keyedvectors.Vocab at 0x144a39d10>,\n",
       " 'border': <gensim.models.keyedvectors.Vocab at 0x144a39d50>,\n",
       " 'idea': <gensim.models.keyedvectors.Vocab at 0x144a39d90>,\n",
       " 'pull': <gensim.models.keyedvectors.Vocab at 0x144a39dd0>,\n",
       " 'hear': <gensim.models.keyedvectors.Vocab at 0x144a39e10>,\n",
       " 'tweet': <gensim.models.keyedvectors.Vocab at 0x144a39e50>,\n",
       " 'begin': <gensim.models.keyedvectors.Vocab at 0x144a39e90>,\n",
       " 'many': <gensim.models.keyedvectors.Vocab at 0x144a39ed0>,\n",
       " 'water': <gensim.models.keyedvectors.Vocab at 0x144a39f10>,\n",
       " 'control': <gensim.models.keyedvectors.Vocab at 0x144a39f50>,\n",
       " 'poor': <gensim.models.keyedvectors.Vocab at 0x144a39f90>,\n",
       " 'view': <gensim.models.keyedvectors.Vocab at 0x144a39fd0>,\n",
       " 'local': <gensim.models.keyedvectors.Vocab at 0x144a3c050>,\n",
       " 'ready': <gensim.models.keyedvectors.Vocab at 0x144a3c090>,\n",
       " 'dear': <gensim.models.keyedvectors.Vocab at 0x144a3c0d0>,\n",
       " 'jacobreesmogg': <gensim.models.keyedvectors.Vocab at 0x144a3c110>,\n",
       " 'mark': <gensim.models.keyedvectors.Vocab at 0x144a3c150>,\n",
       " 'past': <gensim.models.keyedvectors.Vocab at 0x144a3c190>,\n",
       " 'simple': <gensim.models.keyedvectors.Vocab at 0x144a3c1d0>,\n",
       " 'completely': <gensim.models.keyedvectors.Vocab at 0x144a3c210>,\n",
       " 'article': <gensim.models.keyedvectors.Vocab at 0x144a3c250>,\n",
       " 'racist': <gensim.models.keyedvectors.Vocab at 0x144a3c290>,\n",
       " 'guardian': <gensim.models.keyedvectors.Vocab at 0x144a3c2d0>,\n",
       " 'split': <gensim.models.keyedvectors.Vocab at 0x144a3c310>,\n",
       " 'however': <gensim.models.keyedvectors.Vocab at 0x144a3c350>,\n",
       " 'seriously': <gensim.models.keyedvectors.Vocab at 0x144a3c390>,\n",
       " 'cut': <gensim.models.keyedvectors.Vocab at 0x144a3c3d0>,\n",
       " 'house': <gensim.models.keyedvectors.Vocab at 0x144a3c410>,\n",
       " 'part': <gensim.models.keyedvectors.Vocab at 0x144a3c450>,\n",
       " 'woman': <gensim.models.keyedvectors.Vocab at 0x144a3c490>,\n",
       " 'due': <gensim.models.keyedvectors.Vocab at 0x144a3c4d0>,\n",
       " 'include': <gensim.models.keyedvectors.Vocab at 0x144a3c510>,\n",
       " 'best': <gensim.models.keyedvectors.Vocab at 0x144a3c550>,\n",
       " 'course': <gensim.models.keyedvectors.Vocab at 0x144a3c590>,\n",
       " 'charge': <gensim.models.keyedvectors.Vocab at 0x144a3c5d0>,\n",
       " 'early': <gensim.models.keyedvectors.Vocab at 0x144a3c610>,\n",
       " 'who': <gensim.models.keyedvectors.Vocab at 0x144a3c650>,\n",
       " 'forget': <gensim.models.keyedvectors.Vocab at 0x144a3c690>,\n",
       " 'austerity': <gensim.models.keyedvectors.Vocab at 0x144a3c6d0>,\n",
       " 'shame': <gensim.models.keyedvectors.Vocab at 0x144a3c710>,\n",
       " 'order': <gensim.models.keyedvectors.Vocab at 0x144a3c750>,\n",
       " 'finish': <gensim.models.keyedvectors.Vocab at 0x144a3c790>,\n",
       " 'nobody': <gensim.models.keyedvectors.Vocab at 0x144a3c7d0>,\n",
       " 'oppose': <gensim.models.keyedvectors.Vocab at 0x144a3c810>,\n",
       " 'prevent': <gensim.models.keyedvectors.Vocab at 0x144a3c850>,\n",
       " 'different': <gensim.models.keyedvectors.Vocab at 0x144a3c890>,\n",
       " 'mandate': <gensim.models.keyedvectors.Vocab at 0x144a3c8d0>,\n",
       " 'john': <gensim.models.keyedvectors.Vocab at 0x144a3c910>,\n",
       " 'sense': <gensim.models.keyedvectors.Vocab at 0x144a3c950>,\n",
       " 'boriss': <gensim.models.keyedvectors.Vocab at 0x144a3c990>,\n",
       " 'choice': <gensim.models.keyedvectors.Vocab at 0x144a3c9d0>,\n",
       " 'result': <gensim.models.keyedvectors.Vocab at 0x144a3ca10>,\n",
       " 'hell': <gensim.models.keyedvectors.Vocab at 0x144a3ca50>,\n",
       " 'bid': <gensim.models.keyedvectors.Vocab at 0x144a3ca90>,\n",
       " 'position': <gensim.models.keyedvectors.Vocab at 0x144a3cad0>,\n",
       " 'night': <gensim.models.keyedvectors.Vocab at 0x144a3cb10>,\n",
       " 'plot': <gensim.models.keyedvectors.Vocab at 0x144a3cb50>,\n",
       " 'event': <gensim.models.keyedvectors.Vocab at 0x144a3cb90>,\n",
       " 'report': <gensim.models.keyedvectors.Vocab at 0x144a3cbd0>,\n",
       " 'b': <gensim.models.keyedvectors.Vocab at 0x144a3cc10>,\n",
       " 'wake': <gensim.models.keyedvectors.Vocab at 0x144a3cc50>,\n",
       " 'project': <gensim.models.keyedvectors.Vocab at 0x144a3cc90>,\n",
       " 'sort': <gensim.models.keyedvectors.Vocab at 0x144a3ccd0>,\n",
       " 'bit': <gensim.models.keyedvectors.Vocab at 0x144a3cd10>,\n",
       " 'mother': <gensim.models.keyedvectors.Vocab at 0x144a3cd50>,\n",
       " 'home': <gensim.models.keyedvectors.Vocab at 0x144a3cd90>,\n",
       " 'worry': <gensim.models.keyedvectors.Vocab at 0x144a3cdd0>,\n",
       " 'medium': <gensim.models.keyedvectors.Vocab at 0x144a3ce10>,\n",
       " 'save': <gensim.models.keyedvectors.Vocab at 0x144a3ce50>,\n",
       " 'sorry': <gensim.models.keyedvectors.Vocab at 0x144a3ce90>,\n",
       " 'comment': <gensim.models.keyedvectors.Vocab at 0x144a3ced0>,\n",
       " 'answer': <gensim.models.keyedvectors.Vocab at 0x144a3cf10>,\n",
       " 'die': <gensim.models.keyedvectors.Vocab at 0x144a3cf50>,\n",
       " 'crisis': <gensim.models.keyedvectors.Vocab at 0x144a3cf90>,\n",
       " 'team': <gensim.models.keyedvectors.Vocab at 0x144a3cfd0>,\n",
       " 'suffer': <gensim.models.keyedvectors.Vocab at 0x144a40050>,\n",
       " 'understand': <gensim.models.keyedvectors.Vocab at 0x144a40090>,\n",
       " 'share': <gensim.models.keyedvectors.Vocab at 0x144a400d0>,\n",
       " 'friend': <gensim.models.keyedvectors.Vocab at 0x144a40110>,\n",
       " 'check': <gensim.models.keyedvectors.Vocab at 0x144a40150>,\n",
       " 'video': <gensim.models.keyedvectors.Vocab at 0x144a40190>,\n",
       " 'family': <gensim.models.keyedvectors.Vocab at 0x144a401d0>,\n",
       " 'though': <gensim.models.keyedvectors.Vocab at 0x144a40210>,\n",
       " 'especially': <gensim.models.keyedvectors.Vocab at 0x144a40250>,\n",
       " 'table': <gensim.models.keyedvectors.Vocab at 0x144a40290>,\n",
       " 'simply': <gensim.models.keyedvectors.Vocab at 0x144a402d0>,\n",
       " 'ditch': <gensim.models.keyedvectors.Vocab at 0x144a40310>,\n",
       " 'choose': <gensim.models.keyedvectors.Vocab at 0x144a40350>,\n",
       " 'listen': <gensim.models.keyedvectors.Vocab at 0x144a40390>,\n",
       " 'court': <gensim.models.keyedvectors.Vocab at 0x144a403d0>,\n",
       " 'letter': <gensim.models.keyedvectors.Vocab at 0x144a40410>,\n",
       " 'buy': <gensim.models.keyedvectors.Vocab at 0x144a40450>,\n",
       " 'process': <gensim.models.keyedvectors.Vocab at 0x144a40490>,\n",
       " 'fucking': <gensim.models.keyedvectors.Vocab at 0x144a404d0>,\n",
       " 'half': <gensim.models.keyedvectors.Vocab at 0x144a40510>,\n",
       " 'god': <gensim.models.keyedvectors.Vocab at 0x144a40550>,\n",
       " 'able': <gensim.models.keyedvectors.Vocab at 0x144a40590>,\n",
       " 'ago': <gensim.models.keyedvectors.Vocab at 0x144a405d0>,\n",
       " 'blow': <gensim.models.keyedvectors.Vocab at 0x144a40610>,\n",
       " 'find': <gensim.models.keyedvectors.Vocab at 0x144a40650>,\n",
       " 'walk': <gensim.models.keyedvectors.Vocab at 0x144a40690>,\n",
       " 'totally': <gensim.models.keyedvectors.Vocab at 0x144a406d0>,\n",
       " 'social': <gensim.models.keyedvectors.Vocab at 0x144a40710>,\n",
       " 'probably': <gensim.models.keyedvectors.Vocab at 0x144a40750>,\n",
       " 'deserve': <gensim.models.keyedvectors.Vocab at 0x144a40790>,\n",
       " 'story': <gensim.models.keyedvectors.Vocab at 0x144a407d0>,\n",
       " 'whole': <gensim.models.keyedvectors.Vocab at 0x144a40810>,\n",
       " 'miss': <gensim.models.keyedvectors.Vocab at 0x144a40850>,\n",
       " 'remove': <gensim.models.keyedvectors.Vocab at 0x144a40890>,\n",
       " 'list': <gensim.models.keyedvectors.Vocab at 0x144a408d0>,\n",
       " 'add': <gensim.models.keyedvectors.Vocab at 0x144a40910>,\n",
       " 'second': <gensim.models.keyedvectors.Vocab at 0x144a40950>,\n",
       " 'date': <gensim.models.keyedvectors.Vocab at 0x144a40990>,\n",
       " 'war': <gensim.models.keyedvectors.Vocab at 0x144a409d0>,\n",
       " 'class': <gensim.models.keyedvectors.Vocab at 0x144a40a10>,\n",
       " 'stick': <gensim.models.keyedvectors.Vocab at 0x144a40a50>,\n",
       " 'ignore': <gensim.models.keyedvectors.Vocab at 0x144a40a90>,\n",
       " 'company': <gensim.models.keyedvectors.Vocab at 0x144a40ad0>,\n",
       " 'shit': <gensim.models.keyedvectors.Vocab at 0x144a40b10>,\n",
       " 'voting': <gensim.models.keyedvectors.Vocab at 0x144a40b50>,\n",
       " 'citizen': <gensim.models.keyedvectors.Vocab at 0x144a40b90>,\n",
       " 'bloody': <gensim.models.keyedvectors.Vocab at 0x144a40bd0>,\n",
       " 'honour': <gensim.models.keyedvectors.Vocab at 0x144a40c10>,\n",
       " 'speech': <gensim.models.keyedvectors.Vocab at 0x144a40c50>,\n",
       " 'michael': <gensim.models.keyedvectors.Vocab at 0x144a40c90>,\n",
       " 'common': <gensim.models.keyedvectors.Vocab at 0x144a40cd0>,\n",
       " 'attack': <gensim.models.keyedvectors.Vocab at 0x144a40d10>,\n",
       " 'times': <gensim.models.keyedvectors.Vocab at 0x144a40d50>,\n",
       " 'mays': <gensim.models.keyedvectors.Vocab at 0x144a40d90>,\n",
       " 'brino': <gensim.models.keyedvectors.Vocab at 0x144a40dd0>,\n",
       " 'nee': <gensim.models.keyedvectors.Vocab at 0x144a40e10>,\n",
       " 'serve': <gensim.models.keyedvectors.Vocab at 0x144a40e50>,\n",
       " 'moment': <gensim.models.keyedvectors.Vocab at 0x144a40e90>,\n",
       " 'agenda': <gensim.models.keyedvectors.Vocab at 0x144a40ed0>,\n",
       " 'strong': <gensim.models.keyedvectors.Vocab at 0x144a40f10>,\n",
       " 'return': <gensim.models.keyedvectors.Vocab at 0x144a40f50>,\n",
       " 'proper': <gensim.models.keyedvectors.Vocab at 0x144a40f90>,\n",
       " 'ensure': <gensim.models.keyedvectors.Vocab at 0x144a40fd0>,\n",
       " 'march': <gensim.models.keyedvectors.Vocab at 0x144a44050>,\n",
       " 'lib': <gensim.models.keyedvectors.Vocab at 0x144a44090>,\n",
       " 'dem': <gensim.models.keyedvectors.Vocab at 0x144a440d0>,\n",
       " 'stage': <gensim.models.keyedvectors.Vocab at 0x144a44110>,\n",
       " 'major': <gensim.models.keyedvectors.Vocab at 0x144a44150>,\n",
       " 'manifesto': <gensim.models.keyedvectors.Vocab at 0x144a44190>,\n",
       " 'accuse': <gensim.models.keyedvectors.Vocab at 0x144a441d0>,\n",
       " 'human': <gensim.models.keyedvectors.Vocab at 0x144a44210>,\n",
       " 'betray': <gensim.models.keyedvectors.Vocab at 0x144a44250>,\n",
       " 'explain': <gensim.models.keyedvectors.Vocab at 0x144a44290>,\n",
       " 'front': <gensim.models.keyedvectors.Vocab at 0x144a442d0>,\n",
       " 'secretary': <gensim.models.keyedvectors.Vocab at 0x144a44310>,\n",
       " 'total': <gensim.models.keyedvectors.Vocab at 0x144a44350>,\n",
       " 'lbc': <gensim.models.keyedvectors.Vocab at 0x144a44390>,\n",
       " 'soft': <gensim.models.keyedvectors.Vocab at 0x144a443d0>,\n",
       " 'laugh': <gensim.models.keyedvectors.Vocab at 0x144a44410>,\n",
       " 'option': <gensim.models.keyedvectors.Vocab at 0x144a44450>,\n",
       " 'bercow': <gensim.models.keyedvectors.Vocab at 0x144a44490>,\n",
       " 'surrender': <gensim.models.keyedvectors.Vocab at 0x144a444d0>,\n",
       " 'ni': <gensim.models.keyedvectors.Vocab at 0x144a44510>,\n",
       " 'admit': <gensim.models.keyedvectors.Vocab at 0x144a44550>,\n",
       " 'key': <gensim.models.keyedvectors.Vocab at 0x144a44590>,\n",
       " 'chaos': <gensim.models.keyedvectors.Vocab at 0x144a445d0>,\n",
       " 'button': <gensim.models.keyedvectors.Vocab at 0x144a44610>,\n",
       " 'conservatives': <gensim.models.keyedvectors.Vocab at 0x144a44650>,\n",
       " 'easy': <gensim.models.keyedvectors.Vocab at 0x144a44690>,\n",
       " 'reject': <gensim.models.keyedvectors.Vocab at 0x144a446d0>,\n",
       " 'friday': <gensim.models.keyedvectors.Vocab at 0x144a44710>,\n",
       " 'here': <gensim.models.keyedvectors.Vocab at 0x144a44750>,\n",
       " 'corbyns': <gensim.models.keyedvectors.Vocab at 0x144a44790>,\n",
       " 'reach': <gensim.models.keyedvectors.Vocab at 0x144a447d0>,\n",
       " 'raab': <gensim.models.keyedvectors.Vocab at 0x144a44810>,\n",
       " 'rich': <gensim.models.keyedvectors.Vocab at 0x144a44850>,\n",
       " 'dismiss': <gensim.models.keyedvectors.Vocab at 0x144a44890>,\n",
       " 'cancel': <gensim.models.keyedvectors.Vocab at 0x144a448d0>,\n",
       " 'tax': <gensim.models.keyedvectors.Vocab at 0x144a44910>,\n",
       " 'reveal': <gensim.models.keyedvectors.Vocab at 0x144a44950>,\n",
       " 'pro': <gensim.models.keyedvectors.Vocab at 0x144a44990>,\n",
       " 'jacob': <gensim.models.keyedvectors.Vocab at 0x144a449d0>,\n",
       " 'cartoon': <gensim.models.keyedvectors.Vocab at 0x144a44a10>,\n",
       " 'negotiating': <gensim.models.keyedvectors.Vocab at 0x144a44a50>,\n",
       " 'achieve': <gensim.models.keyedvectors.Vocab at 0x144a44a90>,\n",
       " 'oct': <gensim.models.keyedvectors.Vocab at 0x144a44ad0>,\n",
       " 'proposal': <gensim.models.keyedvectors.Vocab at 0x144a44b10>,\n",
       " 'backboris': <gensim.models.keyedvectors.Vocab at 0x144a44b50>,\n",
       " 'prorogue': <gensim.models.keyedvectors.Vocab at 0x144a44b90>,\n",
       " 'meaningful': <gensim.models.keyedvectors.Vocab at 0x144a44bd0>,\n",
       " 'suspend': <gensim.models.keyedvectors.Vocab at 0x144a44c10>,\n",
       " 'brexitparty': <gensim.models.keyedvectors.Vocab at 0x144a44c50>,\n",
       " 'lawmaker': <gensim.models.keyedvectors.Vocab at 0x144a44c90>,\n",
       " 'brexitbetrayal': <gensim.models.keyedvectors.Vocab at 0x144a44cd0>,\n",
       " 'crossparty': <gensim.models.keyedvectors.Vocab at 0x144a44d10>,\n",
       " 'bbcqt': <gensim.models.keyedvectors.Vocab at 0x144a44d50>,\n",
       " 'alliance': <gensim.models.keyedvectors.Vocab at 0x144a44d90>,\n",
       " 'panic': <gensim.models.keyedvectors.Vocab at 0x144a44dd0>}"
      ]
     },
     "execution_count": 16,
     "metadata": {},
     "output_type": "execute_result"
    }
   ],
   "source": [
    "w2v_model.wv.vocab"
   ]
  },
  {
   "cell_type": "markdown",
   "metadata": {},
   "source": [
    "### Checking similarities"
   ]
  },
  {
   "cell_type": "code",
   "execution_count": 17,
   "metadata": {},
   "outputs": [
    {
     "data": {
      "text/plain": [
       "[('fail', 0.5419201850891113),\n",
       " ('unless', 0.48581641912460327),\n",
       " ('avoid', 0.45247381925582886),\n",
       " ('threat', 0.45206218957901),\n",
       " ('back', 0.44773560762405396),\n",
       " ('order', 0.4351575970649719),\n",
       " ('dup', 0.4351205825805664),\n",
       " ('rule', 0.43298476934432983),\n",
       " ('civil', 0.43214619159698486),\n",
       " ('meaningful', 0.431277871131897)]"
      ]
     },
     "execution_count": 17,
     "metadata": {},
     "output_type": "execute_result"
    }
   ],
   "source": [
    "w2v_model.wv.most_similar(positive=['brexit'])"
   ]
  },
  {
   "cell_type": "code",
   "execution_count": 18,
   "metadata": {},
   "outputs": [
    {
     "data": {
      "text/plain": [
       "[('gove', 0.6558703184127808),\n",
       " ('mr', 0.6528462171554565),\n",
       " ('farage', 0.6085476875305176),\n",
       " ('admit', 0.5926600098609924),\n",
       " ('cameron', 0.5474148392677307),\n",
       " ('reesmogg', 0.5444197654724121),\n",
       " ('mogg', 0.5362565517425537),\n",
       " ('michael', 0.5333608388900757),\n",
       " ('raab', 0.5055277943611145),\n",
       " ('plan', 0.5052838325500488)]"
      ]
     },
     "execution_count": 18,
     "metadata": {},
     "output_type": "execute_result"
    }
   ],
   "source": [
    "w2v_model.wv.most_similar(positive=['boris'])"
   ]
  },
  {
   "cell_type": "code",
   "execution_count": 19,
   "metadata": {},
   "outputs": [
    {
     "data": {
      "text/plain": [
       "[('consider', 0.5091501474380493),\n",
       " ('speech', 0.475283682346344),\n",
       " ('tomorrow', 0.4736223518848419),\n",
       " ('talk', 0.45646199584007263),\n",
       " ('cameron', 0.4460292160511017),\n",
       " ('dismiss', 0.4328914284706116),\n",
       " ('quit', 0.43278059363365173),\n",
       " ('face', 0.4327135682106018),\n",
       " ('delay', 0.4257791042327881),\n",
       " ('strategy', 0.42244046926498413)]"
      ]
     },
     "execution_count": 19,
     "metadata": {},
     "output_type": "execute_result"
    }
   ],
   "source": [
    "w2v_model.wv.most_similar(positive=['theresa'])"
   ]
  },
  {
   "cell_type": "code",
   "execution_count": 20,
   "metadata": {},
   "outputs": [
    {
     "data": {
      "text/plain": [
       "0.02133257"
      ]
     },
     "execution_count": 20,
     "metadata": {},
     "output_type": "execute_result"
    }
   ],
   "source": [
    "w2v_model.wv.similarity('brexit','theresa')"
   ]
  },
  {
   "cell_type": "code",
   "execution_count": 21,
   "metadata": {},
   "outputs": [
    {
     "data": {
      "text/plain": [
       "0.21456197"
      ]
     },
     "execution_count": 21,
     "metadata": {},
     "output_type": "execute_result"
    }
   ],
   "source": [
    "w2v_model.wv.similarity('brexit','boris')   "
   ]
  },
  {
   "cell_type": "markdown",
   "metadata": {},
   "source": [
    "### Checking tweets from March only"
   ]
  },
  {
   "cell_type": "code",
   "execution_count": 38,
   "metadata": {},
   "outputs": [],
   "source": [
    "w2v_model_march = Word2Vec(min_count=100,\n",
    "                     window=3,\n",
    "                     size=200,\n",
    "                     workers=4)"
   ]
  },
  {
   "cell_type": "code",
   "execution_count": 39,
   "metadata": {},
   "outputs": [],
   "source": [
    "#building the vocabulary (from the tweets) for the model\n",
    "w2v_model_march.build_vocab(words_spacy_march)"
   ]
  },
  {
   "cell_type": "code",
   "execution_count": 40,
   "metadata": {},
   "outputs": [
    {
     "name": "stderr",
     "output_type": "stream",
     "text": [
      "/Users/ironhack/opt/anaconda3/lib/python3.7/site-packages/ipykernel_launcher.py:1: DeprecationWarning: Call to deprecated `iter` (Attribute will be removed in 4.0.0, use self.epochs instead).\n",
      "  \"\"\"Entry point for launching an IPython kernel.\n"
     ]
    }
   ],
   "source": [
    "w2v_model_march.train(words_spacy_march, total_examples=w2v_model.corpus_count, epochs=w2v_model.iter)\n",
    "w2v_model_march.init_sims(replace=True)"
   ]
  },
  {
   "cell_type": "code",
   "execution_count": 45,
   "metadata": {},
   "outputs": [
    {
     "data": {
      "text/plain": [
       "[('mps', 0.9997859597206116),\n",
       " ('parliament', 0.9997690320014954),\n",
       " ('mays', 0.9997532367706299),\n",
       " ('time', 0.9997357130050659),\n",
       " ('bad', 0.9997342824935913),\n",
       " ('may', 0.9997243881225586),\n",
       " ('deal', 0.9997230768203735),\n",
       " ('make', 0.9997215270996094),\n",
       " ('say', 0.9997192621231079),\n",
       " ('let', 0.9997119903564453)]"
      ]
     },
     "execution_count": 45,
     "metadata": {},
     "output_type": "execute_result"
    }
   ],
   "source": [
    "w2v_model_march.wv.most_similar(positive=['brexit'])"
   ]
  },
  {
   "cell_type": "code",
   "execution_count": 43,
   "metadata": {},
   "outputs": [
    {
     "data": {
      "text/plain": [
       "[('deal', 0.9997092485427856),\n",
       " ('news', 0.9996671080589294),\n",
       " ('day', 0.9996660947799683),\n",
       " ('british', 0.9996592998504639),\n",
       " ('vote', 0.9996589422225952),\n",
       " ('eu', 0.999637246131897),\n",
       " ('theresamay', 0.9996336102485657),\n",
       " ('reject', 0.9996315240859985),\n",
       " ('’s', 0.9996270537376404),\n",
       " ('minister', 0.999621570110321)]"
      ]
     },
     "execution_count": 43,
     "metadata": {},
     "output_type": "execute_result"
    }
   ],
   "source": [
    "w2v_model_march.wv.most_similar(positive=['theresa'])"
   ]
  },
  {
   "cell_type": "code",
   "execution_count": 44,
   "metadata": {},
   "outputs": [
    {
     "data": {
      "text/plain": [
       "[('see', 0.9998209476470947),\n",
       " ('lie', 0.9998131394386292),\n",
       " ('theresamay', 0.9998065829277039),\n",
       " ('country', 0.9998041987419128),\n",
       " ('pm', 0.9998040199279785),\n",
       " ('have', 0.9998033046722412),\n",
       " ('s', 0.9998032450675964),\n",
       " ('take', 0.9998018741607666),\n",
       " ('could', 0.999801516532898),\n",
       " ('party', 0.9998012781143188)]"
      ]
     },
     "execution_count": 44,
     "metadata": {},
     "output_type": "execute_result"
    }
   ],
   "source": [
    "w2v_model_march.wv.most_similar(positive=['boris'])"
   ]
  },
  {
   "cell_type": "markdown",
   "metadata": {},
   "source": [
    "### Checking tweets from July only"
   ]
  },
  {
   "cell_type": "code",
   "execution_count": 46,
   "metadata": {
    "scrolled": true
   },
   "outputs": [
    {
     "name": "stderr",
     "output_type": "stream",
     "text": [
      "/Users/ironhack/opt/anaconda3/lib/python3.7/site-packages/ipykernel_launcher.py:6: DeprecationWarning: Call to deprecated `iter` (Attribute will be removed in 4.0.0, use self.epochs instead).\n",
      "  \n"
     ]
    }
   ],
   "source": [
    "w2v_model_july = Word2Vec(min_count=100,\n",
    "                     window=3,\n",
    "                     size=200,\n",
    "                     workers=4)\n",
    "w2v_model_july.build_vocab(words_spacy_july)\n",
    "w2v_model_july.train(words_spacy_july, total_examples=w2v_model.corpus_count, epochs=w2v_model.iter)\n",
    "w2v_model_july.init_sims(replace=True)"
   ]
  },
  {
   "cell_type": "code",
   "execution_count": 47,
   "metadata": {},
   "outputs": [
    {
     "data": {
      "text/plain": [
       "[('’', 0.9998250007629395),\n",
       " ('deliver', 0.9998205900192261),\n",
       " ('one', 0.9998185634613037),\n",
       " ('vote', 0.9998182058334351),\n",
       " ('country', 0.9998180866241455),\n",
       " ('think', 0.9998146295547485),\n",
       " ('deal', 0.9998130798339844),\n",
       " ('boris', 0.9998112320899963),\n",
       " ('people', 0.9998095631599426),\n",
       " ('say', 0.9998061656951904)]"
      ]
     },
     "execution_count": 47,
     "metadata": {},
     "output_type": "execute_result"
    }
   ],
   "source": [
    "w2v_model_july.wv.most_similar(positive=['brexit'])"
   ]
  },
  {
   "cell_type": "code",
   "execution_count": 48,
   "metadata": {},
   "outputs": [
    {
     "data": {
      "text/plain": [
       "[('say', 0.9997798204421997),\n",
       " ('one', 0.9997712969779968),\n",
       " ('vote', 0.9997705221176147),\n",
       " ('deal', 0.9997687339782715),\n",
       " ('want', 0.9997603297233582),\n",
       " ('brexit', 0.9997565746307373),\n",
       " ('uk', 0.9997563362121582),\n",
       " ('s', 0.9997546672821045),\n",
       " ('tory', 0.9997535943984985),\n",
       " ('like', 0.9997485876083374)]"
      ]
     },
     "execution_count": 48,
     "metadata": {},
     "output_type": "execute_result"
    }
   ],
   "source": [
    "w2v_model_july.wv.most_similar(positive=['theresa'])"
   ]
  },
  {
   "cell_type": "code",
   "execution_count": 49,
   "metadata": {},
   "outputs": [
    {
     "data": {
      "text/plain": [
       "[('say', 0.9998167753219604),\n",
       " ('take', 0.9998123049736023),\n",
       " ('brexit', 0.9998112320899963),\n",
       " ('deal', 0.9998093843460083),\n",
       " ('borisjohnson', 0.999808669090271),\n",
       " ('uk', 0.9998076558113098),\n",
       " ('not', 0.9998043775558472),\n",
       " ('new', 0.9998043179512024),\n",
       " ('johnson', 0.9998029470443726),\n",
       " ('vote', 0.9998015761375427)]"
      ]
     },
     "execution_count": 49,
     "metadata": {},
     "output_type": "execute_result"
    }
   ],
   "source": [
    "w2v_model_july.wv.most_similar(positive=['boris'])"
   ]
  },
  {
   "cell_type": "markdown",
   "metadata": {},
   "source": [
    "### Checking tweets from Nov only"
   ]
  },
  {
   "cell_type": "code",
   "execution_count": 50,
   "metadata": {},
   "outputs": [
    {
     "name": "stderr",
     "output_type": "stream",
     "text": [
      "/Users/ironhack/opt/anaconda3/lib/python3.7/site-packages/ipykernel_launcher.py:6: DeprecationWarning: Call to deprecated `iter` (Attribute will be removed in 4.0.0, use self.epochs instead).\n",
      "  \n"
     ]
    }
   ],
   "source": [
    "w2v_model_nov = Word2Vec(min_count=100,\n",
    "                     window=3,\n",
    "                     size=200,\n",
    "                     workers=4)\n",
    "w2v_model_nov.build_vocab(words_spacy_nov)\n",
    "w2v_model_nov.train(words_spacy_nov, total_examples=w2v_model.corpus_count, epochs=w2v_model.iter)\n",
    "w2v_model_nov.init_sims(replace=True)"
   ]
  },
  {
   "cell_type": "code",
   "execution_count": 63,
   "metadata": {},
   "outputs": [
    {
     "data": {
      "text/plain": [
       "[('think', 0.999811589717865),\n",
       " ('see', 0.99980628490448),\n",
       " ('people', 0.999796450138092),\n",
       " ('let', 0.9997963905334473),\n",
       " ('like', 0.9997951984405518),\n",
       " ('’', 0.9997889995574951),\n",
       " ('one', 0.9997885823249817),\n",
       " ('amp', 0.9997877478599548),\n",
       " ('farage', 0.9997845888137817),\n",
       " ('know', 0.9997830986976624)]"
      ]
     },
     "execution_count": 63,
     "metadata": {},
     "output_type": "execute_result"
    }
   ],
   "source": [
    "w2v_model_nov.wv.most_similar(positive=['brexit'])"
   ]
  },
  {
   "cell_type": "code",
   "execution_count": 61,
   "metadata": {},
   "outputs": [
    {
     "data": {
      "text/plain": [
       "[('deal', 0.999760627746582),\n",
       " ('say', 0.9997581839561462),\n",
       " ('know', 0.9997458457946777),\n",
       " ('one', 0.9997445344924927),\n",
       " ('even', 0.9997438192367554),\n",
       " ('year', 0.9997392296791077),\n",
       " ('may', 0.9997390508651733),\n",
       " ('win', 0.9997342824935913),\n",
       " ('like', 0.999734103679657),\n",
       " ('amp', 0.9997335076332092)]"
      ]
     },
     "execution_count": 61,
     "metadata": {},
     "output_type": "execute_result"
    }
   ],
   "source": [
    "w2v_model_nov.wv.most_similar(positive=['theresa'])"
   ]
  },
  {
   "cell_type": "code",
   "execution_count": 62,
   "metadata": {},
   "outputs": [
    {
     "data": {
      "text/plain": [
       "[('year', 0.999823272228241),\n",
       " ('borisjohnson', 0.9998136758804321),\n",
       " ('see', 0.9998065233230591),\n",
       " ('take', 0.9997996091842651),\n",
       " ('back', 0.9997893571853638),\n",
       " ('lie', 0.999788761138916),\n",
       " ('deal', 0.9997880458831787),\n",
       " ('one', 0.9997873902320862),\n",
       " ('remain', 0.9997850656509399),\n",
       " ('farage', 0.9997845888137817)]"
      ]
     },
     "execution_count": 62,
     "metadata": {},
     "output_type": "execute_result"
    }
   ],
   "source": [
    "w2v_model_nov.wv.most_similar(positive=['boris'])"
   ]
  },
  {
   "cell_type": "markdown",
   "metadata": {},
   "source": [
    "## TOPIC VISUALIZATION"
   ]
  },
  {
   "cell_type": "markdown",
   "metadata": {},
   "source": [
    "### t-SNE with Spacy"
   ]
  },
  {
   "cell_type": "code",
   "execution_count": 64,
   "metadata": {},
   "outputs": [],
   "source": [
    "def tsne_plot(model, perplexity=10, n_iter=1000):\n",
    "    \"Create TSNE model and plot it\"\n",
    "    labels = []\n",
    "    tokens = []\n",
    "\n",
    "    i = 0\n",
    "    for word in sorted(model.wv.vocab.keys(), reverse=True):\n",
    "        tokens.append(model[word])\n",
    "        labels.append(word)\n",
    "        i+=1\n",
    "        if i >= 499:\n",
    "            break\n",
    "        \n",
    "    tsne_model = TSNE(n_components=2, init='pca', random_state=0, perplexity=perplexity, n_iter=n_iter)\n",
    "    new_values = tsne_model.fit_transform(tokens)\n",
    "\n",
    "    x = []\n",
    "    y = []\n",
    "    for value in new_values:\n",
    "        x.append(value[0])\n",
    "        y.append(value[1])\n",
    "    x_min, x_max = np.min(new_values, 0), np.max(new_values, 0)\n",
    "    X = (new_values - x_min) / (x_max - x_min)\n",
    "    shown_images = np.array([[1., 1.]])  # just something big\n",
    "    \n",
    "    plt.figure(figsize=(20, 20)) \n",
    "    for i in range(len(x)): \n",
    "        dist = np.sum((X[i] - shown_images) ** 2, 1)\n",
    "        '''if np.min(dist) < 1e-3:\n",
    "            # don't show points that are too close\n",
    "            continue'''\n",
    "        plt.scatter(x[i],y[i])\n",
    "        plt.annotate(labels[i],xy=(x[i], y[i]),xytext=(3, 2),textcoords='offset points',ha='right',va='bottom')\n",
    "    plt.show()"
   ]
  },
  {
   "cell_type": "code",
   "execution_count": null,
   "metadata": {},
   "outputs": [],
   "source": [
    "tsne_plot(w2v_model,40,5000)"
   ]
  },
  {
   "cell_type": "code",
   "execution_count": 65,
   "metadata": {},
   "outputs": [
    {
     "name": "stderr",
     "output_type": "stream",
     "text": [
      "/Users/ironhack/opt/anaconda3/lib/python3.7/site-packages/ipykernel_launcher.py:8: DeprecationWarning: Call to deprecated `__getitem__` (Method will be removed in 4.0.0, use self.wv.__getitem__() instead).\n",
      "  \n"
     ]
    },
    {
     "data": {
      "image/png": "[encoded data removed]",
      "text/plain": [
       "<Figure size 1440x1440 with 1 Axes>"
      ]
     },
     "metadata": {},
     "output_type": "display_data"
    }
   ],
   "source": [
    "tsne_plot(w2v_model_march,40,5000)"
   ]
  },
  {
   "cell_type": "markdown",
   "metadata": {},
   "source": [
    "#### Getting embeddings into a matrix"
   ]
  },
  {
   "cell_type": "code",
   "execution_count": null,
   "metadata": {},
   "outputs": [],
   "source": [
    "embedding_size=100\n",
    "embeddings = np.zeros((len(w2v_model.wv.index2word), embedding_size))\n",
    "for i in range(0, len(w2v_model.wv.index2word)):\n",
    "    w = w2v_model.wv.index2word[i]\n",
    "    embeddings[i] = w2v_model.wv[w]"
   ]
  },
  {
   "cell_type": "code",
   "execution_count": null,
   "metadata": {},
   "outputs": [],
   "source": [
    "svd = TruncatedSVD(n_components=2, algorithm='randomized', n_iter=500, random_state=101)\n",
    "embeddings_2d_projection = svd.fit_transform(embeddings)"
   ]
  },
  {
   "cell_type": "markdown",
   "metadata": {},
   "source": [
    "#### March"
   ]
  },
  {
   "cell_type": "code",
   "execution_count": 89,
   "metadata": {},
   "outputs": [],
   "source": [
    "embedding_size=200\n",
    "embeddings_march = np.zeros((len(w2v_model_march.wv.index2word), embedding_size))\n",
    "for i in range(0, len(w2v_model_march.wv.index2word)):\n",
    "    w = w2v_model_march.wv.index2word[i]\n",
    "    embeddings_march[i] = w2v_model_march.wv[w]\n",
    "svd = TruncatedSVD(n_components=2, algorithm='randomized', n_iter=500, random_state=101)\n",
    "embeddings_2d_projection_march = svd.fit_transform(embeddings_march)"
   ]
  },
  {
   "cell_type": "markdown",
   "metadata": {},
   "source": [
    "#### July"
   ]
  },
  {
   "cell_type": "code",
   "execution_count": 90,
   "metadata": {},
   "outputs": [],
   "source": [
    "embedding_size=200\n",
    "embeddings_july = np.zeros((len(w2v_model_july.wv.index2word), embedding_size))\n",
    "for i in range(0, len(w2v_model_july.wv.index2word)):\n",
    "    w = w2v_model_july.wv.index2word[i]\n",
    "    embeddings_july[i] = w2v_model_july.wv[w]\n",
    "svd = TruncatedSVD(n_components=2, algorithm='randomized', n_iter=500, random_state=101)\n",
    "embeddings_2d_projection_july = svd.fit_transform(embeddings_july)"
   ]
  },
  {
   "cell_type": "markdown",
   "metadata": {},
   "source": [
    "#### Nov"
   ]
  },
  {
   "cell_type": "code",
   "execution_count": 91,
   "metadata": {},
   "outputs": [],
   "source": [
    "embedding_size=200\n",
    "embeddings_nov = np.zeros((len(w2v_model_nov.wv.index2word), embedding_size))\n",
    "for i in range(0, len(w2v_model_nov.wv.index2word)):\n",
    "    w = w2v_model_nov.wv.index2word[i]\n",
    "    embeddings_nov[i] = w2v_model_nov.wv[w]\n",
    "svd = TruncatedSVD(n_components=2, algorithm='randomized', n_iter=500, random_state=101)\n",
    "embeddings_2d_projection_nov = svd.fit_transform(embeddings_nov)"
   ]
  },
  {
   "cell_type": "code",
   "execution_count": 136,
   "metadata": {},
   "outputs": [
    {
     "data": {
      "image/png": "[encoded data removed]",
      "text/plain": [
       "<Figure size 432x288 with 1 Axes>"
      ]
     },
     "metadata": {},
     "output_type": "display_data"
    }
   ],
   "source": [
    "w = []\n",
    "for i in range(1,11):\n",
    "    kmeans = KMeans(n_clusters=i,init='k-means++',max_iter=300,n_init=10,random_state=0)\n",
    "    kmeans.fit(embeddings_nov)\n",
    "    w.append(kmeans.inertia_)\n",
    "plt.plot(range(1,11),w)\n",
    "plt.title('The Elbow Method')\n",
    "plt.xlabel('Number of clusters')\n",
    "plt.ylabel('WCSS')\n",
    "plt.savefig('elbow.png')\n",
    "plt.show()"
   ]
  },
  {
   "cell_type": "markdown",
   "metadata": {},
   "source": [
    "### Initializing K-means"
   ]
  },
  {
   "cell_type": "markdown",
   "metadata": {},
   "source": [
    "### March"
   ]
  },
  {
   "cell_type": "code",
   "execution_count": 93,
   "metadata": {},
   "outputs": [],
   "source": [
    "n_clusters = 3\n",
    "embedding_cluster_model_march = KMeans(n_clusters=n_clusters, random_state=0).fit(embeddings_march)"
   ]
  },
  {
   "cell_type": "markdown",
   "metadata": {},
   "source": [
    "#### July"
   ]
  },
  {
   "cell_type": "code",
   "execution_count": 121,
   "metadata": {},
   "outputs": [],
   "source": [
    "n_clusters = 3\n",
    "embedding_cluster_model_july = KMeans(n_clusters=n_clusters, random_state=0).fit(embeddings_july)"
   ]
  },
  {
   "cell_type": "code",
   "execution_count": 125,
   "metadata": {},
   "outputs": [],
   "source": [
    "n_clusters = 3\n",
    "embedding_cluster_model_nov = KMeans(n_clusters=n_clusters, random_state=0).fit(embeddings_nov)"
   ]
  },
  {
   "cell_type": "code",
   "execution_count": 141,
   "metadata": {},
   "outputs": [],
   "source": [
    "def display_closestwords_tsnescatterplot(model, word):\n",
    "    \n",
    "    arr = np.empty((0,200), dtype='f')\n",
    "    word_labels = [word]\n",
    "\n",
    "    # get close words\n",
    "    close_words = model.similar_by_word(word)\n",
    "    \n",
    "    # add the vector for each of the closest words to the array\n",
    "    arr = np.append(arr, np.array([model[word]]), axis=0)\n",
    "    for wrd_score in close_words:\n",
    "        wrd_vector = model[wrd_score[0]]\n",
    "        word_labels.append(wrd_score[0])\n",
    "        arr = np.append(arr, np.array([wrd_vector]), axis=0)\n",
    "        \n",
    "    # find tsne coords for 2 dimensions\n",
    "    tsne = TSNE(n_components=2, random_state=0)\n",
    "    np.set_printoptions(suppress=True)\n",
    "    Y = tsne.fit_transform(arr)\n",
    "\n",
    "    x_coords = Y[:, 0]\n",
    "    y_coords = Y[:, 1]\n",
    "    # display scatter plot\n",
    "    plt.scatter(x_coords, y_coords)\n",
    "\n",
    "    for label, x, y in zip(word_labels, x_coords, y_coords):\n",
    "        plt.annotate(label, xy=(x, y), xytext=(0, 0), textcoords='offset points')\n",
    "    plt.xlim(x_coords.min()+0.00005, x_coords.max()+0.00005)\n",
    "    plt.ylim(y_coords.min()+0.00005, y_coords.max()+0.00005)\n",
    "    plt.show()"
   ]
  },
  {
   "cell_type": "code",
   "execution_count": 142,
   "metadata": {},
   "outputs": [
    {
     "name": "stderr",
     "output_type": "stream",
     "text": [
      "/Users/ironhack/opt/anaconda3/lib/python3.7/site-packages/ipykernel_launcher.py:7: DeprecationWarning: Call to deprecated `similar_by_word` (Method will be removed in 4.0.0, use self.wv.similar_by_word() instead).\n",
      "  import sys\n",
      "/Users/ironhack/opt/anaconda3/lib/python3.7/site-packages/ipykernel_launcher.py:10: DeprecationWarning: Call to deprecated `__getitem__` (Method will be removed in 4.0.0, use self.wv.__getitem__() instead).\n",
      "  # Remove the CWD from sys.path while we load stuff.\n",
      "/Users/ironhack/opt/anaconda3/lib/python3.7/site-packages/ipykernel_launcher.py:12: DeprecationWarning: Call to deprecated `__getitem__` (Method will be removed in 4.0.0, use self.wv.__getitem__() instead).\n",
      "  if sys.path[0] == '':\n"
     ]
    },
    {
     "data": {
      "image/png": "[encoded data removed]",
      "text/plain": [
       "<Figure size 432x288 with 1 Axes>"
      ]
     },
     "metadata": {},
     "output_type": "display_data"
    }
   ],
   "source": [
    "display_closestwords_tsnescatterplot(w2v_model_nov, 'theresa')"
   ]
  },
  {
   "cell_type": "code",
   "execution_count": null,
   "metadata": {},
   "outputs": [],
   "source": []
  }
 ],
 "metadata": {
  "kernelspec": {
   "display_name": "Python 3",
   "language": "python",
   "name": "python3"
  },
  "language_info": {
   "codemirror_mode": {
    "name": "ipython",
    "version": 3
   },
   "file_extension": ".py",
   "mimetype": "text/x-python",
   "name": "python",
   "nbconvert_exporter": "python",
   "pygments_lexer": "ipython3",
   "version": "3.7.4"
  }
 },
 "nbformat": 4,
 "nbformat_minor": 2
}
