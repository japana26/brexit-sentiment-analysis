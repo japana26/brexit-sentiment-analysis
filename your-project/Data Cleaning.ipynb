{
 "cells": [
  {
   "cell_type": "markdown",
   "metadata": {},
   "source": [
    "### Imports"
   ]
  },
  {
   "cell_type": "code",
   "execution_count": 186,
   "metadata": {},
   "outputs": [],
   "source": [
    "import pandas as pd\n",
    "import numpy as np\n",
    "import matplotlib.pyplot as plt\n",
    "\n",
    "import glob\n",
    "import os\n",
    "\n",
    "from nltk.corpus import stopwords\n",
    "from nltk.tokenize import word_tokenize\n",
    "from nltk.stem import PorterStemmer \n",
    "from nltk.stem import WordNetLemmatizer \n",
    "from nltk.probability import FreqDist\n",
    "import nltk\n",
    "\n",
    "from sklearn.feature_extraction.text import CountVectorizer\n",
    "from sklearn.feature_extraction.text import TfidfVectorizer\n",
    "from sklearn.cluster import KMeans\n",
    "from sklearn.metrics import silhouette_score\n",
    "from sklearn import preprocessing\n",
    "\n",
    "from yellowbrick.cluster import KElbowVisualizer\n",
    "from datetime import datetime\n",
    "import re"
   ]
  },
  {
   "cell_type": "code",
   "execution_count": 187,
   "metadata": {},
   "outputs": [],
   "source": [
    "pd.set_option('max_colwidth', 800)"
   ]
  },
  {
   "cell_type": "markdown",
   "metadata": {},
   "source": [
    "### Functions"
   ]
  },
  {
   "cell_type": "code",
   "execution_count": 188,
   "metadata": {},
   "outputs": [],
   "source": [
    "def clean_up(tweet):\n",
    "    tweet = re.sub('((www\\.[^\\s]+)|(https?://[^\\s]+))','',tweet.lower())\n",
    "    tweet = re.sub('[\\s]+', ' ', tweet)  \n",
    "    tweet = re.sub(r'\\W*\\b\\w{1,3}\\b', '', tweet)\n",
    "    tweet = re.sub('[^A-Za-z0-9]+', ' ', tweet) \n",
    "    return tweet\n",
    "\n",
    "def tokenize(tweet):\n",
    "    return word_tokenize(tweet)\n",
    "\n",
    "def stem_and_lemmatize(tweet):\n",
    "    tweet = ' '.join(tweet)\n",
    "    stem = PorterStemmer().stem(tweet)\n",
    "    return WordNetLemmatizer().lemmatize(stem)\n",
    "\n",
    "def remove_stopwords(tweet):\n",
    "    stop_words = set(stopwords.words('english')) \n",
    "    return [i for i in tweet.split() if i not in stop_words]\n",
    "\n",
    "#function to detect language based on # of stop words for particular language\n",
    "stopwords_dict = {lang: set(nltk.corpus.stopwords.words(lang)) for lang in nltk.corpus.stopwords.fileids()}\n",
    "def get_language(text):\n",
    "    words = set(nltk.wordpunct_tokenize(text.lower()))\n",
    "    lang = max(((lang, len(words & stopwords)) for lang, stopwords in stopwords_dict.items()), key = lambda x: x[1])[0]\n",
    "    return True if lang == 'english'else False\n",
    "    \n",
    "def get_pm(row):\n",
    "    pms = []\n",
    "    text = row[\"TEXT\"].lower()\n",
    "    if \"boris\" in text or \"johnson\" in text:\n",
    "        pms.append(\"Boris Johnson\")\n",
    "    elif \"theresa\" in text:\n",
    "        pms.append(\"Theresa May\")\n",
    "    else:\n",
    "        pms.append(\"none\") \n",
    "    return \",\".join(pms)"
   ]
  },
  {
   "cell_type": "markdown",
   "metadata": {},
   "source": [
    "### Data"
   ]
  },
  {
   "cell_type": "code",
   "execution_count": 189,
   "metadata": {},
   "outputs": [
    {
     "name": "stderr",
     "output_type": "stream",
     "text": [
      "/Users/ironhack/opt/anaconda3/lib/python3.7/site-packages/ipykernel_launcher.py:9: FutureWarning: Sorting because non-concatenation axis is not aligned. A future version\n",
      "of pandas will change to not sort by default.\n",
      "\n",
      "To accept the future behavior, pass 'sort=False'.\n",
      "\n",
      "To retain the current behavior and silence the warning, pass 'sort=True'.\n",
      "\n",
      "  if __name__ == '__main__':\n"
     ]
    }
   ],
   "source": [
    "path = r'/Users/ironhack/Documents/GitHub/IronHack/W9FinalProject/final-project/your-project/tweets/2019'\n",
    "all_files = glob.glob(os.path.join(path, \"*.csv\"))\n",
    "list_of_files = []\n",
    "\n",
    "for filename in all_files:\n",
    "    df = pd.read_csv(filename, index_col=None, header=0)\n",
    "    list_of_files.append(df)\n",
    "\n",
    "df = pd.concat(list_of_files, axis=0, ignore_index=True)"
   ]
  },
  {
   "cell_type": "code",
   "execution_count": 190,
   "metadata": {},
   "outputs": [
    {
     "name": "stdout",
     "output_type": "stream",
     "text": [
      "<class 'pandas.core.frame.DataFrame'>\n",
      "RangeIndex: 383269 entries, 0 to 383268\n",
      "Data columns (total 16 columns):\n",
      "author_id         380000 non-null float64\n",
      "date              383269 non-null object\n",
      "favorites         380000 non-null float64\n",
      "formatted_date    380000 non-null object\n",
      "geo               0 non-null float64\n",
      "hashtags          93174 non-null object\n",
      "id                383269 non-null int64\n",
      "mentions          49660 non-null object\n",
      "permalink         380000 non-null object\n",
      "pm                3269 non-null object\n",
      "replies           380000 non-null float64\n",
      "retweets          380000 non-null float64\n",
      "text              382645 non-null object\n",
      "to                235693 non-null object\n",
      "urls              117328 non-null object\n",
      "username          383269 non-null object\n",
      "dtypes: float64(5), int64(1), object(10)\n",
      "memory usage: 46.8+ MB\n"
     ]
    }
   ],
   "source": [
    "df.info()"
   ]
  },
  {
   "cell_type": "code",
   "execution_count": 191,
   "metadata": {},
   "outputs": [
    {
     "data": {
      "text/plain": [
       "author_id           0.852926\n",
       "date                0.000000\n",
       "favorites           0.852926\n",
       "formatted_date      0.852926\n",
       "geo               100.000000\n",
       "hashtags           75.689659\n",
       "id                  0.000000\n",
       "mentions           87.043043\n",
       "permalink           0.852926\n",
       "pm                 99.147074\n",
       "replies             0.852926\n",
       "retweets            0.852926\n",
       "text                0.162810\n",
       "to                 38.504549\n",
       "urls               69.387558\n",
       "username            0.000000\n",
       "dtype: float64"
      ]
     },
     "execution_count": 191,
     "metadata": {},
     "output_type": "execute_result"
    }
   ],
   "source": [
    "df.isna().sum()*100/len(df)"
   ]
  },
  {
   "cell_type": "code",
   "execution_count": 192,
   "metadata": {},
   "outputs": [
    {
     "data": {
      "text/plain": [
       "Index(['author_id', 'date', 'favorites', 'formatted_date', 'geo', 'hashtags',\n",
       "       'id', 'mentions', 'permalink', 'pm', 'replies', 'retweets', 'text',\n",
       "       'to', 'urls', 'username'],\n",
       "      dtype='object')"
      ]
     },
     "execution_count": 192,
     "metadata": {},
     "output_type": "execute_result"
    }
   ],
   "source": [
    "df.columns"
   ]
  },
  {
   "cell_type": "code",
   "execution_count": 193,
   "metadata": {},
   "outputs": [],
   "source": [
    "df = df[['date','id', 'username', 'text']]\n",
    "df.columns = map(str.upper, df.columns)"
   ]
  },
  {
   "cell_type": "code",
   "execution_count": 194,
   "metadata": {},
   "outputs": [
    {
     "data": {
      "text/plain": [
       "(383269, 4)"
      ]
     },
     "execution_count": 194,
     "metadata": {},
     "output_type": "execute_result"
    }
   ],
   "source": [
    "df.shape"
   ]
  },
  {
   "cell_type": "code",
   "execution_count": 195,
   "metadata": {},
   "outputs": [],
   "source": [
    "df.dropna(inplace=True)"
   ]
  },
  {
   "cell_type": "code",
   "execution_count": 196,
   "metadata": {},
   "outputs": [
    {
     "data": {
      "text/plain": [
       "DATE        object\n",
       "ID           int64\n",
       "USERNAME    object\n",
       "TEXT        object\n",
       "dtype: object"
      ]
     },
     "execution_count": 196,
     "metadata": {},
     "output_type": "execute_result"
    }
   ],
   "source": [
    "#check types\n",
    "df.dtypes"
   ]
  },
  {
   "cell_type": "code",
   "execution_count": 197,
   "metadata": {},
   "outputs": [
    {
     "data": {
      "text/html": [
       "<div>\n",
       "<style scoped>\n",
       "    .dataframe tbody tr th:only-of-type {\n",
       "        vertical-align: middle;\n",
       "    }\n",
       "\n",
       "    .dataframe tbody tr th {\n",
       "        vertical-align: top;\n",
       "    }\n",
       "\n",
       "    .dataframe thead th {\n",
       "        text-align: right;\n",
       "    }\n",
       "</style>\n",
       "<table border=\"1\" class=\"dataframe\">\n",
       "  <thead>\n",
       "    <tr style=\"text-align: right;\">\n",
       "      <th></th>\n",
       "      <th>DATE</th>\n",
       "      <th>ID</th>\n",
       "      <th>USERNAME</th>\n",
       "      <th>TEXT</th>\n",
       "    </tr>\n",
       "  </thead>\n",
       "  <tbody>\n",
       "    <tr>\n",
       "      <td>30000</td>\n",
       "      <td>2019-03-12 23:59:59+00:00</td>\n",
       "      <td>1105619479478845441</td>\n",
       "      <td>El_7usseny</td>\n",
       "      <td>طب سريعاً كدا فيه غفلة من رجال الأمن أحب أتكلم شويه عن الـBrexit اللي هو انفصال المملكة المتحدة UK عن الاتحاد الأوروبي في ثريد صغير</td>\n",
       "    </tr>\n",
       "    <tr>\n",
       "      <td>30001</td>\n",
       "      <td>2019-03-12 23:59:59+00:00</td>\n",
       "      <td>1105619476047953928</td>\n",
       "      <td>michael_b28</td>\n",
       "      <td>@heuteshow ist das eigentlich richtig, dass der simulierte Angriff auf den EU Luftraum gestern Abend durch TUIfly mit #737MAX8 eine Aktionskunst zur Verhinderung des #Brexit war?</td>\n",
       "    </tr>\n",
       "    <tr>\n",
       "      <td>30002</td>\n",
       "      <td>2019-03-12 23:59:57+00:00</td>\n",
       "      <td>1105619470641446912</td>\n",
       "      <td>repnews</td>\n",
       "      <td>Listen to this. What is Britain's \"fundamental interest\" in Ireland? If they answer that first, then they can figure out the border, then they can figure out Brexit.</td>\n",
       "    </tr>\n",
       "    <tr>\n",
       "      <td>30003</td>\n",
       "      <td>2019-03-12 23:59:54+00:00</td>\n",
       "      <td>1105619456565395458</td>\n",
       "      <td>Lusa_noticias</td>\n",
       "      <td>Portugal prepara-se para cenário do 'Brexit' sem acordo que é “hoje mais possível” - MNE - https://www.lusa.pt/article/25807673</td>\n",
       "    </tr>\n",
       "    <tr>\n",
       "      <td>30004</td>\n",
       "      <td>2019-03-12 23:59:54+00:00</td>\n",
       "      <td>1105619455739158529</td>\n",
       "      <td>themarketsniper</td>\n",
       "      <td>Parliament’s rejection of Mrs. May’s deal shifts the focus to a vote scheduled for Wednesday on whether to oppose leaving without a deal - WATCH TOMORROW'S BETRAYAL OF REAL BREXIT, AS MAJORITY VOTE AGAINST NO DEAL EXIT. 99% CERTAIN OF IT. @TheResetSniper @DollarVigilante</td>\n",
       "    </tr>\n",
       "    <tr>\n",
       "      <td>...</td>\n",
       "      <td>...</td>\n",
       "      <td>...</td>\n",
       "      <td>...</td>\n",
       "      <td>...</td>\n",
       "    </tr>\n",
       "    <tr>\n",
       "      <td>306811</td>\n",
       "      <td>2019-09-13 21:52:15+00:00</td>\n",
       "      <td>1172629085387968513</td>\n",
       "      <td>ittatto23</td>\n",
       "      <td>This absolute gobshite has a nerve since he’s the very one who’s responsible for all this #Brexit shite in the first place, then he pissed off when it all went wrong &amp;amp; let other politicians in Parliament like #TheresaMay to deal with it all! #DavidCameron</td>\n",
       "    </tr>\n",
       "    <tr>\n",
       "      <td>306976</td>\n",
       "      <td>2019-09-13 21:47:57+00:00</td>\n",
       "      <td>1172628003987345408</td>\n",
       "      <td>DarrylInnes</td>\n",
       "      <td>your fantasy Brexit was lost the moment that Theresa May called a snap election and ended up with a minority government. Bercow has just given the majority of opposition a voice as he is supposed to do and as the election mandated.</td>\n",
       "    </tr>\n",
       "    <tr>\n",
       "      <td>307814</td>\n",
       "      <td>2019-09-13 21:28:25+00:00</td>\n",
       "      <td>1172623090922196999</td>\n",
       "      <td>sundersays</td>\n",
       "      <td>David Cameron and Theresa May, for somewhat different reasons, are in an especially lonely place in a politics polarised by Brexit. Distrusted as \"Remainers\" by Leave advocates, but probably more unpopular still with Remainers</td>\n",
       "    </tr>\n",
       "    <tr>\n",
       "      <td>308094</td>\n",
       "      <td>2019-09-13 21:21:49+00:00</td>\n",
       "      <td>1172621430196002817</td>\n",
       "      <td>femiokes</td>\n",
       "      <td>I see your argument. But would rather he resign if he felt he can't can it through. What wrong with a bit of honesty? #TheresaMay took over promising to deliver but could not have done more to mess up #brexit instead!</td>\n",
       "    </tr>\n",
       "    <tr>\n",
       "      <td>308163</td>\n",
       "      <td>2019-09-13 21:20:17+00:00</td>\n",
       "      <td>1172621041543200768</td>\n",
       "      <td>Mouette291</td>\n",
       "      <td>Les #européistes sont \"sur les dents\" et prêt à tout pour faire capoter le #BREXIT Dernière supercherie en date, le soit disant rapport sur l'opération #Yellowhammer ou #ProjetdelaPeur Un rapport commandée en janvier dernier par #TheresaMay aux fins d'affoler la population. #UPR</td>\n",
       "    </tr>\n",
       "  </tbody>\n",
       "</table>\n",
       "<p>14952 rows × 4 columns</p>\n",
       "</div>"
      ],
      "text/plain": [
       "                             DATE                   ID         USERNAME  \\\n",
       "30000   2019-03-12 23:59:59+00:00  1105619479478845441       El_7usseny   \n",
       "30001   2019-03-12 23:59:59+00:00  1105619476047953928      michael_b28   \n",
       "30002   2019-03-12 23:59:57+00:00  1105619470641446912          repnews   \n",
       "30003   2019-03-12 23:59:54+00:00  1105619456565395458    Lusa_noticias   \n",
       "30004   2019-03-12 23:59:54+00:00  1105619455739158529  themarketsniper   \n",
       "...                           ...                  ...              ...   \n",
       "306811  2019-09-13 21:52:15+00:00  1172629085387968513        ittatto23   \n",
       "306976  2019-09-13 21:47:57+00:00  1172628003987345408      DarrylInnes   \n",
       "307814  2019-09-13 21:28:25+00:00  1172623090922196999       sundersays   \n",
       "308094  2019-09-13 21:21:49+00:00  1172621430196002817         femiokes   \n",
       "308163  2019-09-13 21:20:17+00:00  1172621041543200768       Mouette291   \n",
       "\n",
       "                                                                                                                                                                                                                                                                                           TEXT  \n",
       "30000                                                                                                                                                       طب سريعاً كدا فيه غفلة من رجال الأمن أحب أتكلم شويه عن الـBrexit اللي هو انفصال المملكة المتحدة UK عن الاتحاد الأوروبي في ثريد صغير  \n",
       "30001                                                                                                        @heuteshow ist das eigentlich richtig, dass der simulierte Angriff auf den EU Luftraum gestern Abend durch TUIfly mit #737MAX8 eine Aktionskunst zur Verhinderung des #Brexit war?  \n",
       "30002                                                                                                                    Listen to this. What is Britain's \"fundamental interest\" in Ireland? If they answer that first, then they can figure out the border, then they can figure out Brexit.   \n",
       "30003                                                                                                                                                           Portugal prepara-se para cenário do 'Brexit' sem acordo que é “hoje mais possível” - MNE - https://www.lusa.pt/article/25807673  \n",
       "30004           Parliament’s rejection of Mrs. May’s deal shifts the focus to a vote scheduled for Wednesday on whether to oppose leaving without a deal - WATCH TOMORROW'S BETRAYAL OF REAL BREXIT, AS MAJORITY VOTE AGAINST NO DEAL EXIT. 99% CERTAIN OF IT. @TheResetSniper @DollarVigilante  \n",
       "...                                                                                                                                                                                                                                                                                         ...  \n",
       "306811                      This absolute gobshite has a nerve since he’s the very one who’s responsible for all this #Brexit shite in the first place, then he pissed off when it all went wrong &amp; let other politicians in Parliament like #TheresaMay to deal with it all! #DavidCameron  \n",
       "306976                                                  your fantasy Brexit was lost the moment that Theresa May called a snap election and ended up with a minority government. Bercow has just given the majority of opposition a voice as he is supposed to do and as the election mandated.  \n",
       "307814                                                       David Cameron and Theresa May, for somewhat different reasons, are in an especially lonely place in a politics polarised by Brexit. Distrusted as \"Remainers\" by Leave advocates, but probably more unpopular still with Remainers  \n",
       "308094                                                                I see your argument. But would rather he resign if he felt he can't can it through. What wrong with a bit of honesty? #TheresaMay took over promising to deliver but could not have done more to mess up #brexit instead!  \n",
       "308163  Les #européistes sont \"sur les dents\" et prêt à tout pour faire capoter le #BREXIT Dernière supercherie en date, le soit disant rapport sur l'opération #Yellowhammer ou #ProjetdelaPeur Un rapport commandée en janvier dernier par #TheresaMay aux fins d'affoler la population. #UPR  \n",
       "\n",
       "[14952 rows x 4 columns]"
      ]
     },
     "execution_count": 197,
     "metadata": {},
     "output_type": "execute_result"
    }
   ],
   "source": [
    "#check for duplicates in the tweet ID column\n",
    "df[df.duplicated(subset = 'ID')]"
   ]
  },
  {
   "cell_type": "code",
   "execution_count": 198,
   "metadata": {},
   "outputs": [],
   "source": [
    "#removing duplicates\n",
    "df.drop_duplicates(subset='ID', keep=\"first\", inplace=True)"
   ]
  },
  {
   "cell_type": "code",
   "execution_count": 199,
   "metadata": {},
   "outputs": [],
   "source": [
    "#now that there are no duplicates, so we can drop the column\n",
    "df.drop('ID', inplace=True, axis=1)"
   ]
  },
  {
   "cell_type": "code",
   "execution_count": 200,
   "metadata": {},
   "outputs": [
    {
     "data": {
      "text/plain": [
       "(367693, 3)"
      ]
     },
     "execution_count": 200,
     "metadata": {},
     "output_type": "execute_result"
    }
   ],
   "source": [
    "#checking totalrows\n",
    "df.shape"
   ]
  },
  {
   "cell_type": "markdown",
   "metadata": {},
   "source": [
    "### Fixing time type column"
   ]
  },
  {
   "cell_type": "code",
   "execution_count": 201,
   "metadata": {},
   "outputs": [],
   "source": [
    "#from the date only the month is important to analyse the change throughout the year\n",
    "df['DATE'] = pd.to_datetime(df['DATE'])\n",
    "df['MONTH_INT'] = pd.DatetimeIndex(df['DATE']).month\n",
    "df['MONTH_STR'] = df['DATE'].dt.strftime('%b')\n",
    "df.drop('DATE', inplace=True, axis=1)"
   ]
  },
  {
   "cell_type": "markdown",
   "metadata": {},
   "source": [
    "### Removing non english tweets"
   ]
  },
  {
   "cell_type": "code",
   "execution_count": 202,
   "metadata": {},
   "outputs": [],
   "source": [
    "df['language'] = df['TEXT'].apply(get_language)\n",
    "df = df[(df['language'] == True)]\n",
    "df.drop('language', inplace=True, axis=1)"
   ]
  },
  {
   "cell_type": "code",
   "execution_count": 203,
   "metadata": {},
   "outputs": [
    {
     "data": {
      "text/plain": [
       "(329937, 4)"
      ]
     },
     "execution_count": 203,
     "metadata": {},
     "output_type": "execute_result"
    }
   ],
   "source": [
    "df.shape"
   ]
  },
  {
   "cell_type": "markdown",
   "metadata": {},
   "source": [
    "### Creating column for Theresa May/Boris Jonhson - selecting tweets that only refer the PMs"
   ]
  },
  {
   "cell_type": "code",
   "execution_count": 204,
   "metadata": {},
   "outputs": [],
   "source": [
    "df[\"PM\"] = df.apply(get_pm,axis=1)"
   ]
  },
  {
   "cell_type": "code",
   "execution_count": 205,
   "metadata": {},
   "outputs": [
    {
     "data": {
      "text/plain": [
       "none             282333\n",
       "Boris Johnson     33555\n",
       "Theresa May       14049\n",
       "Name: PM, dtype: int64"
      ]
     },
     "execution_count": 205,
     "metadata": {},
     "output_type": "execute_result"
    }
   ],
   "source": [
    "df['PM'].value_counts()"
   ]
  },
  {
   "cell_type": "markdown",
   "metadata": {},
   "source": [
    "### Adjusting dataset so we have a more balanced number of tweets between May&Boris"
   ]
  },
  {
   "cell_type": "code",
   "execution_count": 206,
   "metadata": {},
   "outputs": [
    {
     "data": {
      "text/plain": [
       "none             0.855718\n",
       "Boris Johnson    0.101701\n",
       "Theresa May      0.042581\n",
       "Name: PM, dtype: float64"
      ]
     },
     "execution_count": 206,
     "metadata": {},
     "output_type": "execute_result"
    }
   ],
   "source": [
    "df['PM'].value_counts()/len(df)"
   ]
  },
  {
   "cell_type": "code",
   "execution_count": 207,
   "metadata": {},
   "outputs": [],
   "source": [
    "#removing 5% of Boris tweets\n",
    "cdf = df.drop(df[df['PM'] == 'Boris Johnson'].sample(frac=.5).index)"
   ]
  },
  {
   "cell_type": "code",
   "execution_count": 208,
   "metadata": {},
   "outputs": [
    {
     "data": {
      "text/plain": [
       "none             282333\n",
       "Boris Johnson     16777\n",
       "Theresa May       14049\n",
       "Name: PM, dtype: int64"
      ]
     },
     "execution_count": 208,
     "metadata": {},
     "output_type": "execute_result"
    }
   ],
   "source": [
    "cdf['PM'].value_counts()"
   ]
  },
  {
   "cell_type": "code",
   "execution_count": 172,
   "metadata": {},
   "outputs": [],
   "source": [
    "df_may = df[df['PM'] == 'Theresa May']\n",
    "df_boris = df[df['PM'] == 'Boris Johnson']\n",
    "df_none = df[df['PM'] == 'none']\n",
    "df_mb = df_may.append(df_boris)"
   ]
  },
  {
   "cell_type": "code",
   "execution_count": 96,
   "metadata": {},
   "outputs": [
    {
     "data": {
      "text/plain": [
       "Boris Johnson    33555\n",
       "Theresa May      14049\n",
       "Name: PM, dtype: int64"
      ]
     },
     "execution_count": 96,
     "metadata": {},
     "output_type": "execute_result"
    }
   ],
   "source": [
    "df_mb['PM'].value_counts()"
   ]
  },
  {
   "cell_type": "markdown",
   "metadata": {},
   "source": [
    "### Dataset with the \"None\" group and the group that mentions May & Boris"
   ]
  },
  {
   "cell_type": "markdown",
   "metadata": {},
   "source": [
    "### Remove user accounts that are related to news and trolls?"
   ]
  },
  {
   "cell_type": "code",
   "execution_count": 209,
   "metadata": {},
   "outputs": [],
   "source": [
    "#find twitter accounts with brexit in the name, these are to be removed\n",
    "brexit_usernames = cdf[cdf['USERNAME'].str.contains('brexit|Brexit')]"
   ]
  },
  {
   "cell_type": "code",
   "execution_count": 210,
   "metadata": {},
   "outputs": [],
   "source": [
    "cond = cdf['USERNAME'].isin(brexit_usernames['USERNAME'])\n",
    "#cond.value_counts()\n",
    "cdf.drop(cdf[cond].index, inplace = True)"
   ]
  },
  {
   "cell_type": "code",
   "execution_count": 211,
   "metadata": {},
   "outputs": [
    {
     "data": {
      "text/plain": [
       "(306910, 5)"
      ]
     },
     "execution_count": 211,
     "metadata": {},
     "output_type": "execute_result"
    }
   ],
   "source": [
    "cdf.shape"
   ]
  },
  {
   "cell_type": "code",
   "execution_count": 212,
   "metadata": {},
   "outputs": [
    {
     "data": {
      "text/html": [
       "<div>\n",
       "<style scoped>\n",
       "    .dataframe tbody tr th:only-of-type {\n",
       "        vertical-align: middle;\n",
       "    }\n",
       "\n",
       "    .dataframe tbody tr th {\n",
       "        vertical-align: top;\n",
       "    }\n",
       "\n",
       "    .dataframe thead th {\n",
       "        text-align: right;\n",
       "    }\n",
       "</style>\n",
       "<table border=\"1\" class=\"dataframe\">\n",
       "  <thead>\n",
       "    <tr style=\"text-align: right;\">\n",
       "      <th></th>\n",
       "      <th>index</th>\n",
       "      <th>USERNAME</th>\n",
       "    </tr>\n",
       "  </thead>\n",
       "  <tbody>\n",
       "    <tr>\n",
       "      <td>0</td>\n",
       "      <td>AtlantoCeltica</td>\n",
       "      <td>615</td>\n",
       "    </tr>\n",
       "    <tr>\n",
       "      <td>1</td>\n",
       "      <td>dddoc_blogger</td>\n",
       "      <td>288</td>\n",
       "    </tr>\n",
       "    <tr>\n",
       "      <td>2</td>\n",
       "      <td>Doozy_45</td>\n",
       "      <td>254</td>\n",
       "    </tr>\n",
       "    <tr>\n",
       "      <td>3</td>\n",
       "      <td>BBCPropaganda</td>\n",
       "      <td>248</td>\n",
       "    </tr>\n",
       "    <tr>\n",
       "      <td>4</td>\n",
       "      <td>JeanneBartram</td>\n",
       "      <td>201</td>\n",
       "    </tr>\n",
       "  </tbody>\n",
       "</table>\n",
       "</div>"
      ],
      "text/plain": [
       "            index  USERNAME\n",
       "0  AtlantoCeltica       615\n",
       "1   dddoc_blogger       288\n",
       "2        Doozy_45       254\n",
       "3   BBCPropaganda       248\n",
       "4   JeanneBartram       201"
      ]
     },
     "execution_count": 212,
     "metadata": {},
     "output_type": "execute_result"
    }
   ],
   "source": [
    "'''checking top users with most frequent tweets, these look like bots/trolls/news and do not add any meaningful value \n",
    "to the analysis so they will be removed'''\n",
    "usernames_to_remove = cdf['USERNAME'].value_counts().sort_values(ascending=False).nlargest(5)\n",
    "frame = usernames_to_remove.to_frame().reset_index()\n",
    "frame"
   ]
  },
  {
   "cell_type": "code",
   "execution_count": 213,
   "metadata": {},
   "outputs": [],
   "source": [
    "cond1 = cdf['USERNAME'].isin(frame['index'])\n",
    "#cond.value_counts()\n",
    "cdf.drop(cdf[cond1].index, inplace = True)"
   ]
  },
  {
   "cell_type": "code",
   "execution_count": 214,
   "metadata": {},
   "outputs": [
    {
     "data": {
      "text/plain": [
       "(305304, 5)"
      ]
     },
     "execution_count": 214,
     "metadata": {},
     "output_type": "execute_result"
    }
   ],
   "source": [
    "cdf.shape"
   ]
  },
  {
   "cell_type": "code",
   "execution_count": 215,
   "metadata": {},
   "outputs": [
    {
     "data": {
      "text/plain": [
       "none             275161\n",
       "Boris Johnson     16408\n",
       "Theresa May       13735\n",
       "Name: PM, dtype: int64"
      ]
     },
     "execution_count": 215,
     "metadata": {},
     "output_type": "execute_result"
    }
   ],
   "source": [
    "cdf['PM'].value_counts()"
   ]
  },
  {
   "cell_type": "code",
   "execution_count": 216,
   "metadata": {},
   "outputs": [
    {
     "data": {
      "text/plain": [
       "none             0.833980\n",
       "Boris Johnson    0.049731\n",
       "Theresa May      0.041629\n",
       "Name: PM, dtype: float64"
      ]
     },
     "execution_count": 216,
     "metadata": {},
     "output_type": "execute_result"
    }
   ],
   "source": [
    "cdf['PM'].value_counts()/len(df)"
   ]
  },
  {
   "cell_type": "markdown",
   "metadata": {},
   "source": [
    "### Cleaning the tweets"
   ]
  },
  {
   "cell_type": "code",
   "execution_count": 217,
   "metadata": {},
   "outputs": [],
   "source": [
    "cdf['TWEET_PROCESSED'] = cdf['TEXT'].apply(clean_up).apply(tokenize).apply(stem_and_lemmatize).apply(remove_stopwords)\n",
    "cdf['TWEET_CLEANED'] = [' '.join(map(str, l)) for l in cdf['TWEET_PROCESSED']]"
   ]
  },
  {
   "cell_type": "code",
   "execution_count": null,
   "metadata": {},
   "outputs": [],
   "source": [
    "df_mb['TWEET_PROCESSED'] = df_mb['TEXT'].apply(clean_up).apply(tokenize).apply(stem_and_lemmatize).apply(remove_stopwords)\n",
    "df_mb['TWEET_CLEANED'] = [' '.join(map(str, l)) for l in df_mb['TWEET_PROCESSED']]\n",
    "\n",
    "df_may['TWEET_PROCESSED'] = df_may['TEXT'].apply(clean_up).apply(tokenize).apply(stem_and_lemmatize).apply(remove_stopwords)\n",
    "df_may['TWEET_CLEANED'] = [' '.join(map(str, l)) for l in df_may['TWEET_PROCESSED']]\n",
    "\n",
    "df_boris['TWEET_PROCESSED'] = df_boris['TEXT'].apply(clean_up).apply(tokenize).apply(stem_and_lemmatize).apply(remove_stopwords)\n",
    "df_boris['TWEET_CLEANED'] = [' '.join(map(str, l)) for l in df_boris['TWEET_PROCESSED']]\n",
    "\n",
    "df_test['TWEET_PROCESSED'] = df_test['TEXT'].apply(clean_up).apply(tokenize).apply(stem_and_lemmatize).apply(remove_stopwords)\n",
    "df_test['TWEET_CLEANED'] = [' '.join(map(str, l)) for l in df_test['TWEET_PROCESSED']]\n"
   ]
  },
  {
   "cell_type": "code",
   "execution_count": 218,
   "metadata": {},
   "outputs": [
    {
     "data": {
      "text/html": [
       "<div>\n",
       "<style scoped>\n",
       "    .dataframe tbody tr th:only-of-type {\n",
       "        vertical-align: middle;\n",
       "    }\n",
       "\n",
       "    .dataframe tbody tr th {\n",
       "        vertical-align: top;\n",
       "    }\n",
       "\n",
       "    .dataframe thead th {\n",
       "        text-align: right;\n",
       "    }\n",
       "</style>\n",
       "<table border=\"1\" class=\"dataframe\">\n",
       "  <thead>\n",
       "    <tr style=\"text-align: right;\">\n",
       "      <th></th>\n",
       "      <th>USERNAME</th>\n",
       "      <th>TEXT</th>\n",
       "      <th>MONTH_INT</th>\n",
       "      <th>MONTH_STR</th>\n",
       "      <th>PM</th>\n",
       "      <th>TWEET_PROCESSED</th>\n",
       "      <th>TWEET_CLEANED</th>\n",
       "    </tr>\n",
       "  </thead>\n",
       "  <tbody>\n",
       "    <tr>\n",
       "      <td>3</td>\n",
       "      <td>DGAll41</td>\n",
       "      <td>Brexit minister Stephen Barclay tells Michel Barnier that UK will leave EU on October 31 with or without a deal - Evening Standard. Amazing Gove has just been bollocked for similar terminology and less than 24 hrs later, dick Barclay blunders in.</td>\n",
       "      <td>7</td>\n",
       "      <td>Jul</td>\n",
       "      <td>none</td>\n",
       "      <td>[brexit, minister, stephen, barclay, tells, michel, barnier, leave, october, without, deal, evening, standard, amazing, gove, bollocked, similar, terminology, less, later, dick, barclay, blund]</td>\n",
       "      <td>brexit minister stephen barclay tells michel barnier leave october without deal evening standard amazing gove bollocked similar terminology less later dick barclay blund</td>\n",
       "    </tr>\n",
       "    <tr>\n",
       "      <td>4</td>\n",
       "      <td>BioMickWatson</td>\n",
       "      <td>This isn't a superhero movie where the bad guy gets to be a good guy because they share common cause. Brexit and Scottish indy *are* the common cause we need to fight against</td>\n",
       "      <td>7</td>\n",
       "      <td>Jul</td>\n",
       "      <td>none</td>\n",
       "      <td>[superhero, movie, gets, good, share, common, cause, brexit, scottish, indy, common, cause, need, fight]</td>\n",
       "      <td>superhero movie gets good share common cause brexit scottish indy common cause need fight</td>\n",
       "    </tr>\n",
       "    <tr>\n",
       "      <td>5</td>\n",
       "      <td>Timlagor</td>\n",
       "      <td>Labour has to promise #2ndRef. No one wants a soft Brexit -many of the people on either end prefer the opposite end to the middle. People WILL throw a tantrum with their vote over this. What Labour do NOT have to do is back Remain in that #2ndRef.</td>\n",
       "      <td>7</td>\n",
       "      <td>Jul</td>\n",
       "      <td>none</td>\n",
       "      <td>[labour, promise, 2ndref, wants, soft, brexit, many, people, either, prefer, opposite, middle, people, throw, tantrum, vote, labour, back, remain, 2ndref]</td>\n",
       "      <td>labour promise 2ndref wants soft brexit many people either prefer opposite middle people throw tantrum vote labour back remain 2ndref</td>\n",
       "    </tr>\n",
       "    <tr>\n",
       "      <td>7</td>\n",
       "      <td>MySynthDreams</td>\n",
       "      <td>What's this talk about #brexit ? All the bars in Budapest are full of Brits</td>\n",
       "      <td>7</td>\n",
       "      <td>Jul</td>\n",
       "      <td>none</td>\n",
       "      <td>[talk, brexit, bars, budapest, full, brit]</td>\n",
       "      <td>talk brexit bars budapest full brit</td>\n",
       "    </tr>\n",
       "    <tr>\n",
       "      <td>8</td>\n",
       "      <td>JoseSaylor</td>\n",
       "      <td>Ann Widdecombe Says She Has 'No Regrets' Comparing Brexit to Slavery | G... https://youtu.be/WkkQHrepBBA via @YouTube</td>\n",
       "      <td>7</td>\n",
       "      <td>Jul</td>\n",
       "      <td>none</td>\n",
       "      <td>[widdecombe, says, regrets, comparing, brexit, slavery, youtub]</td>\n",
       "      <td>widdecombe says regrets comparing brexit slavery youtub</td>\n",
       "    </tr>\n",
       "    <tr>\n",
       "      <td>...</td>\n",
       "      <td>...</td>\n",
       "      <td>...</td>\n",
       "      <td>...</td>\n",
       "      <td>...</td>\n",
       "      <td>...</td>\n",
       "      <td>...</td>\n",
       "      <td>...</td>\n",
       "    </tr>\n",
       "    <tr>\n",
       "      <td>383261</td>\n",
       "      <td>AgataGostynska</td>\n",
       "      <td>For the European Parliament’s tactics in the trade negotiations read this @CER_EU from 2017: https://www.cer.eu/publications/archive/policy-brief/2017/parliamentarians-brexit-talks-bulls-china-shop; #brexit</td>\n",
       "      <td>2</td>\n",
       "      <td>Feb</td>\n",
       "      <td>none</td>\n",
       "      <td>[european, parliament, tactics, trade, negotiations, read, cer, eu, 2017, brexit]</td>\n",
       "      <td>european parliament tactics trade negotiations read cer eu 2017 brexit</td>\n",
       "    </tr>\n",
       "    <tr>\n",
       "      <td>383263</td>\n",
       "      <td>news4321</td>\n",
       "      <td>Man from newspaper that has spent the last three years telling the world Brexit is about Empire nostalgia is annoyed that British commentators have got the Irish election *wrong* #ohtheirony</td>\n",
       "      <td>2</td>\n",
       "      <td>Feb</td>\n",
       "      <td>none</td>\n",
       "      <td>[newspaper, spent, last, three, years, telling, world, brexit, empire, nostalgia, annoyed, british, commentators, irish, election, wrong, ohtheironi]</td>\n",
       "      <td>newspaper spent last three years telling world brexit empire nostalgia annoyed british commentators irish election wrong ohtheironi</td>\n",
       "    </tr>\n",
       "    <tr>\n",
       "      <td>383265</td>\n",
       "      <td>Will83064416</td>\n",
       "      <td>I didn’t vote mate, I support my club no matter what, and also let’s end this on a statistic. 54% voted for parties who wanted another referendum, I notice how you turn a blind eye to that.</td>\n",
       "      <td>2</td>\n",
       "      <td>Feb</td>\n",
       "      <td>none</td>\n",
       "      <td>[vote, mate, support, club, matter, also, statistic, voted, parties, wanted, another, referendum, notice, turn, blind]</td>\n",
       "      <td>vote mate support club matter also statistic voted parties wanted another referendum notice turn blind</td>\n",
       "    </tr>\n",
       "    <tr>\n",
       "      <td>383267</td>\n",
       "      <td>WilliamHayesWo1</td>\n",
       "      <td>True that Remainers consider ourselves a bright bunch. But we’ve done nothing to justify the accolade over the past 4 years and the “thick” Brexiteers have run rings round us. Truth is Brexiteers want Brexit at any cost and Remainers never twigged this, never able to respond</td>\n",
       "      <td>2</td>\n",
       "      <td>Feb</td>\n",
       "      <td>none</td>\n",
       "      <td>[true, remainers, consider, bright, bunch, done, nothing, justify, accolade, past, years, thick, brexiteers, rings, round, truth, brexiteers, want, brexit, cost, remainers, never, twigged, never, able, respond]</td>\n",
       "      <td>true remainers consider bright bunch done nothing justify accolade past years thick brexiteers rings round truth brexiteers want brexit cost remainers never twigged never able respond</td>\n",
       "    </tr>\n",
       "    <tr>\n",
       "      <td>383268</td>\n",
       "      <td>MrRandomGuy93</td>\n",
       "      <td>You are right. I did vote leave But at this point it's a joke, I don't even care what happens Remain or Leave But it's people like you that have been so desperate to link every bad thing to Brexit, real issues are being left to fester, things that actually affect peoples lives.</td>\n",
       "      <td>2</td>\n",
       "      <td>Feb</td>\n",
       "      <td>none</td>\n",
       "      <td>[right, vote, leave, point, joke, even, care, happens, remain, leave, people, like, desperate, link, every, thing, brexit, real, issues, left, fester, things, actually, affect, peoples, l]</td>\n",
       "      <td>right vote leave point joke even care happens remain leave people like desperate link every thing brexit real issues left fester things actually affect peoples l</td>\n",
       "    </tr>\n",
       "  </tbody>\n",
       "</table>\n",
       "<p>305304 rows × 7 columns</p>\n",
       "</div>"
      ],
      "text/plain": [
       "               USERNAME  \\\n",
       "3               DGAll41   \n",
       "4         BioMickWatson   \n",
       "5              Timlagor   \n",
       "7         MySynthDreams   \n",
       "8            JoseSaylor   \n",
       "...                 ...   \n",
       "383261   AgataGostynska   \n",
       "383263         news4321   \n",
       "383265     Will83064416   \n",
       "383267  WilliamHayesWo1   \n",
       "383268    MrRandomGuy93   \n",
       "\n",
       "                                                                                                                                                                                                                                                                                          TEXT  \\\n",
       "3                                      Brexit minister Stephen Barclay tells Michel Barnier that UK will leave EU on October 31 with or without a deal - Evening Standard. Amazing Gove has just been bollocked for similar terminology and less than 24 hrs later, dick Barclay blunders in.    \n",
       "4                                                                                                               This isn't a superhero movie where the bad guy gets to be a good guy because they share common cause. Brexit and Scottish indy *are* the common cause we need to fight against   \n",
       "5                                      Labour has to promise #2ndRef. No one wants a soft Brexit -many of the people on either end prefer the opposite end to the middle. People WILL throw a tantrum with their vote over this. What Labour do NOT have to do is back Remain in that #2ndRef.   \n",
       "7                                                                                                                                                                                                                  What's this talk about #brexit ? All the bars in Budapest are full of Brits   \n",
       "8                                                                                                                                                                        Ann Widdecombe Says She Has 'No Regrets' Comparing Brexit to Slavery | G... https://youtu.be/WkkQHrepBBA via @YouTube   \n",
       "...                                                                                                                                                                                                                                                                                        ...   \n",
       "383261                                                                         For the European Parliament’s tactics in the trade negotiations read this @CER_EU from 2017: https://www.cer.eu/publications/archive/policy-brief/2017/parliamentarians-brexit-talks-bulls-china-shop; #brexit    \n",
       "383263                                                                                          Man from newspaper that has spent the last three years telling the world Brexit is about Empire nostalgia is annoyed that British commentators have got the Irish election *wrong* #ohtheirony   \n",
       "383265                                                                                           I didn’t vote mate, I support my club no matter what, and also let’s end this on a statistic. 54% voted for parties who wanted another referendum, I notice how you turn a blind eye to that.   \n",
       "383267     True that Remainers consider ourselves a bright bunch. But we’ve done nothing to justify the accolade over the past 4 years and the “thick” Brexiteers have run rings round us. Truth is Brexiteers want Brexit at any cost and Remainers never twigged this, never able to respond   \n",
       "383268  You are right. I did vote leave But at this point it's a joke, I don't even care what happens Remain or Leave But it's people like you that have been so desperate to link every bad thing to Brexit, real issues are being left to fester, things that actually affect peoples lives.   \n",
       "\n",
       "        MONTH_INT MONTH_STR    PM  \\\n",
       "3               7       Jul  none   \n",
       "4               7       Jul  none   \n",
       "5               7       Jul  none   \n",
       "7               7       Jul  none   \n",
       "8               7       Jul  none   \n",
       "...           ...       ...   ...   \n",
       "383261          2       Feb  none   \n",
       "383263          2       Feb  none   \n",
       "383265          2       Feb  none   \n",
       "383267          2       Feb  none   \n",
       "383268          2       Feb  none   \n",
       "\n",
       "                                                                                                                                                                                                           TWEET_PROCESSED  \\\n",
       "3                        [brexit, minister, stephen, barclay, tells, michel, barnier, leave, october, without, deal, evening, standard, amazing, gove, bollocked, similar, terminology, less, later, dick, barclay, blund]   \n",
       "4                                                                                                                 [superhero, movie, gets, good, share, common, cause, brexit, scottish, indy, common, cause, need, fight]   \n",
       "5                                                               [labour, promise, 2ndref, wants, soft, brexit, many, people, either, prefer, opposite, middle, people, throw, tantrum, vote, labour, back, remain, 2ndref]   \n",
       "7                                                                                                                                                                               [talk, brexit, bars, budapest, full, brit]   \n",
       "8                                                                                                                                                          [widdecombe, says, regrets, comparing, brexit, slavery, youtub]   \n",
       "...                                                                                                                                                                                                                    ...   \n",
       "383261                                                                                                                                   [european, parliament, tactics, trade, negotiations, read, cer, eu, 2017, brexit]   \n",
       "383263                                                               [newspaper, spent, last, three, years, telling, world, brexit, empire, nostalgia, annoyed, british, commentators, irish, election, wrong, ohtheironi]   \n",
       "383265                                                                                              [vote, mate, support, club, matter, also, statistic, voted, parties, wanted, another, referendum, notice, turn, blind]   \n",
       "383267  [true, remainers, consider, bright, bunch, done, nothing, justify, accolade, past, years, thick, brexiteers, rings, round, truth, brexiteers, want, brexit, cost, remainers, never, twigged, never, able, respond]   \n",
       "383268                        [right, vote, leave, point, joke, even, care, happens, remain, leave, people, like, desperate, link, every, thing, brexit, real, issues, left, fester, things, actually, affect, peoples, l]   \n",
       "\n",
       "                                                                                                                                                                                  TWEET_CLEANED  \n",
       "3                     brexit minister stephen barclay tells michel barnier leave october without deal evening standard amazing gove bollocked similar terminology less later dick barclay blund  \n",
       "4                                                                                                     superhero movie gets good share common cause brexit scottish indy common cause need fight  \n",
       "5                                                         labour promise 2ndref wants soft brexit many people either prefer opposite middle people throw tantrum vote labour back remain 2ndref  \n",
       "7                                                                                                                                                           talk brexit bars budapest full brit  \n",
       "8                                                                                                                                       widdecombe says regrets comparing brexit slavery youtub  \n",
       "...                                                                                                                                                                                         ...  \n",
       "383261                                                                                                                   european parliament tactics trade negotiations read cer eu 2017 brexit  \n",
       "383263                                                      newspaper spent last three years telling world brexit empire nostalgia annoyed british commentators irish election wrong ohtheironi  \n",
       "383265                                                                                   vote mate support club matter also statistic voted parties wanted another referendum notice turn blind  \n",
       "383267  true remainers consider bright bunch done nothing justify accolade past years thick brexiteers rings round truth brexiteers want brexit cost remainers never twigged never able respond  \n",
       "383268                        right vote leave point joke even care happens remain leave people like desperate link every thing brexit real issues left fester things actually affect peoples l  \n",
       "\n",
       "[305304 rows x 7 columns]"
      ]
     },
     "execution_count": 218,
     "metadata": {},
     "output_type": "execute_result"
    }
   ],
   "source": [
    "cdf"
   ]
  },
  {
   "cell_type": "code",
   "execution_count": 219,
   "metadata": {},
   "outputs": [],
   "source": [
    "#df_mb = df_mb[['MONTH_INT', 'MONTH_STR','USERNAME','TEXT','TWEET_PROCESSED','TWEET_CLEANED','PM']]\n",
    "#df_may = df_may[['MONTH_INT','MONTH_STR','USERNAME','TEXT','TWEET_PROCESSED','TWEET_CLEANED','PM']]\n",
    "#df_boris = df_boris[['MONTH_INT','MONTH_STR','USERNAME','TEXT','TWEET_PROCESSED','TWEET_CLEANED','PM']]\n",
    "cdf = cdf[['MONTH_INT','MONTH_STR','USERNAME','TEXT','TWEET_PROCESSED','TWEET_CLEANED','PM']]"
   ]
  },
  {
   "cell_type": "code",
   "execution_count": 221,
   "metadata": {},
   "outputs": [
    {
     "data": {
      "text/plain": [
       "10    36117\n",
       "5     35382\n",
       "11    29216\n",
       "4     25443\n",
       "6     25370\n",
       "9     24441\n",
       "3     24303\n",
       "1     23038\n",
       "2     22275\n",
       "8     20304\n",
       "7     19963\n",
       "12    19452\n",
       "Name: MONTH_INT, dtype: int64"
      ]
     },
     "execution_count": 221,
     "metadata": {},
     "output_type": "execute_result"
    }
   ],
   "source": [
    "cdf.MONTH_INT.value_counts()"
   ]
  },
  {
   "cell_type": "code",
   "execution_count": 223,
   "metadata": {},
   "outputs": [
    {
     "data": {
      "text/plain": [
       "PM             MONTH_INT\n",
       "Boris Johnson  10            3254\n",
       "               11            2376\n",
       "               9             2170\n",
       "               7             1973\n",
       "               8             1513\n",
       "               3             1430\n",
       "               12            1379\n",
       "               6             1316\n",
       "               1              328\n",
       "               2              246\n",
       "               4              216\n",
       "               5              207\n",
       "Theresa May    4             3812\n",
       "               1             2691\n",
       "               12            1869\n",
       "               2             1795\n",
       "               3             1666\n",
       "               5             1031\n",
       "               6              320\n",
       "               7              160\n",
       "               10             120\n",
       "               9              108\n",
       "               11              85\n",
       "               8               78\n",
       "none           5            34144\n",
       "               10           32743\n",
       "               11           26755\n",
       "               6            23734\n",
       "               9            22163\n",
       "               4            21415\n",
       "               3            21207\n",
       "               2            20234\n",
       "               1            20019\n",
       "               8            18713\n",
       "               7            17830\n",
       "               12           16204\n",
       "Name: MONTH_INT, dtype: int64"
      ]
     },
     "execution_count": 223,
     "metadata": {},
     "output_type": "execute_result"
    }
   ],
   "source": [
    "cdf.groupby('PM').MONTH_INT.value_counts()"
   ]
  },
  {
   "cell_type": "code",
   "execution_count": 229,
   "metadata": {},
   "outputs": [],
   "source": [
    "cdf.to_csv('cdf.csv',index=False)"
   ]
  }
 ],
 "metadata": {
  "kernelspec": {
   "display_name": "Python 3",
   "language": "python",
   "name": "python3"
  },
  "language_info": {
   "codemirror_mode": {
    "name": "ipython",
    "version": 3
   },
   "file_extension": ".py",
   "mimetype": "text/x-python",
   "name": "python",
   "nbconvert_exporter": "python",
   "pygments_lexer": "ipython3",
   "version": "3.7.4"
  }
 },
 "nbformat": 4,
 "nbformat_minor": 2
}
